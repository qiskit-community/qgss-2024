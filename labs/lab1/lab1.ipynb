{
 "cells": [
  {
   "cell_type": "code",
   "execution_count": 6,
   "id": "88ae9eaf-2c4b-404c-a6ed-e2e0979eff3f",
   "metadata": {},
   "outputs": [
    {
     "name": "stdout",
     "output_type": "stream",
     "text": [
      "Collecting qiskit==1.1.0 (from qiskit[visualization]==1.1.0)\n",
      "  Using cached qiskit-1.1.0-cp38-abi3-macosx_11_0_arm64.whl.metadata (12 kB)\n",
      "Requirement already satisfied: rustworkx>=0.14.0 in /opt/miniconda3/envs/qiskit/lib/python3.10/site-packages (from qiskit==1.1.0->qiskit[visualization]==1.1.0) (0.14.2)\n",
      "Requirement already satisfied: numpy<3,>=1.17 in /opt/miniconda3/envs/qiskit/lib/python3.10/site-packages (from qiskit==1.1.0->qiskit[visualization]==1.1.0) (1.26.4)\n",
      "Requirement already satisfied: scipy>=1.5 in /opt/miniconda3/envs/qiskit/lib/python3.10/site-packages (from qiskit==1.1.0->qiskit[visualization]==1.1.0) (1.13.1)\n",
      "Requirement already satisfied: sympy>=1.3 in /opt/miniconda3/envs/qiskit/lib/python3.10/site-packages (from qiskit==1.1.0->qiskit[visualization]==1.1.0) (1.12.1)\n",
      "Requirement already satisfied: dill>=0.3 in /opt/miniconda3/envs/qiskit/lib/python3.10/site-packages (from qiskit==1.1.0->qiskit[visualization]==1.1.0) (0.3.8)\n",
      "Requirement already satisfied: python-dateutil>=2.8.0 in /opt/miniconda3/envs/qiskit/lib/python3.10/site-packages (from qiskit==1.1.0->qiskit[visualization]==1.1.0) (2.9.0)\n",
      "Requirement already satisfied: stevedore>=3.0.0 in /opt/miniconda3/envs/qiskit/lib/python3.10/site-packages (from qiskit==1.1.0->qiskit[visualization]==1.1.0) (5.2.0)\n",
      "Requirement already satisfied: typing-extensions in /opt/miniconda3/envs/qiskit/lib/python3.10/site-packages (from qiskit==1.1.0->qiskit[visualization]==1.1.0) (4.12.1)\n",
      "Requirement already satisfied: symengine>=0.11 in /opt/miniconda3/envs/qiskit/lib/python3.10/site-packages (from qiskit==1.1.0->qiskit[visualization]==1.1.0) (0.11.0)\n",
      "Requirement already satisfied: matplotlib>=3.3 in /opt/miniconda3/envs/qiskit/lib/python3.10/site-packages (from qiskit[visualization]==1.1.0) (3.9.0)\n",
      "Requirement already satisfied: pydot in /opt/miniconda3/envs/qiskit/lib/python3.10/site-packages (from qiskit[visualization]==1.1.0) (2.0.0)\n",
      "Requirement already satisfied: Pillow>=4.2.1 in /opt/miniconda3/envs/qiskit/lib/python3.10/site-packages (from qiskit[visualization]==1.1.0) (10.3.0)\n",
      "Requirement already satisfied: pylatexenc>=1.4 in /opt/miniconda3/envs/qiskit/lib/python3.10/site-packages (from qiskit[visualization]==1.1.0) (2.10)\n",
      "Requirement already satisfied: seaborn>=0.9.0 in /opt/miniconda3/envs/qiskit/lib/python3.10/site-packages (from qiskit[visualization]==1.1.0) (0.13.2)\n",
      "Requirement already satisfied: contourpy>=1.0.1 in /opt/miniconda3/envs/qiskit/lib/python3.10/site-packages (from matplotlib>=3.3->qiskit[visualization]==1.1.0) (1.2.1)\n",
      "Requirement already satisfied: cycler>=0.10 in /opt/miniconda3/envs/qiskit/lib/python3.10/site-packages (from matplotlib>=3.3->qiskit[visualization]==1.1.0) (0.12.1)\n",
      "Requirement already satisfied: fonttools>=4.22.0 in /opt/miniconda3/envs/qiskit/lib/python3.10/site-packages (from matplotlib>=3.3->qiskit[visualization]==1.1.0) (4.53.0)\n",
      "Requirement already satisfied: kiwisolver>=1.3.1 in /opt/miniconda3/envs/qiskit/lib/python3.10/site-packages (from matplotlib>=3.3->qiskit[visualization]==1.1.0) (1.4.5)\n",
      "Requirement already satisfied: packaging>=20.0 in /opt/miniconda3/envs/qiskit/lib/python3.10/site-packages (from matplotlib>=3.3->qiskit[visualization]==1.1.0) (24.0)\n",
      "Requirement already satisfied: pyparsing>=2.3.1 in /opt/miniconda3/envs/qiskit/lib/python3.10/site-packages (from matplotlib>=3.3->qiskit[visualization]==1.1.0) (3.1.2)\n",
      "Requirement already satisfied: six>=1.5 in /opt/miniconda3/envs/qiskit/lib/python3.10/site-packages (from python-dateutil>=2.8.0->qiskit==1.1.0->qiskit[visualization]==1.1.0) (1.16.0)\n",
      "Requirement already satisfied: pandas>=1.2 in /opt/miniconda3/envs/qiskit/lib/python3.10/site-packages (from seaborn>=0.9.0->qiskit[visualization]==1.1.0) (2.2.2)\n",
      "Requirement already satisfied: pbr!=2.1.0,>=2.0.0 in /opt/miniconda3/envs/qiskit/lib/python3.10/site-packages (from stevedore>=3.0.0->qiskit==1.1.0->qiskit[visualization]==1.1.0) (6.0.0)\n",
      "Requirement already satisfied: mpmath<1.4.0,>=1.1.0 in /opt/miniconda3/envs/qiskit/lib/python3.10/site-packages (from sympy>=1.3->qiskit==1.1.0->qiskit[visualization]==1.1.0) (1.3.0)\n",
      "Requirement already satisfied: pytz>=2020.1 in /opt/miniconda3/envs/qiskit/lib/python3.10/site-packages (from pandas>=1.2->seaborn>=0.9.0->qiskit[visualization]==1.1.0) (2024.1)\n",
      "Requirement already satisfied: tzdata>=2022.7 in /opt/miniconda3/envs/qiskit/lib/python3.10/site-packages (from pandas>=1.2->seaborn>=0.9.0->qiskit[visualization]==1.1.0) (2024.1)\n",
      "Using cached qiskit-1.1.0-cp38-abi3-macosx_11_0_arm64.whl (4.0 MB)\n",
      "Installing collected packages: qiskit\n",
      "  Attempting uninstall: qiskit\n",
      "    Found existing installation: qiskit 1.0.2\n",
      "    Uninstalling qiskit-1.0.2:\n",
      "      Successfully uninstalled qiskit-1.0.2\n",
      "Successfully installed qiskit-1.1.0\n",
      "Note: you may need to restart the kernel to use updated packages.\n",
      "Requirement already satisfied: qiskit_aer in /opt/miniconda3/envs/qiskit/lib/python3.10/site-packages (0.14.2)\n",
      "Requirement already satisfied: qiskit>=0.45.2 in /opt/miniconda3/envs/qiskit/lib/python3.10/site-packages (from qiskit_aer) (1.1.0)\n",
      "Requirement already satisfied: numpy>=1.16.3 in /opt/miniconda3/envs/qiskit/lib/python3.10/site-packages (from qiskit_aer) (1.26.4)\n",
      "Requirement already satisfied: scipy>=1.0 in /opt/miniconda3/envs/qiskit/lib/python3.10/site-packages (from qiskit_aer) (1.13.1)\n",
      "Requirement already satisfied: psutil>=5 in /opt/miniconda3/envs/qiskit/lib/python3.10/site-packages (from qiskit_aer) (5.9.0)\n",
      "Requirement already satisfied: rustworkx>=0.14.0 in /opt/miniconda3/envs/qiskit/lib/python3.10/site-packages (from qiskit>=0.45.2->qiskit_aer) (0.14.2)\n",
      "Requirement already satisfied: sympy>=1.3 in /opt/miniconda3/envs/qiskit/lib/python3.10/site-packages (from qiskit>=0.45.2->qiskit_aer) (1.12.1)\n",
      "Requirement already satisfied: dill>=0.3 in /opt/miniconda3/envs/qiskit/lib/python3.10/site-packages (from qiskit>=0.45.2->qiskit_aer) (0.3.8)\n",
      "Requirement already satisfied: python-dateutil>=2.8.0 in /opt/miniconda3/envs/qiskit/lib/python3.10/site-packages (from qiskit>=0.45.2->qiskit_aer) (2.9.0)\n",
      "Requirement already satisfied: stevedore>=3.0.0 in /opt/miniconda3/envs/qiskit/lib/python3.10/site-packages (from qiskit>=0.45.2->qiskit_aer) (5.2.0)\n",
      "Requirement already satisfied: typing-extensions in /opt/miniconda3/envs/qiskit/lib/python3.10/site-packages (from qiskit>=0.45.2->qiskit_aer) (4.12.1)\n",
      "Requirement already satisfied: symengine>=0.11 in /opt/miniconda3/envs/qiskit/lib/python3.10/site-packages (from qiskit>=0.45.2->qiskit_aer) (0.11.0)\n",
      "Requirement already satisfied: six>=1.5 in /opt/miniconda3/envs/qiskit/lib/python3.10/site-packages (from python-dateutil>=2.8.0->qiskit>=0.45.2->qiskit_aer) (1.16.0)\n",
      "Requirement already satisfied: pbr!=2.1.0,>=2.0.0 in /opt/miniconda3/envs/qiskit/lib/python3.10/site-packages (from stevedore>=3.0.0->qiskit>=0.45.2->qiskit_aer) (6.0.0)\n",
      "Requirement already satisfied: mpmath<1.4.0,>=1.1.0 in /opt/miniconda3/envs/qiskit/lib/python3.10/site-packages (from sympy>=1.3->qiskit>=0.45.2->qiskit_aer) (1.3.0)\n",
      "Note: you may need to restart the kernel to use updated packages.\n",
      "Requirement already satisfied: qiskit_ibm_runtime in /opt/miniconda3/envs/qiskit/lib/python3.10/site-packages (0.23.0)\n",
      "Requirement already satisfied: requests>=2.19 in /opt/miniconda3/envs/qiskit/lib/python3.10/site-packages (from qiskit_ibm_runtime) (2.32.2)\n",
      "Requirement already satisfied: requests-ntlm>=1.1.0 in /opt/miniconda3/envs/qiskit/lib/python3.10/site-packages (from qiskit_ibm_runtime) (1.3.0)\n",
      "Requirement already satisfied: numpy>=1.13 in /opt/miniconda3/envs/qiskit/lib/python3.10/site-packages (from qiskit_ibm_runtime) (1.26.4)\n",
      "Requirement already satisfied: urllib3>=1.21.1 in /opt/miniconda3/envs/qiskit/lib/python3.10/site-packages (from qiskit_ibm_runtime) (2.2.1)\n",
      "Requirement already satisfied: python-dateutil>=2.8.0 in /opt/miniconda3/envs/qiskit/lib/python3.10/site-packages (from qiskit_ibm_runtime) (2.9.0)\n",
      "Requirement already satisfied: websocket-client>=1.5.1 in /opt/miniconda3/envs/qiskit/lib/python3.10/site-packages (from qiskit_ibm_runtime) (1.8.0)\n",
      "Requirement already satisfied: ibm-platform-services>=0.22.6 in /opt/miniconda3/envs/qiskit/lib/python3.10/site-packages (from qiskit_ibm_runtime) (0.53.7)\n",
      "Requirement already satisfied: pydantic in /opt/miniconda3/envs/qiskit/lib/python3.10/site-packages (from qiskit_ibm_runtime) (2.7.4)\n",
      "Requirement already satisfied: qiskit>=1.0.0 in /opt/miniconda3/envs/qiskit/lib/python3.10/site-packages (from qiskit_ibm_runtime) (1.1.0)\n",
      "Requirement already satisfied: ibm-cloud-sdk-core<4.0.0,>=3.19.2 in /opt/miniconda3/envs/qiskit/lib/python3.10/site-packages (from ibm-platform-services>=0.22.6->qiskit_ibm_runtime) (3.20.1)\n",
      "Requirement already satisfied: six>=1.5 in /opt/miniconda3/envs/qiskit/lib/python3.10/site-packages (from python-dateutil>=2.8.0->qiskit_ibm_runtime) (1.16.0)\n",
      "Requirement already satisfied: rustworkx>=0.14.0 in /opt/miniconda3/envs/qiskit/lib/python3.10/site-packages (from qiskit>=1.0.0->qiskit_ibm_runtime) (0.14.2)\n",
      "Requirement already satisfied: scipy>=1.5 in /opt/miniconda3/envs/qiskit/lib/python3.10/site-packages (from qiskit>=1.0.0->qiskit_ibm_runtime) (1.13.1)\n",
      "Requirement already satisfied: sympy>=1.3 in /opt/miniconda3/envs/qiskit/lib/python3.10/site-packages (from qiskit>=1.0.0->qiskit_ibm_runtime) (1.12.1)\n",
      "Requirement already satisfied: dill>=0.3 in /opt/miniconda3/envs/qiskit/lib/python3.10/site-packages (from qiskit>=1.0.0->qiskit_ibm_runtime) (0.3.8)\n",
      "Requirement already satisfied: stevedore>=3.0.0 in /opt/miniconda3/envs/qiskit/lib/python3.10/site-packages (from qiskit>=1.0.0->qiskit_ibm_runtime) (5.2.0)\n",
      "Requirement already satisfied: typing-extensions in /opt/miniconda3/envs/qiskit/lib/python3.10/site-packages (from qiskit>=1.0.0->qiskit_ibm_runtime) (4.12.1)\n",
      "Requirement already satisfied: symengine>=0.11 in /opt/miniconda3/envs/qiskit/lib/python3.10/site-packages (from qiskit>=1.0.0->qiskit_ibm_runtime) (0.11.0)\n",
      "Requirement already satisfied: charset-normalizer<4,>=2 in /opt/miniconda3/envs/qiskit/lib/python3.10/site-packages (from requests>=2.19->qiskit_ibm_runtime) (3.3.2)\n",
      "Requirement already satisfied: idna<4,>=2.5 in /opt/miniconda3/envs/qiskit/lib/python3.10/site-packages (from requests>=2.19->qiskit_ibm_runtime) (3.7)\n",
      "Requirement already satisfied: certifi>=2017.4.17 in /opt/miniconda3/envs/qiskit/lib/python3.10/site-packages (from requests>=2.19->qiskit_ibm_runtime) (2024.6.2)\n",
      "Requirement already satisfied: cryptography>=1.3 in /opt/miniconda3/envs/qiskit/lib/python3.10/site-packages (from requests-ntlm>=1.1.0->qiskit_ibm_runtime) (42.0.8)\n",
      "Requirement already satisfied: pyspnego>=0.4.0 in /opt/miniconda3/envs/qiskit/lib/python3.10/site-packages (from requests-ntlm>=1.1.0->qiskit_ibm_runtime) (0.11.0)\n",
      "Requirement already satisfied: annotated-types>=0.4.0 in /opt/miniconda3/envs/qiskit/lib/python3.10/site-packages (from pydantic->qiskit_ibm_runtime) (0.7.0)\n",
      "Requirement already satisfied: pydantic-core==2.18.4 in /opt/miniconda3/envs/qiskit/lib/python3.10/site-packages (from pydantic->qiskit_ibm_runtime) (2.18.4)\n",
      "Requirement already satisfied: cffi>=1.12 in /opt/miniconda3/envs/qiskit/lib/python3.10/site-packages (from cryptography>=1.3->requests-ntlm>=1.1.0->qiskit_ibm_runtime) (1.16.0)\n",
      "Requirement already satisfied: PyJWT<3.0.0,>=2.8.0 in /opt/miniconda3/envs/qiskit/lib/python3.10/site-packages (from ibm-cloud-sdk-core<4.0.0,>=3.19.2->ibm-platform-services>=0.22.6->qiskit_ibm_runtime) (2.8.0)\n",
      "Requirement already satisfied: pbr!=2.1.0,>=2.0.0 in /opt/miniconda3/envs/qiskit/lib/python3.10/site-packages (from stevedore>=3.0.0->qiskit>=1.0.0->qiskit_ibm_runtime) (6.0.0)\n",
      "Requirement already satisfied: mpmath<1.4.0,>=1.1.0 in /opt/miniconda3/envs/qiskit/lib/python3.10/site-packages (from sympy>=1.3->qiskit>=1.0.0->qiskit_ibm_runtime) (1.3.0)\n",
      "Requirement already satisfied: pycparser in /opt/miniconda3/envs/qiskit/lib/python3.10/site-packages (from cffi>=1.12->cryptography>=1.3->requests-ntlm>=1.1.0->qiskit_ibm_runtime) (2.22)\n",
      "Note: you may need to restart the kernel to use updated packages.\n",
      "Requirement already satisfied: matplotlib in /opt/miniconda3/envs/qiskit/lib/python3.10/site-packages (3.9.0)\n",
      "Requirement already satisfied: contourpy>=1.0.1 in /opt/miniconda3/envs/qiskit/lib/python3.10/site-packages (from matplotlib) (1.2.1)\n",
      "Requirement already satisfied: cycler>=0.10 in /opt/miniconda3/envs/qiskit/lib/python3.10/site-packages (from matplotlib) (0.12.1)\n",
      "Requirement already satisfied: fonttools>=4.22.0 in /opt/miniconda3/envs/qiskit/lib/python3.10/site-packages (from matplotlib) (4.53.0)\n",
      "Requirement already satisfied: kiwisolver>=1.3.1 in /opt/miniconda3/envs/qiskit/lib/python3.10/site-packages (from matplotlib) (1.4.5)\n",
      "Requirement already satisfied: numpy>=1.23 in /opt/miniconda3/envs/qiskit/lib/python3.10/site-packages (from matplotlib) (1.26.4)\n",
      "Requirement already satisfied: packaging>=20.0 in /opt/miniconda3/envs/qiskit/lib/python3.10/site-packages (from matplotlib) (24.0)\n",
      "Requirement already satisfied: pillow>=8 in /opt/miniconda3/envs/qiskit/lib/python3.10/site-packages (from matplotlib) (10.3.0)\n",
      "Requirement already satisfied: pyparsing>=2.3.1 in /opt/miniconda3/envs/qiskit/lib/python3.10/site-packages (from matplotlib) (3.1.2)\n",
      "Requirement already satisfied: python-dateutil>=2.7 in /opt/miniconda3/envs/qiskit/lib/python3.10/site-packages (from matplotlib) (2.9.0)\n",
      "Requirement already satisfied: six>=1.5 in /opt/miniconda3/envs/qiskit/lib/python3.10/site-packages (from python-dateutil>=2.7->matplotlib) (1.16.0)\n",
      "Note: you may need to restart the kernel to use updated packages.\n",
      "Requirement already satisfied: pylatexenc in /opt/miniconda3/envs/qiskit/lib/python3.10/site-packages (2.10)\n",
      "Note: you may need to restart the kernel to use updated packages.\n",
      "Collecting prototype-zne\n",
      "  Using cached prototype_zne-1.3.1-py3-none-any.whl.metadata (11 kB)\n",
      "Requirement already satisfied: qiskit>=0.45.1 in /opt/miniconda3/envs/qiskit/lib/python3.10/site-packages (from prototype-zne) (1.1.0)\n",
      "Requirement already satisfied: rustworkx>=0.14.0 in /opt/miniconda3/envs/qiskit/lib/python3.10/site-packages (from qiskit>=0.45.1->prototype-zne) (0.14.2)\n",
      "Requirement already satisfied: numpy<3,>=1.17 in /opt/miniconda3/envs/qiskit/lib/python3.10/site-packages (from qiskit>=0.45.1->prototype-zne) (1.26.4)\n",
      "Requirement already satisfied: scipy>=1.5 in /opt/miniconda3/envs/qiskit/lib/python3.10/site-packages (from qiskit>=0.45.1->prototype-zne) (1.13.1)\n",
      "Requirement already satisfied: sympy>=1.3 in /opt/miniconda3/envs/qiskit/lib/python3.10/site-packages (from qiskit>=0.45.1->prototype-zne) (1.12.1)\n",
      "Requirement already satisfied: dill>=0.3 in /opt/miniconda3/envs/qiskit/lib/python3.10/site-packages (from qiskit>=0.45.1->prototype-zne) (0.3.8)\n",
      "Requirement already satisfied: python-dateutil>=2.8.0 in /opt/miniconda3/envs/qiskit/lib/python3.10/site-packages (from qiskit>=0.45.1->prototype-zne) (2.9.0)\n",
      "Requirement already satisfied: stevedore>=3.0.0 in /opt/miniconda3/envs/qiskit/lib/python3.10/site-packages (from qiskit>=0.45.1->prototype-zne) (5.2.0)\n",
      "Requirement already satisfied: typing-extensions in /opt/miniconda3/envs/qiskit/lib/python3.10/site-packages (from qiskit>=0.45.1->prototype-zne) (4.12.1)\n",
      "Requirement already satisfied: symengine>=0.11 in /opt/miniconda3/envs/qiskit/lib/python3.10/site-packages (from qiskit>=0.45.1->prototype-zne) (0.11.0)\n",
      "Requirement already satisfied: six>=1.5 in /opt/miniconda3/envs/qiskit/lib/python3.10/site-packages (from python-dateutil>=2.8.0->qiskit>=0.45.1->prototype-zne) (1.16.0)\n",
      "Requirement already satisfied: pbr!=2.1.0,>=2.0.0 in /opt/miniconda3/envs/qiskit/lib/python3.10/site-packages (from stevedore>=3.0.0->qiskit>=0.45.1->prototype-zne) (6.0.0)\n",
      "Requirement already satisfied: mpmath<1.4.0,>=1.1.0 in /opt/miniconda3/envs/qiskit/lib/python3.10/site-packages (from sympy>=1.3->qiskit>=0.45.1->prototype-zne) (1.3.0)\n",
      "Using cached prototype_zne-1.3.1-py3-none-any.whl (56 kB)\n",
      "Installing collected packages: prototype-zne\n",
      "Successfully installed prototype-zne-1.3.1\n",
      "Note: you may need to restart the kernel to use updated packages.\n",
      "Collecting git+https://github.com/qiskit-community/Quantum-Challenge-Grader.git\n",
      "  Cloning https://github.com/qiskit-community/Quantum-Challenge-Grader.git to /private/var/folders/6f/cbp3902n34v_x6wlnhvwbprh0000gn/T/pip-req-build-7eszobv7\n",
      "  Running command git clone --filter=blob:none --quiet https://github.com/qiskit-community/Quantum-Challenge-Grader.git /private/var/folders/6f/cbp3902n34v_x6wlnhvwbprh0000gn/T/pip-req-build-7eszobv7\n",
      "  Resolved https://github.com/qiskit-community/Quantum-Challenge-Grader.git to commit bcaff898473fd54f3e2668f162817947787f7268\n",
      "  Preparing metadata (setup.py) ... \u001b[?25ldone\n",
      "\u001b[?25hRequirement already satisfied: typeguard in /opt/miniconda3/envs/qiskit/lib/python3.10/site-packages (from qc_grader==0.19.7) (4.3.0)\n",
      "Requirement already satisfied: jsonpickle==3.0.3 in /opt/miniconda3/envs/qiskit/lib/python3.10/site-packages (from qc_grader==0.19.7) (3.0.3)\n",
      "Requirement already satisfied: ipycytoscape in /opt/miniconda3/envs/qiskit/lib/python3.10/site-packages (from qc_grader==0.19.7) (1.3.3)\n",
      "Requirement already satisfied: plotly in /opt/miniconda3/envs/qiskit/lib/python3.10/site-packages (from qc_grader==0.19.7) (5.22.0)\n",
      "Requirement already satisfied: networkx==3.2.1 in /opt/miniconda3/envs/qiskit/lib/python3.10/site-packages (from qc_grader==0.19.7) (3.2.1)\n",
      "Requirement already satisfied: graphviz in /opt/miniconda3/envs/qiskit/lib/python3.10/site-packages (from qc_grader==0.19.7) (0.20.3)\n",
      "Requirement already satisfied: ipywidgets>=7.6.0 in /opt/miniconda3/envs/qiskit/lib/python3.10/site-packages (from ipycytoscape->qc_grader==0.19.7) (8.1.3)\n",
      "Requirement already satisfied: spectate>=1.0.0 in /opt/miniconda3/envs/qiskit/lib/python3.10/site-packages (from ipycytoscape->qc_grader==0.19.7) (1.0.1)\n",
      "Requirement already satisfied: tenacity>=6.2.0 in /opt/miniconda3/envs/qiskit/lib/python3.10/site-packages (from plotly->qc_grader==0.19.7) (8.3.0)\n",
      "Requirement already satisfied: packaging in /opt/miniconda3/envs/qiskit/lib/python3.10/site-packages (from plotly->qc_grader==0.19.7) (24.0)\n",
      "Requirement already satisfied: typing-extensions>=4.10.0 in /opt/miniconda3/envs/qiskit/lib/python3.10/site-packages (from typeguard->qc_grader==0.19.7) (4.12.1)\n",
      "Requirement already satisfied: comm>=0.1.3 in /opt/miniconda3/envs/qiskit/lib/python3.10/site-packages (from ipywidgets>=7.6.0->ipycytoscape->qc_grader==0.19.7) (0.2.2)\n",
      "Requirement already satisfied: ipython>=6.1.0 in /opt/miniconda3/envs/qiskit/lib/python3.10/site-packages (from ipywidgets>=7.6.0->ipycytoscape->qc_grader==0.19.7) (8.25.0)\n",
      "Requirement already satisfied: traitlets>=4.3.1 in /opt/miniconda3/envs/qiskit/lib/python3.10/site-packages (from ipywidgets>=7.6.0->ipycytoscape->qc_grader==0.19.7) (5.14.3)\n",
      "Requirement already satisfied: widgetsnbextension~=4.0.11 in /opt/miniconda3/envs/qiskit/lib/python3.10/site-packages (from ipywidgets>=7.6.0->ipycytoscape->qc_grader==0.19.7) (4.0.11)\n",
      "Requirement already satisfied: jupyterlab-widgets~=3.0.11 in /opt/miniconda3/envs/qiskit/lib/python3.10/site-packages (from ipywidgets>=7.6.0->ipycytoscape->qc_grader==0.19.7) (3.0.11)\n",
      "Requirement already satisfied: decorator in /opt/miniconda3/envs/qiskit/lib/python3.10/site-packages (from ipython>=6.1.0->ipywidgets>=7.6.0->ipycytoscape->qc_grader==0.19.7) (5.1.1)\n",
      "Requirement already satisfied: jedi>=0.16 in /opt/miniconda3/envs/qiskit/lib/python3.10/site-packages (from ipython>=6.1.0->ipywidgets>=7.6.0->ipycytoscape->qc_grader==0.19.7) (0.19.1)\n",
      "Requirement already satisfied: matplotlib-inline in /opt/miniconda3/envs/qiskit/lib/python3.10/site-packages (from ipython>=6.1.0->ipywidgets>=7.6.0->ipycytoscape->qc_grader==0.19.7) (0.1.7)\n",
      "Requirement already satisfied: prompt-toolkit<3.1.0,>=3.0.41 in /opt/miniconda3/envs/qiskit/lib/python3.10/site-packages (from ipython>=6.1.0->ipywidgets>=7.6.0->ipycytoscape->qc_grader==0.19.7) (3.0.42)\n",
      "Requirement already satisfied: pygments>=2.4.0 in /opt/miniconda3/envs/qiskit/lib/python3.10/site-packages (from ipython>=6.1.0->ipywidgets>=7.6.0->ipycytoscape->qc_grader==0.19.7) (2.18.0)\n",
      "Requirement already satisfied: stack-data in /opt/miniconda3/envs/qiskit/lib/python3.10/site-packages (from ipython>=6.1.0->ipywidgets>=7.6.0->ipycytoscape->qc_grader==0.19.7) (0.6.2)\n",
      "Requirement already satisfied: exceptiongroup in /opt/miniconda3/envs/qiskit/lib/python3.10/site-packages (from ipython>=6.1.0->ipywidgets>=7.6.0->ipycytoscape->qc_grader==0.19.7) (1.2.0)\n",
      "Requirement already satisfied: pexpect>4.3 in /opt/miniconda3/envs/qiskit/lib/python3.10/site-packages (from ipython>=6.1.0->ipywidgets>=7.6.0->ipycytoscape->qc_grader==0.19.7) (4.9.0)\n",
      "Requirement already satisfied: parso<0.9.0,>=0.8.3 in /opt/miniconda3/envs/qiskit/lib/python3.10/site-packages (from jedi>=0.16->ipython>=6.1.0->ipywidgets>=7.6.0->ipycytoscape->qc_grader==0.19.7) (0.8.4)\n",
      "Requirement already satisfied: ptyprocess>=0.5 in /opt/miniconda3/envs/qiskit/lib/python3.10/site-packages (from pexpect>4.3->ipython>=6.1.0->ipywidgets>=7.6.0->ipycytoscape->qc_grader==0.19.7) (0.7.0)\n",
      "Requirement already satisfied: wcwidth in /opt/miniconda3/envs/qiskit/lib/python3.10/site-packages (from prompt-toolkit<3.1.0,>=3.0.41->ipython>=6.1.0->ipywidgets>=7.6.0->ipycytoscape->qc_grader==0.19.7) (0.2.13)\n",
      "Requirement already satisfied: executing>=1.2.0 in /opt/miniconda3/envs/qiskit/lib/python3.10/site-packages (from stack-data->ipython>=6.1.0->ipywidgets>=7.6.0->ipycytoscape->qc_grader==0.19.7) (2.0.1)\n",
      "Requirement already satisfied: asttokens>=2.1.0 in /opt/miniconda3/envs/qiskit/lib/python3.10/site-packages (from stack-data->ipython>=6.1.0->ipywidgets>=7.6.0->ipycytoscape->qc_grader==0.19.7) (2.4.1)\n",
      "Requirement already satisfied: pure-eval in /opt/miniconda3/envs/qiskit/lib/python3.10/site-packages (from stack-data->ipython>=6.1.0->ipywidgets>=7.6.0->ipycytoscape->qc_grader==0.19.7) (0.2.2)\n",
      "Requirement already satisfied: six>=1.12.0 in /opt/miniconda3/envs/qiskit/lib/python3.10/site-packages (from asttokens>=2.1.0->stack-data->ipython>=6.1.0->ipywidgets>=7.6.0->ipycytoscape->qc_grader==0.19.7) (1.16.0)\n",
      "Note: you may need to restart the kernel to use updated packages.\n"
     ]
    }
   ],
   "source": [
    "# !pip install qiskit[visualization]==1.1.0\n",
    "# Use the following if you are on MacOS/zsh\n",
    "%pip install 'qiskit[visualization]'==1.1.0\n",
    "%pip install qiskit_aer\n",
    "%pip install qiskit_ibm_runtime\n",
    "%pip install matplotlib\n",
    "%pip install pylatexenc\n",
    "%pip install prototype-zne\n",
    "%pip install git+https://github.com/qiskit-community/Quantum-Challenge-Grader.git"
   ]
  },
  {
   "cell_type": "code",
   "execution_count": 1,
   "id": "6b5e1430-c89e-4865-a948-4d253bb781b8",
   "metadata": {},
   "outputs": [
    {
     "name": "stdout",
     "output_type": "stream",
     "text": [
      "env: QXToken=0c14eb8209f4710806cfaf17b732944cdf976aad4c9260d993cfec3e5405a44351608d0c7aa6e2e5148394235056a75e5e8bcd65a9d76720b36e91a45e20d930\n"
     ]
    }
   ],
   "source": [
    "### Save API Token, if needed\n",
    "%set_env QXToken=0c14eb8209f4710806cfaf17b732944cdf976aad4c9260d993cfec3e5405a44351608d0c7aa6e2e5148394235056a75e5e8bcd65a9d76720b36e91a45e20d930\n",
    "# Make sure there is no space between the equal sign\n",
    "# and the beginning of your token\n",
    "# Make sure you do NOT ADD QUOTATION MARKS!!!!"
   ]
  },
  {
   "cell_type": "code",
   "execution_count": 2,
   "id": "43a67647-7ace-4f47-8c15-ca084707cfa9",
   "metadata": {},
   "outputs": [],
   "source": [
    "# import of required libraries and modules\n",
    "from qc_grader.challenges.qgss_2024 import *\n",
    "\n",
    "from math import pi\n",
    "from qiskit.circuit.library import QFT\n",
    "from qiskit.providers.fake_provider import GenericBackendV2, generic_backend_v2\n",
    "generic_backend_v2._NOISE_DEFAULTS[\"cx\"] = (5.99988e-06, 6.99988e-06, 1e-5, 5e-3)\n",
    "\n",
    "from qiskit import transpile, QuantumCircuit\n",
    "from qiskit.circuit import Gate\n",
    "from qiskit.converters import circuit_to_dag\n",
    "from qiskit.transpiler import CouplingMap, StagedPassManager, PassManager, AnalysisPass, TransformationPass\n",
    "from qiskit.transpiler.preset_passmanagers import generate_preset_pass_manager\n",
    "from qiskit.transpiler.preset_passmanagers.common import generate_unroll_3q, generate_embed_passmanager\n",
    "from qiskit.quantum_info import hellinger_fidelity\n",
    "from qiskit.providers.basic_provider import BasicSimulator\n",
    "from qiskit.dagcircuit import DAGCircuit\n",
    "from qiskit_ibm_runtime.fake_provider import FakeTorino\n",
    "\n",
    "# Transpiler Passes\n",
    "## Layout passes\n",
    "from qiskit.transpiler.passes.layout.csp_layout import CSPLayout\n",
    "from qiskit.transpiler.passes.layout.dense_layout import DenseLayout\n",
    "from qiskit.transpiler.passes.layout.sabre_layout import SabreLayout\n",
    "from qiskit.transpiler.passes.layout.vf2_layout import VF2Layout\n",
    "from qiskit.transpiler.passes.layout.trivial_layout import TrivialLayout\n",
    "\n",
    "## Routing passes\n",
    "from qiskit.transpiler.passes.routing.basic_swap import BasicSwap\n",
    "from qiskit.transpiler.passes.routing.lookahead_swap import LookaheadSwap\n",
    "from qiskit.transpiler.passes.routing.sabre_swap import SabreSwap\n",
    "from qiskit.transpiler.passes.routing.stochastic_swap import StochasticSwap\n",
    "from qiskit.transpiler.passes.routing.star_prerouting import StarPreRouting\n",
    "\n",
    "## Synthesis passes (passes for the translation stage)\n",
    "from qiskit.circuit import SessionEquivalenceLibrary\n",
    "from qiskit.circuit.equivalence_library import SessionEquivalenceLibrary\n",
    "from qiskit.transpiler.passes.basis.basis_translator import BasisTranslator\n",
    "from qiskit.transpiler.passes.synthesis.high_level_synthesis import HighLevelSynthesis\n",
    "### The next pass could also be considered an optimization pass.\n",
    "from qiskit.transpiler.passes.synthesis.unitary_synthesis import UnitarySynthesis\n",
    "\n",
    "## Optimization passes\n",
    "from qiskit.transpiler.passes.optimization.collect_1q_runs import Collect1qRuns\n",
    "from qiskit.transpiler.passes.optimization.collect_2q_blocks import Collect2qBlocks\n",
    "from qiskit.transpiler.passes.optimization.consolidate_blocks import ConsolidateBlocks\n",
    "from qiskit.transpiler.passes.optimization.commutative_cancellation import CommutativeCancellation"
   ]
  },
  {
   "cell_type": "markdown",
   "id": "31089ff2-720d-441c-ba23-22d6c52a4222",
   "metadata": {},
   "source": [
    "# IBM's Qiskit Global Summer School 2024\n",
    "\n",
    "## Lab 1 - Quantum Circuit Transpilation\n",
    "\n",
    "This lab will show you how to work with Qiskit's transpilation capabilities in order to generate hardware-compliant quantum circuits for a given quantum algorithm. Specifically, this lab introduces you to the different aspects of transpilation before highlighting the adapatability of Qiskit's transpilation and demonstrating how to create your own transpilation passes.\n"
   ]
  },
  {
   "cell_type": "markdown",
   "id": "679035aa-4591-49bd-9755-de14aa4416f0",
   "metadata": {},
   "source": [
    "### Part 1: Transpilation\n",
    "\n",
    "Transpilation transforms a (potentially abstract) quantum computation to a *physical* quantum circuit that is compliant to a given quantum computer, i.e. can directly be executed by a suitable device (also called an [ISA circuit](https://www.ibm.com/quantum/blog/isa-circuits)).\n",
    "In order to yield a hardware-compliant quantum circuit, transpilation must define for each time step which physical resource of a quantum computer is performing what computation while considering that typically only a subset of qubits can interact in a specific way.\n",
    "This process is divided into two tasks:\n",
    "* Synthesis translates the quantum gates in an input quantum circuit to the set of quantum gates supported by the target quantum computer. The set of quantum gates supported by a target quantum computer is also called *basis gate set*. \n",
    "* Routing assigns the qubits of a quantum circuit to the qubits of a quantum computer in each time step. Whenever the qubit assignment changes, additional operations such as swap gates must be inserted into the quantum circuit. When the target quantum computer has a restricted *qubit connectivity*, the qubit assignment must change often to ensure that each quantum gate is only performed on qubits that are connected, i.e. qubits that can interact with each other. \n",
    "\n",
    "The transpilation process additionally optimizes the physical quantum circuit to increase the probability of obtaining the correct result.\n",
    "This optimization step typically improves *characteristics* such as the size or duration of a physical quantum circuit given e.g. in number of quantum gates.\n",
    "\n",
    "For demonstration purposes, we will be working on small quantum circuits for most of this lab."
   ]
  },
  {
   "cell_type": "markdown",
   "id": "63ca0005-ba9b-497b-9b70-9d0abfdc757d",
   "metadata": {},
   "source": [
    "Let us now generate an abstract quantum Fouriert transformation (QFT) circuit that should be transpiled to an IBM Quantum computer.\n",
    "The quantum Fourier transformation is relevant in quantum computation as it yields exponential runtime speedups compared to the classical discrete Fourier transformation and is also included in Shor's algorithm for polynomial-time integer factorization."
   ]
  },
  {
   "cell_type": "code",
   "execution_count": 5,
   "id": "69338bee-80fc-4efa-810f-97abc9ce48cd",
   "metadata": {},
   "outputs": [
    {
     "data": {
      "image/png": "[encoded data removed]",
      "text/plain": [
       "<Figure size 203.885x869.556 with 1 Axes>"
      ]
     },
     "execution_count": 5,
     "metadata": {},
     "output_type": "execute_result"
    }
   ],
   "source": [
    "# get an abstract quantum circuit from Qiskit's library of circuits \n",
    "num_qubits = 10\n",
    "qc = QFT(num_qubits, do_swaps=False)\n",
    "qc.draw(\"mpl\")"
   ]
  },
  {
   "cell_type": "markdown",
   "id": "db2535d0-a5cf-4468-99a9-de7cff56ac68",
   "metadata": {},
   "source": [
    "#### Exercise 1a: Retrieving Information about a Quantum Circuit\n",
    "In this exercise, a function `get_qc_characteristics` should be defined that determines relevant characterstics of a quantum circuit such the number of qubits required by a quantum circuit (to be stored in the variable `num_qubits`), the number and type of quantum gates (to be stored in the variable `ops`), the depth of a quantum circuit (to be stored in the variable `depth`) and the number of multi-qubit operations (to be stored in the variable `num_multi_qubit_ops`).\n",
    "The depth of a quantum circuit indicates the time required to executed a quantum circuit on a quantum computer and is defined as the longest chain of quantum gates from the start to the end of a quantum circuit that need to be computed consecutively."
   ]
  },
  {
   "cell_type": "code",
   "execution_count": 31,
   "id": "744f4bcc-7c65-4ccd-a8f4-ad6b586cfef8",
   "metadata": {},
   "outputs": [
    {
     "data": {
      "text/plain": [
       "{'depth': 1,\n",
       " 'num_qubits': 10,\n",
       " 'ops': OrderedDict([('QFT', 1)]),\n",
       " 'num_multi_qubit_ops': 1}"
      ]
     },
     "execution_count": 31,
     "metadata": {},
     "output_type": "execute_result"
    }
   ],
   "source": [
    "#Hint: see https://docs.quantum.ibm.com/api/qiskit/qiskit.circuit.QuantumCircuit\n",
    "def get_qc_characteristics(qc):\n",
    "    # Your work goes here!\n",
    "    # determine the quantum circuit depth of `qc` and assign it to `depth`\n",
    "    depth = qc.depth()\n",
    "    # determine the number of qubits in `qc` and assign it to `num_qubits`    \n",
    "    num_qubits = qc.num_qubits\n",
    "    # determine the operations in `qc` and assign it to `ops`\n",
    "    ops = qc.count_ops()\n",
    "    # determine the number of n-qubit operations (with n larger than 1) in `qc` and assign it to `num_multi_qubit_ops`, \n",
    "    num_multi_qubit_ops = qc.num_nonlocal_gates()\n",
    "    # do not modify the next line\n",
    "    return {\"depth\":depth, \"num_qubits\":num_qubits, \"ops\":ops, \"num_multi_qubit_ops\": num_multi_qubit_ops}    \n",
    "\n",
    "get_qc_characteristics(qc)\n"
   ]
  },
  {
   "cell_type": "code",
   "execution_count": 32,
   "id": "b5d06854-2df8-4cbe-b0bd-342747e9ea0f",
   "metadata": {},
   "outputs": [
    {
     "name": "stdout",
     "output_type": "stream",
     "text": [
      "Submitting your answer. Please wait...\n",
      "Congratulations 🎉! Your answer is correct and has been submitted.\n"
     ]
    }
   ],
   "source": [
    "# Grade your work!\n",
    "grade_lab1_ex1(get_qc_characteristics)"
   ]
  },
  {
   "cell_type": "code",
   "execution_count": 33,
   "id": "74949e99-0b8b-41f6-8ee6-1a557868aede",
   "metadata": {},
   "outputs": [
    {
     "name": "stdout",
     "output_type": "stream",
     "text": [
      "Quantum circuit characteristics\n",
      "  Depth: 1\n",
      "  Number of qubits: 10\n",
      "  Operations: {'QFT': 1}\n",
      "  Number of multi-qubit Operations: 1\n"
     ]
    }
   ],
   "source": [
    "# print quantum circuit characteristics\n",
    "def print_qc_characteristics(qc):\n",
    "    characteristics = get_qc_characteristics(qc)\n",
    "    print(\"Quantum circuit characteristics\")\n",
    "    print(\"  Depth:\", characteristics['depth'])\n",
    "    print(\"  Number of qubits:\", characteristics['num_qubits'])\n",
    "    print(\"  Operations:\", dict(characteristics['ops']))\n",
    "    print(\"  Number of multi-qubit Operations:\", characteristics['num_multi_qubit_ops'])\n",
    "    \n",
    "print_qc_characteristics(qc)"
   ]
  },
  {
   "cell_type": "markdown",
   "id": "b3c50029-7a2f-4133-bf3b-15b5d36a3983",
   "metadata": {},
   "source": [
    "This quantum circuit is not hardware-compliant as it contains one single operations called QFT defined over `num_qubits` qubits with a depth of one gate.\n",
    "The quantum circuit is not hardware-compliant because it requires a target quantum computer to support one QFT operation that requires `num_qubits` qubits to interact at once. \n",
    "Currently, no quantum computer include such a QFT operation in their basis gate set.\n",
    "Instead, such an operation must be translated to the basis gate set of the target quantum computer.\n"
   ]
  },
  {
   "cell_type": "markdown",
   "id": "bb084c34-6a86-47ed-8e7e-412f6e4c3511",
   "metadata": {},
   "source": [
    "#### Exercises 1b and 1c: Synthesis and Routing using Qiskit's Default Transpilation"
   ]
  },
  {
   "cell_type": "markdown",
   "id": "d154e93c-cf05-4bfa-ad82-0193505a62d9",
   "metadata": {},
   "source": [
    "We can go one step further and examine Qiskit's standard decomposition of QFT:"
   ]
  },
  {
   "cell_type": "code",
   "execution_count": 34,
   "id": "f6555518-4b17-48d5-89fe-429609365368",
   "metadata": {},
   "outputs": [
    {
     "data": {
      "text/html": [
       "<pre style=\"word-wrap: normal;white-space: pre;background: #fff0;line-height: 1.1;font-family: &quot;Courier New&quot;,Courier,monospace\">                                                                                                                                                                                                                                                                                                                                                                                                                                                                                                  ┌───┐\n",
       "q_0: ────────────────────────────────────────────────────────────────────────────────────────────────────────────────────────────────────────────────────────────────────────────────────────────────────────────────────────────────────────────────────────────────■────────────────────────────────────────────■──────────────────────────────────────■──────────────────────────────────■───────────────────────────■───────────────────────■──────────────────■─────────────■────────■───────┤ H ├\n",
       "                                                                                                                                                                                                                                                                     │                                            │                                      │                                  │                           │                       │                  │       ┌───┐ │        │P(π/2) └───┘\n",
       "q_1: ──────────────────────────────────────────────────────────────────────────────────────────────────────────────────────────────────────────────────────────────────────────────────────────────────────────────■──────────────────────────────────────■──────────┼──────────────────────────────────■─────────┼────────────────────────────■─────────┼────────────────────────■─────────┼──────────────────■────────┼──────────────■────────┼─────────■────────┼───────┤ H ├─┼────────■────────────\n",
       "                                                                                                                                                                                                                   │                                      │          │                                  │         │                            │         │                        │         │                  │        │        ┌───┐ │        │         │P(π/2)  │       └───┘ │P(π/4)               \n",
       "q_2: ─────────────────────────────────────────────────────────────────────────────────────────────────────────────────────────────────────────────────────────────────■──────────────────────────────────■─────────┼────────────────────────────■─────────┼──────────┼────────────────────────■─────────┼─────────┼───────────────────■────────┼─────────┼───────────────■────────┼─────────┼─────────■────────┼────────┼────────┤ H ├─┼────────┼─────────■────────┼─────────────■─────────────────────\n",
       "                                                                                                                                                                      │                                  │         │                            │         │          │                        │         │         │                   │        │         │         ┌───┐ │        │         │         │P(π/2)  │        │        └───┘ │P(π/4)  │                  │P(π/8)                             \n",
       "q_3: ───────────────────────────────────────────────────────────────────────────────────────────────────────────────────────────■───────────────────────────■─────────┼────────────────────────■─────────┼─────────┼───────────────────■────────┼─────────┼──────────┼───────────────■────────┼─────────┼─────────┼──────────■────────┼────────┼─────────┼─────────┤ H ├─┼────────┼─────────┼─────────■────────┼────────┼──────────────■────────┼──────────────────■───────────────────────────────────\n",
       "                                                                                                                                │                           │         │                        │         │         │                   │        │         │          │         ┌───┐ │        │         │         │          │P(π/2)  │        │         │         └───┘ │P(π/4)  │         │                  │P(π/8)  │                       │P(π/16)                                               \n",
       "q_4: ─────────────────────────────────────────────────────────────────────────────────────────■───────────────────────■─────────┼──────────────────■────────┼─────────┼───────────────■────────┼─────────┼─────────┼──────────■────────┼────────┼─────────┼──────────┼─────────┤ H ├─┼────────┼─────────┼─────────┼──────────■────────┼────────┼─────────┼───────────────■────────┼─────────┼──────────────────■────────┼───────────────────────■──────────────────────────────────────────────────────\n",
       "                                                                                              │                       │         │                  │        │         │         ┌───┐ │        │         │         │          │P(π/2)  │        │         │          │         └───┘ │P(π/4)  │         │         │                   │P(π/8)  │         │                        │P(π/16)  │                           │P(π/32)                                                                       \n",
       "q_5: ─────────────────────────────────────────────────────────────■──────────────────■────────┼──────────────■────────┼─────────┼─────────■────────┼────────┼─────────┼─────────┤ H ├─┼────────┼─────────┼─────────┼──────────■────────┼────────┼─────────┼──────────┼───────────────■────────┼─────────┼─────────┼───────────────────■────────┼─────────┼────────────────────────■─────────┼───────────────────────────■──────────────────────────────────────────────────────────────────────────────\n",
       "                                                                  │                  │        │        ┌───┐ │        │         │         │P(π/2)  │        │         │         └───┘ │P(π/4)  │         │         │                   │P(π/8)  │         │          │                        │P(π/16)  │         │                            │P(π/32)  │                                  │P(π/64)                                                                                                   \n",
       "q_6: ──────────────────────────────────────■─────────────■────────┼─────────■────────┼────────┼────────┤ H ├─┼────────┼─────────┼─────────■────────┼────────┼─────────┼───────────────■────────┼─────────┼─────────┼───────────────────■────────┼─────────┼──────────┼────────────────────────■─────────┼─────────┼────────────────────────────■─────────┼──────────────────────────────────■──────────────────────────────────────────────────────────────────────────────────────────────────────────\n",
       "                                           │       ┌───┐ │        │         │P(π/2)  │        │        └───┘ │P(π/4)  │         │                  │P(π/8)  │         │                        │P(π/16)  │         │                            │P(π/32)  │          │                                  │P(π/64)  │                                      │P(π/128)                                                                                                                                     \n",
       "q_7: ────────────────────■────────■────────┼───────┤ H ├─┼────────┼─────────■────────┼────────┼──────────────■────────┼─────────┼──────────────────■────────┼─────────┼────────────────────────■─────────┼─────────┼────────────────────────────■─────────┼──────────┼──────────────────────────────────■─────────┼──────────────────────────────────────■─────────────────────────────────────────────────────────────────────────────────────────────────────────────────────────────────────────────\n",
       "                   ┌───┐ │        │P(π/2)  │       └───┘ │P(π/4)  │                  │P(π/8)  │                       │P(π/16)  │                           │P(π/32)  │                                  │P(π/64)  │                                      │P(π/128)  │                                            │P(π/256)                                                                                                                                                                            \n",
       "q_8: ──────■───────┤ H ├─┼────────■────────┼─────────────■────────┼──────────────────■────────┼───────────────────────■─────────┼───────────────────────────■─────────┼──────────────────────────────────■─────────┼──────────────────────────────────────■──────────┼────────────────────────────────────────────■────────────────────────────────────────────────────────────────────────────────────────────────────────────────────────────────────────────────────────────────────────────────────\n",
       "     ┌───┐ │P(π/2) └───┘ │P(π/4)           │P(π/8)                │P(π/16)                    │P(π/32)                          │P(π/64)                              │P(π/128)                                    │P(π/256)                                         │P(π/512)                                                                                                                                                                                                                         \n",
       "q_9: ┤ H ├─■─────────────■─────────────────■──────────────────────■───────────────────────────■─────────────────────────────────■─────────────────────────────────────■────────────────────────────────────────────■─────────────────────────────────────────────────■─────────────────────────────────────────────────────────────────────────────────────────────────────────────────────────────────────────────────────────────────────────────────────────────────────────────────────────────────\n",
       "     └───┘                                                                                                                                                                                                                                                                                                                                                                                                                                                                                             </pre>"
      ],
      "text/plain": [
       "                                                                                                                                                                                                                                                                                                                                                                                                                                                                                                  ┌───┐\n",
       "q_0: ────────────────────────────────────────────────────────────────────────────────────────────────────────────────────────────────────────────────────────────────────────────────────────────────────────────────────────────────────────────────────────────────■────────────────────────────────────────────■──────────────────────────────────────■──────────────────────────────────■───────────────────────────■───────────────────────■──────────────────■─────────────■────────■───────┤ H ├\n",
       "                                                                                                                                                                                                                                                                     │                                            │                                      │                                  │                           │                       │                  │       ┌───┐ │        │P(π/2) └───┘\n",
       "q_1: ──────────────────────────────────────────────────────────────────────────────────────────────────────────────────────────────────────────────────────────────────────────────────────────────────────────────■──────────────────────────────────────■──────────┼──────────────────────────────────■─────────┼────────────────────────────■─────────┼────────────────────────■─────────┼──────────────────■────────┼──────────────■────────┼─────────■────────┼───────┤ H ├─┼────────■────────────\n",
       "                                                                                                                                                                                                                   │                                      │          │                                  │         │                            │         │                        │         │                  │        │        ┌───┐ │        │         │P(π/2)  │       └───┘ │P(π/4)               \n",
       "q_2: ─────────────────────────────────────────────────────────────────────────────────────────────────────────────────────────────────────────────────────────────────■──────────────────────────────────■─────────┼────────────────────────────■─────────┼──────────┼────────────────────────■─────────┼─────────┼───────────────────■────────┼─────────┼───────────────■────────┼─────────┼─────────■────────┼────────┼────────┤ H ├─┼────────┼─────────■────────┼─────────────■─────────────────────\n",
       "                                                                                                                                                                      │                                  │         │                            │         │          │                        │         │         │                   │        │         │         ┌───┐ │        │         │         │P(π/2)  │        │        └───┘ │P(π/4)  │                  │P(π/8)                             \n",
       "q_3: ───────────────────────────────────────────────────────────────────────────────────────────────────────────────────────────■───────────────────────────■─────────┼────────────────────────■─────────┼─────────┼───────────────────■────────┼─────────┼──────────┼───────────────■────────┼─────────┼─────────┼──────────■────────┼────────┼─────────┼─────────┤ H ├─┼────────┼─────────┼─────────■────────┼────────┼──────────────■────────┼──────────────────■───────────────────────────────────\n",
       "                                                                                                                                │                           │         │                        │         │         │                   │        │         │          │         ┌───┐ │        │         │         │          │P(π/2)  │        │         │         └───┘ │P(π/4)  │         │                  │P(π/8)  │                       │P(π/16)                                               \n",
       "q_4: ─────────────────────────────────────────────────────────────────────────────────────────■───────────────────────■─────────┼──────────────────■────────┼─────────┼───────────────■────────┼─────────┼─────────┼──────────■────────┼────────┼─────────┼──────────┼─────────┤ H ├─┼────────┼─────────┼─────────┼──────────■────────┼────────┼─────────┼───────────────■────────┼─────────┼──────────────────■────────┼───────────────────────■──────────────────────────────────────────────────────\n",
       "                                                                                              │                       │         │                  │        │         │         ┌───┐ │        │         │         │          │P(π/2)  │        │         │          │         └───┘ │P(π/4)  │         │         │                   │P(π/8)  │         │                        │P(π/16)  │                           │P(π/32)                                                                       \n",
       "q_5: ─────────────────────────────────────────────────────────────■──────────────────■────────┼──────────────■────────┼─────────┼─────────■────────┼────────┼─────────┼─────────┤ H ├─┼────────┼─────────┼─────────┼──────────■────────┼────────┼─────────┼──────────┼───────────────■────────┼─────────┼─────────┼───────────────────■────────┼─────────┼────────────────────────■─────────┼───────────────────────────■──────────────────────────────────────────────────────────────────────────────\n",
       "                                                                  │                  │        │        ┌───┐ │        │         │         │P(π/2)  │        │         │         └───┘ │P(π/4)  │         │         │                   │P(π/8)  │         │          │                        │P(π/16)  │         │                            │P(π/32)  │                                  │P(π/64)                                                                                                   \n",
       "q_6: ──────────────────────────────────────■─────────────■────────┼─────────■────────┼────────┼────────┤ H ├─┼────────┼─────────┼─────────■────────┼────────┼─────────┼───────────────■────────┼─────────┼─────────┼───────────────────■────────┼─────────┼──────────┼────────────────────────■─────────┼─────────┼────────────────────────────■─────────┼──────────────────────────────────■──────────────────────────────────────────────────────────────────────────────────────────────────────────\n",
       "                                           │       ┌───┐ │        │         │P(π/2)  │        │        └───┘ │P(π/4)  │         │                  │P(π/8)  │         │                        │P(π/16)  │         │                            │P(π/32)  │          │                                  │P(π/64)  │                                      │P(π/128)                                                                                                                                     \n",
       "q_7: ────────────────────■────────■────────┼───────┤ H ├─┼────────┼─────────■────────┼────────┼──────────────■────────┼─────────┼──────────────────■────────┼─────────┼────────────────────────■─────────┼─────────┼────────────────────────────■─────────┼──────────┼──────────────────────────────────■─────────┼──────────────────────────────────────■─────────────────────────────────────────────────────────────────────────────────────────────────────────────────────────────────────────────\n",
       "                   ┌───┐ │        │P(π/2)  │       └───┘ │P(π/4)  │                  │P(π/8)  │                       │P(π/16)  │                           │P(π/32)  │                                  │P(π/64)  │                                      │P(π/128)  │                                            │P(π/256)                                                                                                                                                                            \n",
       "q_8: ──────■───────┤ H ├─┼────────■────────┼─────────────■────────┼──────────────────■────────┼───────────────────────■─────────┼───────────────────────────■─────────┼──────────────────────────────────■─────────┼──────────────────────────────────────■──────────┼────────────────────────────────────────────■────────────────────────────────────────────────────────────────────────────────────────────────────────────────────────────────────────────────────────────────────────────────────\n",
       "     ┌───┐ │P(π/2) └───┘ │P(π/4)           │P(π/8)                │P(π/16)                    │P(π/32)                          │P(π/64)                              │P(π/128)                                    │P(π/256)                                         │P(π/512)                                                                                                                                                                                                                         \n",
       "q_9: ┤ H ├─■─────────────■─────────────────■──────────────────────■───────────────────────────■─────────────────────────────────■─────────────────────────────────────■────────────────────────────────────────────■─────────────────────────────────────────────────■─────────────────────────────────────────────────────────────────────────────────────────────────────────────────────────────────────────────────────────────────────────────────────────────────────────────────────────────────\n",
       "     └───┘                                                                                                                                                                                                                                                                                                                                                                                                                                                                                             "
      ]
     },
     "execution_count": 34,
     "metadata": {},
     "output_type": "execute_result"
    }
   ],
   "source": [
    "qc_dec = qc.decompose()\n",
    "get_qc_characteristics(qc_dec)\n",
    "qc_dec.draw(fold=-1)"
   ]
  },
  {
   "cell_type": "markdown",
   "id": "ddd19f9e-d9c0-4731-83f0-594893fa66f9",
   "metadata": {},
   "source": [
    "The default QFT quantum circuit decomposition includes Hadamard (`H`) gates and one controlled-phase two-qubit gate between each pair of qubits, arranged in a certain structure that repeats from the bottom qubit to the top qubit.\n",
    "This structure can be described as a harp or star; a 'center' qubit is connected to the first qubit above it via a two-qubit gate, then the second qubit above the center is connected and so on until the top qubit is reached.\n",
    "Quantum circuit transpilation is required as the controlled-phase gate is not supported by all quantum computers and the default QFT quantum circuit decomposition requires unrestricted qubit-connectivity."
   ]
  },
  {
   "cell_type": "markdown",
   "id": "19290f68-4f31-41c1-8713-7638ffb9faa6",
   "metadata": {},
   "source": [
    "Let us now generate a target quantum computer object over ten qubits that can serve as a toy example."
   ]
  },
  {
   "cell_type": "code",
   "execution_count": 35,
   "id": "74cf678d-4a21-4996-a510-0bf469651422",
   "metadata": {},
   "outputs": [
    {
     "name": "stdout",
     "output_type": "stream",
     "text": [
      "Supported basis gates: ['cx', 'id', 'rz', 'sx', 'x', 'reset', 'delay', 'measure']\n"
     ]
    }
   ],
   "source": [
    "backend = GenericBackendV2(num_qubits)\n",
    "print(\"Supported basis gates:\", backend.operation_names)"
   ]
  },
  {
   "cell_type": "markdown",
   "id": "00d75ccd-5805-4911-adf0-14ff73ae6bec",
   "metadata": {},
   "source": [
    "We can see that our target quantum computer does not support a QFT operation. Instead a *universal* set of basis gates ('cx', 'rz', ..., 'sx') is supported.\n",
    "An universal set of basis quantum gates is sufficient to perform any quantum computation in principle."
   ]
  },
  {
   "cell_type": "code",
   "execution_count": 36,
   "id": "83b44678-e50c-4bb5-b8a1-7c02c35af2b4",
   "metadata": {},
   "outputs": [
    {
     "data": {
      "text/html": [
       "<pre style=\"word-wrap: normal;white-space: pre;background: #fff0;line-height: 1.1;font-family: &quot;Courier New&quot;,Courier,monospace\">global phase: 0\n",
       "         ┌─────────┐┌────┐┌────────────┐                                                                                                                                                                                                                                                                                                                                                                                                                                                                                                                                                                                                                                                                                                                                                                                                                                                                                                                                                                                                                                                                                              \n",
       "q_9 -> 0 ┤ Rz(π/2) ├┤ √X ├┤ Rz(3.1385) ├──■────────────────■────────────────■──────────────────────────────■───────■────────────────────────────■───────────■────────────────────────■───────────■─────────────────────────■───────────■─────────────────────────■────────────■──────────────────────■─────────■──────────────────────────────────────■───────■───────────────────────────────────────────■───────────────────────────────────────────────────────────────────────────────────────────────────────────────────────────────────────────────────────────────────────────────────────────────────────────────────────────────────────────────────────────────────────────────────────────────────────────────────────────────────────────────────────────────────────────────────────────────────────────────────────────────────────────────────────────────────────────────────────────────────────────────────────────────────────────────────────────────────────────────────────────────────────────────────────────────────────────────────────────────────────────────────────────────────────────────────────────\n",
       "         └─────────┘└────┘└────────────┘  │                │                │                              │       │                            │           │                        │           │                         │           │                         │          ┌─┴─┐    ┌────────────┐┌─┴─┐       │      ┌───────────┐                   │       │                      ┌───┐┌────────────┐  │                     ┌───┐┌───────────┐                                                ┌───┐┌───────────┐                                             ┌───┐┌──────────┐                                            ┌───┐┌───────────┐                              ┌───┐┌──────────┐                              ┌───┐┌───────────┐                              ┌───┐┌──────────┐                               ┌───┐ ┌──────────┐                   ┌───┐┌─────────┐┌───┐ ┌──────────┐┌───┐┌──────────┐   ┌────┐   ┌──────────┐                                                                                                                                                                                         \n",
       "q_2 -> 1 ─────────────────────────────────┼────────────────┼────────────────┼──────────────────────────────┼───────┼────────────────────────────┼───────────┼────────────────────────┼───────────┼─────────────────────────┼───────────┼─────────────────────────┼──────────┤ X ├────┤ Rz(-π/256) ├┤ X ├───────┼──────┤ Rz(π/256) ├───────────────────┼───────┼──────────────────────┤ X ├┤ Rz(-π/128) ├──┼─────────────────────┤ X ├┤ Rz(π/128) ├────────────────────────────────────────────────┤ X ├┤ Rz(-π/64) ├─────────────────────────────────────────────┤ X ├┤ Rz(π/64) ├────────────────────────────────────────────┤ X ├┤ Rz(-π/32) ├──────────────────────────────┤ X ├┤ Rz(π/32) ├──────────────────────────────┤ X ├┤ Rz(-π/16) ├──────────────────────────────┤ X ├┤ Rz(π/16) ├───────────────────────────────┤ X ├─┤ Rz(-π/8) ├───────────────────┤ X ├┤ Rz(π/8) ├┤ X ├─┤ Rz(-π/4) ├┤ X ├┤ Rz(3π/4) ├───┤ √X ├───┤ Rz(7π/8) ├─────────────────────────────────────────■────────────────────────────■────────────────────■────────────────────────────■────────────────────────────────────────────────────────────────\n",
       "                                          │                │                │                              │       │                            │           │                        │           │                         │         ┌─┴─┐    ┌────────────┐   ┌─┴─┐    ┌───┴───┴───┐└────────────┘└───┘       │      └───┬───┬───┘┌───────────┐      │       │  ┌───┐  ┌──────────┐ └─┬─┘└────────────┘  │                ┌───┐└─┬─┘├───────────┤                        ┌───┐ ┌──────────┐      └─┬─┘└───────────┘             ┌───┐┌───────────┐              └─┬─┘└──────────┘┌───┐┌──────────┐                           └─┬─┘└───────────┘┌───┐┌──────────┐             └─┬─┘└──────────┘              ┌───┐┌─────────┐└─┬─┘└───────────┘┌───┐┌──────────┐             └─┬─┘└──────────┘┌───┐┌──────────┐    ┌────┐    └─┬─┘┌┴──────────┴┐                  └─┬─┘└─────────┘└─┬─┘ └──────────┘└─┬─┘└──────────┘   └────┘   └──────────┘                                         │                            │                    │                            │                                                                \n",
       "q_3 -> 2 ─────────────────────────────────┼────────────────┼────────────────┼──────────────────────────────┼───────┼────────────────────────────┼───────────┼────────────────────────┼───────────┼─────────────────────────┼─────────┤ X ├────┤ Rz(-π/128) ├───┤ X ├────┤ Rz(π/128) ├──────────────────────────┼──────────┤ X ├────┤ Rz(-π/64) ├──────┼───────┼──┤ X ├──┤ Rz(π/64) ├───┼──────────────────┼────────────────┤ X ├──┼──┤ Rz(-π/32) ├────────────────────────┤ X ├─┤ Rz(π/32) ├────────┼────────────────────────────┤ X ├┤ Rz(-π/16) ├────────────────┼──────────────┤ X ├┤ Rz(π/16) ├─────────────────────────────┼───────────────┤ X ├┤ Rz(-π/8) ├───────────────┼────────────────────────────┤ X ├┤ Rz(π/8) ├──┼───────────────┤ X ├┤ Rz(-π/4) ├───────────────┼──────────────┤ X ├┤ Rz(3π/4) ├────┤ √X ├──────┼──┤ Rz(15π/16) ├────────────────────┼───────────────■─────────────────■───────────────────────────────■─────────────────────■────────────────■────────┼────────────────────■───────┼────────────────────┼────────────────────────────┼────────────────────────────────────────────────────────────────\n",
       "                                          │                │                │                              │       │                            │           │                        │           │                         │         └───┘    └────────────┘   └───┘    └───────────┘                        ┌─┴─┐        └─┬─┘    ├───────────┴┐   ┌─┴─┐     │  └─┬─┘ ┌┴──────────┤   │                  │                └─┬─┘  │  └───────────┘     ┌───┐┌────────────┐└─┬─┘ └──────────┘        │      ┌───┐    ┌───────────┐└─┬─┘└───────────┘                │              └─┬─┘└──┬───┬───┘┌────────────┐               │               └─┬─┘└──┬───┬───┘┌───────────┐  │                            └─┬─┘└──┬───┬──┘  │  ┌───────────┐└─┬─┘└──┬───┬───┘ ┌──────────┐  │              └─┬─┘└──┬───┬───┘┌───┴────┴──┐   │  └────────────┘┌───┐ ┌──────────┐  │             ┌───┐┌───────────┐        ┌───┐    ┌──────────┐   ┌─┴─┐     ┌──────────┐┌─┴─┐┌─────────┐   │      ┌─┴─┐    ┌──────────┐  │     ┌─┴─┐    ┌──────────┐  │     ┌────┐   ┌──────────┐  │                                                                \n",
       "q_1 -> 3 ─────────────────────────────────┼────────────────┼────────────────┼──────────────────────────────┼───────┼────────────────────────────┼───────────┼────────────────────────┼───────────┼─────────────────────────┼─────────────────────────────────────────────────────────────────────────────────┤ X ├──────────┼──────┤ Rz(-π/512) ├───┤ X ├─────┼────┼───┤ Rz(π/512) ├───┼──────────────────┼──────────────────┼────┼────────────────────┤ X ├┤ Rz(-π/256) ├──┼───────────────────────┼──────┤ X ├────┤ Rz(π/256) ├──┼───────────────────────────────┼────────────────┼─────┤ X ├────┤ Rz(-π/128) ├───────────────┼─────────────────┼─────┤ X ├────┤ Rz(π/128) ├──┼──────────────────────────────┼─────┤ X ├─────┼──┤ Rz(-π/64) ├──┼─────┤ X ├─────┤ Rz(π/64) ├──┼────────────────┼─────┤ X ├────┤ Rz(-π/32) ├───┼────────────────┤ X ├─┤ Rz(π/32) ├──┼─────────────┤ X ├┤ Rz(-π/16) ├────────┤ X ├────┤ Rz(π/16) ├───┤ X ├─────┤ Rz(-π/8) ├┤ X ├┤ Rz(π/8) ├───┼──────┤ X ├────┤ Rz(-π/4) ├──┼─────┤ X ├────┤ Rz(3π/4) ├──┼─────┤ √X ├───┤ Rz(3π/4) ├──┼───────────────■────────────────■───────────────────────────────\n",
       "                                          │                │                │                              │       │                            │           │                        │           │                         │                                                                                 └───┘          │      └────────────┘   └───┘   ┌─┴─┐  │  ┌┴───────────┴┐  │                ┌─┴─┐┌────────────┐  │    │                    └─┬─┘└────────────┘  │                       │      └─┬─┘    └───────────┘  │      ┌───┐    ┌────────────┐  │                │     └─┬─┘    └───┬───┬────┘┌───────────┐  │                 │     └─┬─┘    └───────────┘  │     ┌───┐    ┌────────────┐  │     └─┬─┘     │  └───┬───┬───┘  │     └─┬─┘    ┌┴──────────┤  │     ┌───┐      │     └─┬─┘    ├───────────┴┐  │      ┌───┐     └─┬─┘┌┴──────────┤  │     ┌───┐   └─┬─┘├───────────┤┌───┐   └─┬─┘    ├──────────┤   ├───┤    ┌┴──────────┤├───┤├─────────┴┐┌─┴─┐┌───┴───┴───┐└──────────┘┌─┴─┐┌──┴───┴───┐└──────────┘┌─┴─┐┌──┴────┴──┐└──────────┘┌─┴─┐┌─────────┐┌─┴─┐┌──────────┐┌─┴─┐┌──────────┐┌────┐┌─────────┐\n",
       "q_0 -> 4 ─────────────────────────────────┼────────────────┼────────────────┼──────────────────────────────┼───────┼────────────────────────────┼───────────┼────────────────────────┼───────────┼─────────────────────────┼────────────────────────────────────────────────────────────────────────────────────────────────┼───────────────────────────────┤ X ├──┼──┤ Rz(-π/1024) ├──┼────────────────┤ X ├┤ Rz(π/1024) ├──┼────┼──────────────────────┼──────────────────┼───────────────────────┼────────┼─────────────────────┼──────┤ X ├────┤ Rz(-π/512) ├──┼────────────────┼───────┼──────────┤ X ├─────┤ Rz(π/512) ├──┼─────────────────┼───────┼─────────────────────┼─────┤ X ├────┤ Rz(-π/256) ├──┼───────┼───────┼──────┤ X ├──────┼───────┼──────┤ Rz(π/256) ├──┼─────┤ X ├──────┼───────┼──────┤ Rz(-π/128) ├──┼──────┤ X ├───────┼──┤ Rz(π/128) ├──┼─────┤ X ├─────┼──┤ Rz(-π/64) ├┤ X ├─────┼──────┤ Rz(π/64) ├───┤ X ├────┤ Rz(-π/32) ├┤ X ├┤ Rz(π/32) ├┤ X ├┤ Rz(-π/16) ├────────────┤ X ├┤ Rz(π/16) ├────────────┤ X ├┤ Rz(-π/8) ├────────────┤ X ├┤ Rz(π/8) ├┤ X ├┤ Rz(-π/4) ├┤ X ├┤ Rz(3π/4) ├┤ √X ├┤ Rz(π/2) ├\n",
       "                                          │                │                │                              │       │                            │           │                        │         ┌─┴─┐    ┌───────────┐    ┌─┴─┐    ┌──────────┐                              ┌───┐    ┌───────────┐ ┌───┐  ┌──────────┐      │                               ├───┤  │  └┬───────────┬┘  │                ├───┤└┬──────────┬┘  │    │               ┌───┐  │   ┌──────────┐   │                ┌───┐  │        │       ┌─────────┐   │      └─┬─┘    └───┬───┬────┘  │  ┌──────────┐  │       │          └─┬─┘     └───┬───┬───┘  │   ┌──────────┐  │       │          ┌────┐     │     └─┬─┘    ├────────────┤  │       │       │      └─┬─┘      │       │      └───────────┘  │     └─┬─┘      │       │      └────────────┘  │      └─┬─┘       │  └───────────┘  │     └─┬─┘     │  └───────────┘└─┬─┘     │      └──────────┘   └─┬─┘    └───────────┘└─┬─┘└──────────┘└───┘└───────────┘            └───┘└──────────┘            └───┘└──────────┘            └───┘└─────────┘└───┘└──────────┘└───┘└──────────┘└────┘└─────────┘\n",
       "q_4 -> 5 ─────────────────────────────────┼────────────────┼────────────────┼──────────────────────────────┼───────┼────────────────────────────┼───────────┼────────────────────────┼─────────┤ X ├────┤ Rz(-π/64) ├────┤ X ├────┤ Rz(π/64) ├──────────────────────────────┤ X ├────┤ Rz(-π/32) ├─┤ X ├──┤ Rz(π/32) ├──────┼───────────────────────────────┤ X ├──┼───┤ Rz(-π/16) ├───┼────────────────┤ X ├─┤ Rz(π/16) ├───┼────┼───────────────┤ X ├──┼───┤ Rz(-π/8) ├───┼────────────────┤ X ├──┼────────┼───────┤ Rz(π/8) ├───┼────────┼──────────┤ X ├───────┼──┤ Rz(-π/4) ├──┼───────┼────────────┼───────────┤ X ├──────┼───┤ Rz(3π/4) ├──┼───────┼──────────┤ √X ├─────┼───────┼──────┤ Rz(3.0434) ├──┼───────┼───────┼────────┼────────■───────┼─────────────────────┼───────┼────────■───────┼──────────────────────■────────┼─────────┼─────────────────■───────┼───────■─────────────────┼───────■───────────────────────■─────────────────────■─────────────────────────────────────────────────────────────────────────────────────────────────────────────────────────────────────────────────────────────────────────\n",
       "                                          │                │                │                              │       │                            │         ┌─┴─┐    ┌───────────┐   ┌─┴─┐    ┌──┴───┴───┐└───────────┘    ├───┤   ┌┴──────────┤    ┌───┐     ┌──────────┐    └─┬─┘    └───┬───┬───┘ └─┬─┘  ├──────────┤      │          ┌───┐     ┌─────────┐└─┬─┘  │   └───┬───┬───┘   │   ┌──────────┐ └─┬─┘ └──┬───┬───┘   │    │   ┌──────────┐└─┬─┘  │   └──┬────┬──┘   │  ┌────────────┐└─┬─┘  │        │       └─────────┘   │        │          └─┬─┘       │  └──────────┘  │       │            │           └─┬─┘      │   └──────────┘  │       │          └────┘     │       │      └────────────┘  │       │       │        │                │                     │       │                │                               │         │                         │                         │                                                                                                                                                                                                                               \n",
       "q_5 -> 6 ─────────────────────────────────┼────────────────┼────────────────┼──────────────────────────────┼───────┼────────────────────────────┼─────────┤ X ├────┤ Rz(-π/32) ├───┤ X ├────┤ Rz(π/32) ├─────────────────┤ X ├───┤ Rz(-π/16) ├────┤ X ├─────┤ Rz(π/16) ├──────┼──────────┤ X ├───────┼────┤ Rz(-π/8) ├──────┼──────────┤ X ├─────┤ Rz(π/8) ├──┼────┼───────┤ X ├───────┼───┤ Rz(-π/4) ├───┼──────┤ X ├───────┼────┼───┤ Rz(3π/4) ├──┼────┼──────┤ √X ├──────┼──┤ Rz(3.0925) ├──┼────┼────────┼─────────────────────┼────────┼────────────■─────────┼────────────────┼───────┼────────────┼─────────────■────────┼─────────────────■───────┼─────────────────────┼───────┼──────────────────────■───────┼───────■────────┼────────────────┼─────────────────────■───────┼────────────────■───────────────────────────────┼─────────■─────────────────────────■─────────────────────────■───────────────────────────────────────────────────────────────────────────────────────────────────────────────────────────────────────────────────────────────────────────────────────────────────────────────────────────────\n",
       "                                        ┌─┴─┐┌──────────┐┌─┴─┐┌──────────┐  │     ┌────┐   ┌────────────┐  │       │                            │         └───┘    └───────────┘   └───┘    └──────────┘                 └─┬─┘   └───────────┘    └─┬─┘     └──────────┘      │          └─┬─┘       │    └──────────┘      │          └─┬─┘     └─────────┘  │    │       └─┬─┘       │   └──────────┘   │      └─┬─┘       │    │   └──────────┘  │    │      └────┘      │  └────────────┘  │    │        │                     │        │                      │                │       │            │                      │                         │                     │       │                              │                │                │                             │                                                │                                                                                                                                                                                                                                                                                             \n",
       "q_8 -> 7 ───────────────────────────────┤ X ├┤ Rz(-π/4) ├┤ X ├┤ Rz(3π/4) ├──┼─────┤ √X ├───┤ Rz(3.1355) ├──┼───────┼────────────────────■───────┼────────────────────────■───────────■────────────────────────■────────────■────────────────────────■─────────────────────────■────────────┼─────────■──────────────────────■────────────┼────────────────────┼────■─────────┼─────────■──────────────────┼────────┼─────────┼────■─────────────────┼────■──────────────────┼──────────────────┼────┼────────■─────────────────────┼────────■──────────────────────┼────────────────┼───────┼────────────■──────────────────────┼─────────────────────────┼─────────────────────┼───────┼──────────────────────────────┼────────────────┼────────────────┼─────────────────────────────┼────────────────────────────────────────────────┼─────────────────────────────────────────────────────────────────────────────────────────────────────────────────────────────────────────────────────────────────────────────────────────────────────────────────────────────────────────────────────────────────────────────────────────────\n",
       "                                        └───┘└──────────┘└───┘└──────────┘  │     └────┘   └────────────┘  │     ┌─┴─┐   ┌───────────┐  │     ┌─┴─┐    ┌──────────┐      │         ┌─┴─┐    ┌──────────┐    ┌─┴─┐     ┌─────────┐    ┌───┐     ┌──────────┐    ┌───┐     ┌──────────┐      │       ┌────┐┌───────────┐                   │                    │              │                            │        │         │                      │                       │                  │    │                              │                               │                │       │                                   │                         │                     │       │                              │                │                │                             │                                                │                                                                                                                                                                                                                                                                                             \n",
       "q_6 -> 8 ───────────────────────────────────────────────────────────────────┼──────────────────────────────┼─────┤ X ├───┤ Rz(-π/16) ├──┼─────┤ X ├────┤ Rz(π/16) ├──────┼─────────┤ X ├────┤ Rz(-π/8) ├────┤ X ├─────┤ Rz(π/8) ├────┤ X ├─────┤ Rz(-π/4) ├────┤ X ├─────┤ Rz(3π/4) ├──────┼───────┤ √X ├┤ Rz(3.117) ├───────────────────┼────────────────────┼──────────────■────────────────────────────┼────────■─────────┼──────────────────────■───────────────────────┼──────────────────■────┼──────────────────────────────■───────────────────────────────┼────────────────■───────┼───────────────────────────────────■─────────────────────────┼─────────────────────■───────┼──────────────────────────────■────────────────┼────────────────■─────────────────────────────■────────────────────────────────────────────────■─────────────────────────────────────────────────────────────────────────────────────────────────────────────────────────────────────────────────────────────────────────────────────────────────────────────────────────────────────────────────────────────────────────────────────────────\n",
       "                                                                          ┌─┴─┐┌──────────┐              ┌─┴─┐┌──┴───┴──┐└───────────┘┌─┴─┐┌──┴───┴───┐└──────────┘    ┌─┴─┐    ┌──┴───┴───┐└──┬────┬──┘┌───┴───┴────┐└─────────┘    └─┬─┘     └──────────┘    └─┬─┘     └──────────┘      │       └────┘└───────────┘                   │                    │                                           │                  │                                              │                       │                                                              │                        │                                                             │                             │                                               │                                                                                                                                                                                                                                                                                                                                                                                             \n",
       "q_7 -> 9 ─────────────────────────────────────────────────────────────────┤ X ├┤ Rz(-π/8) ├──────────────┤ X ├┤ Rz(π/8) ├─────────────┤ X ├┤ Rz(-π/4) ├────────────────┤ X ├────┤ Rz(3π/4) ├───┤ √X ├───┤ Rz(3.1293) ├─────────────────■─────────────────────────■─────────────────────────■─────────────────────────────────────────────■────────────────────■───────────────────────────────────────────■──────────────────■──────────────────────────────────────────────■───────────────────────■──────────────────────────────────────────────────────────────■────────────────────────■─────────────────────────────────────────────────────────────■─────────────────────────────■───────────────────────────────────────────────■─────────────────────────────────────────────────────────────────────────────────────────────────────────────────────────────────────────────────────────────────────────────────────────────────────────────────────────────────────────────────────────────────────────────────────────────────────────────────────────────────────────────────────────────────────────────────────────────\n",
       "                                                                          └───┘└──────────┘              └───┘└─────────┘             └───┘└──────────┘                └───┘    └──────────┘   └────┘   └────────────┘                                                                                                                                                                                                                                                                                                                                                                                                                                                                                                                                                                                                                                                                                                                                                                                                                                                                                                                </pre>"
      ],
      "text/plain": [
       "global phase: 0\n",
       "         ┌─────────┐┌────┐┌────────────┐                                                                                                                                                                                                                                                                                                                                                                                                                                                                                                                                                                                                                                                                                                                                                                                                                                                                                                                                                                                                                                                                                              \n",
       "q_9 -> 0 ┤ Rz(π/2) ├┤ √X ├┤ Rz(3.1385) ├──■────────────────■────────────────■──────────────────────────────■───────■────────────────────────────■───────────■────────────────────────■───────────■─────────────────────────■───────────■─────────────────────────■────────────■──────────────────────■─────────■──────────────────────────────────────■───────■───────────────────────────────────────────■───────────────────────────────────────────────────────────────────────────────────────────────────────────────────────────────────────────────────────────────────────────────────────────────────────────────────────────────────────────────────────────────────────────────────────────────────────────────────────────────────────────────────────────────────────────────────────────────────────────────────────────────────────────────────────────────────────────────────────────────────────────────────────────────────────────────────────────────────────────────────────────────────────────────────────────────────────────────────────────────────────────────────────────────────────────────────────────\n",
       "         └─────────┘└────┘└────────────┘  │                │                │                              │       │                            │           │                        │           │                         │           │                         │          ┌─┴─┐    ┌────────────┐┌─┴─┐       │      ┌───────────┐                   │       │                      ┌───┐┌────────────┐  │                     ┌───┐┌───────────┐                                                ┌───┐┌───────────┐                                             ┌───┐┌──────────┐                                            ┌───┐┌───────────┐                              ┌───┐┌──────────┐                              ┌───┐┌───────────┐                              ┌───┐┌──────────┐                               ┌───┐ ┌──────────┐                   ┌───┐┌─────────┐┌───┐ ┌──────────┐┌───┐┌──────────┐   ┌────┐   ┌──────────┐                                                                                                                                                                                         \n",
       "q_2 -> 1 ─────────────────────────────────┼────────────────┼────────────────┼──────────────────────────────┼───────┼────────────────────────────┼───────────┼────────────────────────┼───────────┼─────────────────────────┼───────────┼─────────────────────────┼──────────┤ X ├────┤ Rz(-π/256) ├┤ X ├───────┼──────┤ Rz(π/256) ├───────────────────┼───────┼──────────────────────┤ X ├┤ Rz(-π/128) ├──┼─────────────────────┤ X ├┤ Rz(π/128) ├────────────────────────────────────────────────┤ X ├┤ Rz(-π/64) ├─────────────────────────────────────────────┤ X ├┤ Rz(π/64) ├────────────────────────────────────────────┤ X ├┤ Rz(-π/32) ├──────────────────────────────┤ X ├┤ Rz(π/32) ├──────────────────────────────┤ X ├┤ Rz(-π/16) ├──────────────────────────────┤ X ├┤ Rz(π/16) ├───────────────────────────────┤ X ├─┤ Rz(-π/8) ├───────────────────┤ X ├┤ Rz(π/8) ├┤ X ├─┤ Rz(-π/4) ├┤ X ├┤ Rz(3π/4) ├───┤ √X ├───┤ Rz(7π/8) ├─────────────────────────────────────────■────────────────────────────■────────────────────■────────────────────────────■────────────────────────────────────────────────────────────────\n",
       "                                          │                │                │                              │       │                            │           │                        │           │                         │         ┌─┴─┐    ┌────────────┐   ┌─┴─┐    ┌───┴───┴───┐└────────────┘└───┘       │      └───┬───┬───┘┌───────────┐      │       │  ┌───┐  ┌──────────┐ └─┬─┘└────────────┘  │                ┌───┐└─┬─┘├───────────┤                        ┌───┐ ┌──────────┐      └─┬─┘└───────────┘             ┌───┐┌───────────┐              └─┬─┘└──────────┘┌───┐┌──────────┐                           └─┬─┘└───────────┘┌───┐┌──────────┐             └─┬─┘└──────────┘              ┌───┐┌─────────┐└─┬─┘└───────────┘┌───┐┌──────────┐             └─┬─┘└──────────┘┌───┐┌──────────┐    ┌────┐    └─┬─┘┌┴──────────┴┐                  └─┬─┘└─────────┘└─┬─┘ └──────────┘└─┬─┘└──────────┘   └────┘   └──────────┘                                         │                            │                    │                            │                                                                \n",
       "q_3 -> 2 ─────────────────────────────────┼────────────────┼────────────────┼──────────────────────────────┼───────┼────────────────────────────┼───────────┼────────────────────────┼───────────┼─────────────────────────┼─────────┤ X ├────┤ Rz(-π/128) ├───┤ X ├────┤ Rz(π/128) ├──────────────────────────┼──────────┤ X ├────┤ Rz(-π/64) ├──────┼───────┼──┤ X ├──┤ Rz(π/64) ├───┼──────────────────┼────────────────┤ X ├──┼──┤ Rz(-π/32) ├────────────────────────┤ X ├─┤ Rz(π/32) ├────────┼────────────────────────────┤ X ├┤ Rz(-π/16) ├────────────────┼──────────────┤ X ├┤ Rz(π/16) ├─────────────────────────────┼───────────────┤ X ├┤ Rz(-π/8) ├───────────────┼────────────────────────────┤ X ├┤ Rz(π/8) ├──┼───────────────┤ X ├┤ Rz(-π/4) ├───────────────┼──────────────┤ X ├┤ Rz(3π/4) ├────┤ √X ├──────┼──┤ Rz(15π/16) ├────────────────────┼───────────────■─────────────────■───────────────────────────────■─────────────────────■────────────────■────────┼────────────────────■───────┼────────────────────┼────────────────────────────┼────────────────────────────────────────────────────────────────\n",
       "                                          │                │                │                              │       │                            │           │                        │           │                         │         └───┘    └────────────┘   └───┘    └───────────┘                        ┌─┴─┐        └─┬─┘    ├───────────┴┐   ┌─┴─┐     │  └─┬─┘ ┌┴──────────┤   │                  │                └─┬─┘  │  └───────────┘     ┌───┐┌────────────┐└─┬─┘ └──────────┘        │      ┌───┐    ┌───────────┐└─┬─┘└───────────┘                │              └─┬─┘└──┬───┬───┘┌────────────┐               │               └─┬─┘└──┬───┬───┘┌───────────┐  │                            └─┬─┘└──┬───┬──┘  │  ┌───────────┐└─┬─┘└──┬───┬───┘ ┌──────────┐  │              └─┬─┘└──┬───┬───┘┌───┴────┴──┐   │  └────────────┘┌───┐ ┌──────────┐  │             ┌───┐┌───────────┐        ┌───┐    ┌──────────┐   ┌─┴─┐     ┌──────────┐┌─┴─┐┌─────────┐   │      ┌─┴─┐    ┌──────────┐  │     ┌─┴─┐    ┌──────────┐  │     ┌────┐   ┌──────────┐  │                                                                \n",
       "q_1 -> 3 ─────────────────────────────────┼────────────────┼────────────────┼──────────────────────────────┼───────┼────────────────────────────┼───────────┼────────────────────────┼───────────┼─────────────────────────┼─────────────────────────────────────────────────────────────────────────────────┤ X ├──────────┼──────┤ Rz(-π/512) ├───┤ X ├─────┼────┼───┤ Rz(π/512) ├───┼──────────────────┼──────────────────┼────┼────────────────────┤ X ├┤ Rz(-π/256) ├──┼───────────────────────┼──────┤ X ├────┤ Rz(π/256) ├──┼───────────────────────────────┼────────────────┼─────┤ X ├────┤ Rz(-π/128) ├───────────────┼─────────────────┼─────┤ X ├────┤ Rz(π/128) ├──┼──────────────────────────────┼─────┤ X ├─────┼──┤ Rz(-π/64) ├──┼─────┤ X ├─────┤ Rz(π/64) ├──┼────────────────┼─────┤ X ├────┤ Rz(-π/32) ├───┼────────────────┤ X ├─┤ Rz(π/32) ├──┼─────────────┤ X ├┤ Rz(-π/16) ├────────┤ X ├────┤ Rz(π/16) ├───┤ X ├─────┤ Rz(-π/8) ├┤ X ├┤ Rz(π/8) ├───┼──────┤ X ├────┤ Rz(-π/4) ├──┼─────┤ X ├────┤ Rz(3π/4) ├──┼─────┤ √X ├───┤ Rz(3π/4) ├──┼───────────────■────────────────■───────────────────────────────\n",
       "                                          │                │                │                              │       │                            │           │                        │           │                         │                                                                                 └───┘          │      └────────────┘   └───┘   ┌─┴─┐  │  ┌┴───────────┴┐  │                ┌─┴─┐┌────────────┐  │    │                    └─┬─┘└────────────┘  │                       │      └─┬─┘    └───────────┘  │      ┌───┐    ┌────────────┐  │                │     └─┬─┘    └───┬───┬────┘┌───────────┐  │                 │     └─┬─┘    └───────────┘  │     ┌───┐    ┌────────────┐  │     └─┬─┘     │  └───┬───┬───┘  │     └─┬─┘    ┌┴──────────┤  │     ┌───┐      │     └─┬─┘    ├───────────┴┐  │      ┌───┐     └─┬─┘┌┴──────────┤  │     ┌───┐   └─┬─┘├───────────┤┌───┐   └─┬─┘    ├──────────┤   ├───┤    ┌┴──────────┤├───┤├─────────┴┐┌─┴─┐┌───┴───┴───┐└──────────┘┌─┴─┐┌──┴───┴───┐└──────────┘┌─┴─┐┌──┴────┴──┐└──────────┘┌─┴─┐┌─────────┐┌─┴─┐┌──────────┐┌─┴─┐┌──────────┐┌────┐┌─────────┐\n",
       "q_0 -> 4 ─────────────────────────────────┼────────────────┼────────────────┼──────────────────────────────┼───────┼────────────────────────────┼───────────┼────────────────────────┼───────────┼─────────────────────────┼────────────────────────────────────────────────────────────────────────────────────────────────┼───────────────────────────────┤ X ├──┼──┤ Rz(-π/1024) ├──┼────────────────┤ X ├┤ Rz(π/1024) ├──┼────┼──────────────────────┼──────────────────┼───────────────────────┼────────┼─────────────────────┼──────┤ X ├────┤ Rz(-π/512) ├──┼────────────────┼───────┼──────────┤ X ├─────┤ Rz(π/512) ├──┼─────────────────┼───────┼─────────────────────┼─────┤ X ├────┤ Rz(-π/256) ├──┼───────┼───────┼──────┤ X ├──────┼───────┼──────┤ Rz(π/256) ├──┼─────┤ X ├──────┼───────┼──────┤ Rz(-π/128) ├──┼──────┤ X ├───────┼──┤ Rz(π/128) ├──┼─────┤ X ├─────┼──┤ Rz(-π/64) ├┤ X ├─────┼──────┤ Rz(π/64) ├───┤ X ├────┤ Rz(-π/32) ├┤ X ├┤ Rz(π/32) ├┤ X ├┤ Rz(-π/16) ├────────────┤ X ├┤ Rz(π/16) ├────────────┤ X ├┤ Rz(-π/8) ├────────────┤ X ├┤ Rz(π/8) ├┤ X ├┤ Rz(-π/4) ├┤ X ├┤ Rz(3π/4) ├┤ √X ├┤ Rz(π/2) ├\n",
       "                                          │                │                │                              │       │                            │           │                        │         ┌─┴─┐    ┌───────────┐    ┌─┴─┐    ┌──────────┐                              ┌───┐    ┌───────────┐ ┌───┐  ┌──────────┐      │                               ├───┤  │  └┬───────────┬┘  │                ├───┤└┬──────────┬┘  │    │               ┌───┐  │   ┌──────────┐   │                ┌───┐  │        │       ┌─────────┐   │      └─┬─┘    └───┬───┬────┘  │  ┌──────────┐  │       │          └─┬─┘     └───┬───┬───┘  │   ┌──────────┐  │       │          ┌────┐     │     └─┬─┘    ├────────────┤  │       │       │      └─┬─┘      │       │      └───────────┘  │     └─┬─┘      │       │      └────────────┘  │      └─┬─┘       │  └───────────┘  │     └─┬─┘     │  └───────────┘└─┬─┘     │      └──────────┘   └─┬─┘    └───────────┘└─┬─┘└──────────┘└───┘└───────────┘            └───┘└──────────┘            └───┘└──────────┘            └───┘└─────────┘└───┘└──────────┘└───┘└──────────┘└────┘└─────────┘\n",
       "q_4 -> 5 ─────────────────────────────────┼────────────────┼────────────────┼──────────────────────────────┼───────┼────────────────────────────┼───────────┼────────────────────────┼─────────┤ X ├────┤ Rz(-π/64) ├────┤ X ├────┤ Rz(π/64) ├──────────────────────────────┤ X ├────┤ Rz(-π/32) ├─┤ X ├──┤ Rz(π/32) ├──────┼───────────────────────────────┤ X ├──┼───┤ Rz(-π/16) ├───┼────────────────┤ X ├─┤ Rz(π/16) ├───┼────┼───────────────┤ X ├──┼───┤ Rz(-π/8) ├───┼────────────────┤ X ├──┼────────┼───────┤ Rz(π/8) ├───┼────────┼──────────┤ X ├───────┼──┤ Rz(-π/4) ├──┼───────┼────────────┼───────────┤ X ├──────┼───┤ Rz(3π/4) ├──┼───────┼──────────┤ √X ├─────┼───────┼──────┤ Rz(3.0434) ├──┼───────┼───────┼────────┼────────■───────┼─────────────────────┼───────┼────────■───────┼──────────────────────■────────┼─────────┼─────────────────■───────┼───────■─────────────────┼───────■───────────────────────■─────────────────────■─────────────────────────────────────────────────────────────────────────────────────────────────────────────────────────────────────────────────────────────────────────\n",
       "                                          │                │                │                              │       │                            │         ┌─┴─┐    ┌───────────┐   ┌─┴─┐    ┌──┴───┴───┐└───────────┘    ├───┤   ┌┴──────────┤    ┌───┐     ┌──────────┐    └─┬─┘    └───┬───┬───┘ └─┬─┘  ├──────────┤      │          ┌───┐     ┌─────────┐└─┬─┘  │   └───┬───┬───┘   │   ┌──────────┐ └─┬─┘ └──┬───┬───┘   │    │   ┌──────────┐└─┬─┘  │   └──┬────┬──┘   │  ┌────────────┐└─┬─┘  │        │       └─────────┘   │        │          └─┬─┘       │  └──────────┘  │       │            │           └─┬─┘      │   └──────────┘  │       │          └────┘     │       │      └────────────┘  │       │       │        │                │                     │       │                │                               │         │                         │                         │                                                                                                                                                                                                                               \n",
       "q_5 -> 6 ─────────────────────────────────┼────────────────┼────────────────┼──────────────────────────────┼───────┼────────────────────────────┼─────────┤ X ├────┤ Rz(-π/32) ├───┤ X ├────┤ Rz(π/32) ├─────────────────┤ X ├───┤ Rz(-π/16) ├────┤ X ├─────┤ Rz(π/16) ├──────┼──────────┤ X ├───────┼────┤ Rz(-π/8) ├──────┼──────────┤ X ├─────┤ Rz(π/8) ├──┼────┼───────┤ X ├───────┼───┤ Rz(-π/4) ├───┼──────┤ X ├───────┼────┼───┤ Rz(3π/4) ├──┼────┼──────┤ √X ├──────┼──┤ Rz(3.0925) ├──┼────┼────────┼─────────────────────┼────────┼────────────■─────────┼────────────────┼───────┼────────────┼─────────────■────────┼─────────────────■───────┼─────────────────────┼───────┼──────────────────────■───────┼───────■────────┼────────────────┼─────────────────────■───────┼────────────────■───────────────────────────────┼─────────■─────────────────────────■─────────────────────────■───────────────────────────────────────────────────────────────────────────────────────────────────────────────────────────────────────────────────────────────────────────────────────────────────────────────────────────────\n",
       "                                        ┌─┴─┐┌──────────┐┌─┴─┐┌──────────┐  │     ┌────┐   ┌────────────┐  │       │                            │         └───┘    └───────────┘   └───┘    └──────────┘                 └─┬─┘   └───────────┘    └─┬─┘     └──────────┘      │          └─┬─┘       │    └──────────┘      │          └─┬─┘     └─────────┘  │    │       └─┬─┘       │   └──────────┘   │      └─┬─┘       │    │   └──────────┘  │    │      └────┘      │  └────────────┘  │    │        │                     │        │                      │                │       │            │                      │                         │                     │       │                              │                │                │                             │                                                │                                                                                                                                                                                                                                                                                             \n",
       "q_8 -> 7 ───────────────────────────────┤ X ├┤ Rz(-π/4) ├┤ X ├┤ Rz(3π/4) ├──┼─────┤ √X ├───┤ Rz(3.1355) ├──┼───────┼────────────────────■───────┼────────────────────────■───────────■────────────────────────■────────────■────────────────────────■─────────────────────────■────────────┼─────────■──────────────────────■────────────┼────────────────────┼────■─────────┼─────────■──────────────────┼────────┼─────────┼────■─────────────────┼────■──────────────────┼──────────────────┼────┼────────■─────────────────────┼────────■──────────────────────┼────────────────┼───────┼────────────■──────────────────────┼─────────────────────────┼─────────────────────┼───────┼──────────────────────────────┼────────────────┼────────────────┼─────────────────────────────┼────────────────────────────────────────────────┼─────────────────────────────────────────────────────────────────────────────────────────────────────────────────────────────────────────────────────────────────────────────────────────────────────────────────────────────────────────────────────────────────────────────────────────────\n",
       "                                        └───┘└──────────┘└───┘└──────────┘  │     └────┘   └────────────┘  │     ┌─┴─┐   ┌───────────┐  │     ┌─┴─┐    ┌──────────┐      │         ┌─┴─┐    ┌──────────┐    ┌─┴─┐     ┌─────────┐    ┌───┐     ┌──────────┐    ┌───┐     ┌──────────┐      │       ┌────┐┌───────────┐                   │                    │              │                            │        │         │                      │                       │                  │    │                              │                               │                │       │                                   │                         │                     │       │                              │                │                │                             │                                                │                                                                                                                                                                                                                                                                                             \n",
       "q_6 -> 8 ───────────────────────────────────────────────────────────────────┼──────────────────────────────┼─────┤ X ├───┤ Rz(-π/16) ├──┼─────┤ X ├────┤ Rz(π/16) ├──────┼─────────┤ X ├────┤ Rz(-π/8) ├────┤ X ├─────┤ Rz(π/8) ├────┤ X ├─────┤ Rz(-π/4) ├────┤ X ├─────┤ Rz(3π/4) ├──────┼───────┤ √X ├┤ Rz(3.117) ├───────────────────┼────────────────────┼──────────────■────────────────────────────┼────────■─────────┼──────────────────────■───────────────────────┼──────────────────■────┼──────────────────────────────■───────────────────────────────┼────────────────■───────┼───────────────────────────────────■─────────────────────────┼─────────────────────■───────┼──────────────────────────────■────────────────┼────────────────■─────────────────────────────■────────────────────────────────────────────────■─────────────────────────────────────────────────────────────────────────────────────────────────────────────────────────────────────────────────────────────────────────────────────────────────────────────────────────────────────────────────────────────────────────────────────────────\n",
       "                                                                          ┌─┴─┐┌──────────┐              ┌─┴─┐┌──┴───┴──┐└───────────┘┌─┴─┐┌──┴───┴───┐└──────────┘    ┌─┴─┐    ┌──┴───┴───┐└──┬────┬──┘┌───┴───┴────┐└─────────┘    └─┬─┘     └──────────┘    └─┬─┘     └──────────┘      │       └────┘└───────────┘                   │                    │                                           │                  │                                              │                       │                                                              │                        │                                                             │                             │                                               │                                                                                                                                                                                                                                                                                                                                                                                             \n",
       "q_7 -> 9 ─────────────────────────────────────────────────────────────────┤ X ├┤ Rz(-π/8) ├──────────────┤ X ├┤ Rz(π/8) ├─────────────┤ X ├┤ Rz(-π/4) ├────────────────┤ X ├────┤ Rz(3π/4) ├───┤ √X ├───┤ Rz(3.1293) ├─────────────────■─────────────────────────■─────────────────────────■─────────────────────────────────────────────■────────────────────■───────────────────────────────────────────■──────────────────■──────────────────────────────────────────────■───────────────────────■──────────────────────────────────────────────────────────────■────────────────────────■─────────────────────────────────────────────────────────────■─────────────────────────────■───────────────────────────────────────────────■─────────────────────────────────────────────────────────────────────────────────────────────────────────────────────────────────────────────────────────────────────────────────────────────────────────────────────────────────────────────────────────────────────────────────────────────────────────────────────────────────────────────────────────────────────────────────────────────\n",
       "                                                                          └───┘└──────────┘              └───┘└─────────┘             └───┘└──────────┘                └───┘    └──────────┘   └────┘   └────────────┘                                                                                                                                                                                                                                                                                                                                                                                                                                                                                                                                                                                                                                                                                                                                                                                                                                                                                                                "
      ]
     },
     "execution_count": 36,
     "metadata": {},
     "output_type": "execute_result"
    }
   ],
   "source": [
    "# transpile the qft quantum circuit for the basis gate of our example backend\n",
    "qc_synth = generate_preset_pass_manager(2, backend=backend).run(qc)\n",
    "qc_synth.draw(fold=-1)"
   ]
  },
  {
   "cell_type": "code",
   "execution_count": 37,
   "id": "f0463590-00c8-44e9-bc63-c662f0e3e92a",
   "metadata": {},
   "outputs": [
    {
     "name": "stdout",
     "output_type": "stream",
     "text": [
      "Quantum circuit characteristics\n",
      "  Depth: 65\n",
      "  Number of qubits: 10\n",
      "  Operations: {'rz': 101, 'cx': 90, 'sx': 10}\n",
      "  Number of multi-qubit Operations: 90\n"
     ]
    }
   ],
   "source": [
    "print_qc_characteristics(qc_synth)"
   ]
  },
  {
   "cell_type": "markdown",
   "id": "fcd1b7a5-8bf4-4f64-8ddf-6de9605149b0",
   "metadata": {},
   "source": [
    "As visible from the quantum circuit drawing, the output of transpilation generates a quantum circuit where two-qubit quantum gates occur between each pair of qubits.\n",
    "The definition of `backend` includes a coupling map with all-to-all connected qubits by default. Transpile a quantum circuit for the same basis get set and number of qubits as `backend` but with a linear coupling map `cm` of type `CouplingMap` where a qubit with index *i* is only connected to the directly neighboring qubit with index *i+1*. The [coupling map](https://docs.quantum.ibm.com/api/qiskit/qiskit.transpiler.CouplingMap) can be passed to Qiskit's transpilation in various ways. Note that in `generate_preset_pass_manager` the `backend` parameter takes precedence over `basis_gates` and `coupling_map` parameters, i.e. if the `backend` is set, the latter parameters are ignored. "
   ]
  },
  {
   "cell_type": "code",
   "execution_count": 55,
   "id": "3552c406-0fa6-4bb2-a067-8ddba1d66463",
   "metadata": {},
   "outputs": [],
   "source": [
    "# Your work goes here!\n",
    "# assign a 10-qubit linear `CouplingMap` to the variable cm\n",
    "cm = CouplingMap(couplinglist=[[i, i+1] for i in range(9)])\n",
    "\n",
    "# add your transpiled quantum circuit to the next line\n",
    "qc_routed = generate_preset_pass_manager(2, basis_gates=backend.operation_names, coupling_map=cm).run(qc)"
   ]
  },
  {
   "cell_type": "code",
   "execution_count": 56,
   "id": "0e32e317-2cb9-4c17-aabb-6531c0773046",
   "metadata": {},
   "outputs": [
    {
     "name": "stdout",
     "output_type": "stream",
     "text": [
      "Submitting your answer. Please wait...\n",
      "Congratulations 🎉! Your answer is correct and has been submitted.\n"
     ]
    }
   ],
   "source": [
    "# grade your work!\n",
    "grade_lab1_ex2(qc_routed)"
   ]
  },
  {
   "cell_type": "markdown",
   "id": "22d97677-4141-4166-9912-c40bb85f49dc",
   "metadata": {},
   "source": [
    "### Part 2: Build Your Own Transpiler\n",
    "\n",
    "In this exercise, we will create our own transpiler solely by using Qiskit's customizable and extensible transpilation infrastructure. Review the information on transpilation stages discussed in the lectures and the documentation at:\n",
    "* https://docs.quantum.ibm.com/transpile\n",
    "* https://docs.quantum.ibm.com/api/qiskit/transpiler_plugins#plugin-stages\n",
    "* https://docs.quantum.ibm.com/api/qiskit/qiskit.transpiler.StagedPassManager\n",
    "\n",
    "The transpilation in Qiskit is organized in stages that each are expected to solve one particular task. As Qiskit is applied to a variety of quantum circuits that each exhibit different structures, Qiskit's default transpilation used in the previous exercise must perform well on an arbitrary quantum circuit. It is challenging to consider the many transpilation trade-offs when developing a highly versatile transpiler, so we will focus on quantum Fourier transformation quantum circuits introduced in the previous exercise.\n",
    "The goal is to produce a hardware-compliant QFT quantum circuit that contains at least 20% less two-qubit quantum gates than the quantum circuit produced by Qiskit's default transpilation!"
   ]
  },
  {
   "cell_type": "markdown",
   "id": "c43763c2-528d-4572-b87d-11a34d1c24e8",
   "metadata": {},
   "source": [
    "For this, we start with a staged pass manager and successively populate the individual stages to route and synthesize the quantum circuit.\n",
    "In the end of this exercise, you will need to choose one or more suitable passes for the individual stage such that the output circuit has 20% less two-qubit quantum gates than Qiskit's default transpilation.  "
   ]
  },
  {
   "cell_type": "code",
   "execution_count": 57,
   "id": "223bf2bd-4361-44e3-85fb-ab5785f7148e",
   "metadata": {},
   "outputs": [],
   "source": [
    "pm_staged = StagedPassManager()\n",
    "# replace the n-qubit QFT operation with its decomposition in two-qubit gates\n",
    "pm_staged.init = generate_unroll_3q(None)\n",
    "# initialize the layout stage with an empty pass manager\n",
    "pm_staged.layout = PassManager()\n",
    "# set a 'trivial' initial layout, i.e. each qubit in the quantum circuit with index i \n",
    "# is mapped to the physical qubit on a device with the same index\n",
    "pm_staged.layout += TrivialLayout(cm)\n",
    "\n",
    "# do not modify the next line\n",
    "pm_staged.layout += generate_embed_passmanager(cm)"
   ]
  },
  {
   "cell_type": "markdown",
   "id": "1265ab45-ce0a-4942-baae-daf5298ada00",
   "metadata": {},
   "source": [
    "#### Exercise 2a: Routing a Quantum Circuit Through Your Own Transpiler\n",
    "Start with the routing, i.e. assign a routing pass to an appropiate stage of `pm_staged`!"
   ]
  },
  {
   "cell_type": "code",
   "execution_count": 69,
   "id": "4b16ede4-01b2-4894-ba2f-39f0aeb8f826",
   "metadata": {},
   "outputs": [
    {
     "name": "stdout",
     "output_type": "stream",
     "text": [
      "Quantum circuit characteristics\n",
      "  Depth: 44\n",
      "  Number of qubits: 10\n",
      "  Operations: {'swap': 58, 'cp': 45, 'h': 10}\n",
      "  Number of multi-qubit Operations: 103\n"
     ]
    },
    {
     "data": {
      "text/html": [
       "<pre style=\"word-wrap: normal;white-space: pre;background: #fff0;line-height: 1.1;font-family: &quot;Courier New&quot;,Courier,monospace\">                                                                                                                                                                                                                                                                                                                             \n",
       "q_0 -> 0 ───────────────────────────────────────────────────────────────────────────────────────────────────────────────────────────────────────────────X──────────────■───────────────────■─────────────────────────────────────────────────────────────────────────────────────────────────────────────────────────────────\n",
       "                                                                                                                                                        │              │P(π/128)           │P(π/256)                                                                                                                         \n",
       "q_1 -> 1 ────────────────────────────────────────────────────────────────────────────────────────────────────────────────────X─────────────■────────────X────────X─────■─────────────X─────■─────────────────────────────■─────────────X─────────────────────────────────────────────────────────────────────────────────────\n",
       "                                                                                                                             │             │P(π/64)              │                   │                                   │P(π/128)     │                                                                                     \n",
       "q_2 -> 2 ────────────────────────────────────────────────────────────────────────────────────────────X────────────■──────────X──────X──────■────────────X────────X─────■─────────────X────────────────■────────────X─────■─────────────X──────X──────────────────────────────────────────────────────────────────────────────\n",
       "                                                                                                     │            │P(π/32)          │                   │              │P(π/512)                      │P(π/64)     │                          │                                                                              \n",
       "q_3 -> 3 ──────────────────────────────────────────────────────────────────────────X───────■─────────X─────X──────■──────────X──────X─────■─────────────X────────X─────■───────────────────────X──────■────────────X─────────X────────────────X──■─────────X─────────────────────────────────────────────────────────────────\n",
       "                                                                                   │       │P(π/16)        │                 │            │P(π/256)              │                             │                             │                   │P(π/64)  │                                                                 \n",
       "q_4 -> 4 ──────────────────────────────────────────────────────────X─────■─────────X───X───■─────────X─────X─────■───────────X──────X─────■──────────────────────X──────■────────────X─────────X─────────────────────────────X──────■─────────X──■─────────X──■─────────X────────────────────────────────────────────────────\n",
       "                                                                   │     │P(π/8)       │             │           │P(π/128)          │                                   │P(π/32)     │                                              │P(π/32)  │               │P(π/32)  │                                                    \n",
       "q_5 -> 5 ──────────────────────────────────────────X─────■─────────X──X──■─────────X───X───■─────────X─────X─────■──────────────────X──────■────────────X───────────────■────────────X──────■────────────X──────────────────────────■─────────X──■─────────X──■─────────X──■─────────X───────────────────────────────────────\n",
       "                                                   │     │P(π/4)      │            │       │P(π/64)        │                               │P(π/16)     │                                   │P(π/16)     │                                       │P(π/16)  │               │P(π/16)  │                                       \n",
       "q_6 -> 6 ───────────────────────────X─────■────────X──X──■─────────X──X──■─────────X───X───■───────────────X──────■──────────X─────────────■────────────X─────■────────────X────────────────■────────────X──────■────────────X───────────────────■─────────X──■─────────X──■─────────X──■────────X───────────────────────────\n",
       "                            ┌───┐   │     │P(π/2)     │            │     │P(π/32)      │                          │P(π/8)    │                                │P(π/8)      │                                    │P(π/8)      │                                │P(π/8)   │               │P(π/8)  │                           \n",
       "q_7 -> 7 ───────────────X───┤ H ├───X──X──■────────X──X──■─────────X──X──■─────────────X───■─────────X────────────■──────────X───■────────────X───────────────■────────────X──────■────────────X────────────────■────────────X──────■─────────X───────────────■─────────X──■─────────X──■────────X──■────────X───────────────\n",
       "                        │   └───┘      │           │     │P(π/16)     │                    │P(π/4)   │                           │P(π/4)      │                                   │P(π/4)      │                                    │P(π/4)   │                            │P(π/4)   │              │P(π/4)  │          ┌───┐\n",
       "q_8 -> 8 ──────■────────X──■───────────X──■────────X──X──■────────────X──■─────────X───────■─────────X──■────────────X───────────■────────────X──────■───────────X────────────────■────────────X──────■────────────X────────────────■─────────X──■─────────X───────────────■─────────X──■────────X──■────────X──■───────┤ H ├\n",
       "         ┌───┐ │P(π/2)     │P(π/4)        │P(π/8)     │   ┌───┐          │P(π/2)   │ ┌───┐              │P(π/2)      │     ┌───┐                     │P(π/2)     │       ┌───┐                        │P(π/2)      │       ┌───┐                 │P(π/2)   │   ┌───┐                    │P(π/2)  │   ┌───┐      │P(π/2) └───┘\n",
       "q_9 -> 9 ┤ H ├─■───────────■──────────────■───────────X───┤ H ├──────────■─────────X─┤ H ├──────────────■────────────X─────┤ H ├─────────────────────■───────────X───────┤ H ├────────────────────────■────────────X───────┤ H ├─────────────────■─────────X───┤ H ├────────────────────■────────X───┤ H ├──────■────────────\n",
       "         └───┘                                            └───┘                      └───┘                                 └───┘                                         └───┘                                             └───┘                               └───┘                                 └───┘                   </pre>"
      ],
      "text/plain": [
       "                                                                                                                                                                                                                                                                                                                             \n",
       "q_0 -> 0 ───────────────────────────────────────────────────────────────────────────────────────────────────────────────────────────────────────────────X──────────────■───────────────────■─────────────────────────────────────────────────────────────────────────────────────────────────────────────────────────────────\n",
       "                                                                                                                                                        │              │P(π/128)           │P(π/256)                                                                                                                         \n",
       "q_1 -> 1 ────────────────────────────────────────────────────────────────────────────────────────────────────────────────────X─────────────■────────────X────────X─────■─────────────X─────■─────────────────────────────■─────────────X─────────────────────────────────────────────────────────────────────────────────────\n",
       "                                                                                                                             │             │P(π/64)              │                   │                                   │P(π/128)     │                                                                                     \n",
       "q_2 -> 2 ────────────────────────────────────────────────────────────────────────────────────────────X────────────■──────────X──────X──────■────────────X────────X─────■─────────────X────────────────■────────────X─────■─────────────X──────X──────────────────────────────────────────────────────────────────────────────\n",
       "                                                                                                     │            │P(π/32)          │                   │              │P(π/512)                      │P(π/64)     │                          │                                                                              \n",
       "q_3 -> 3 ──────────────────────────────────────────────────────────────────────────X───────■─────────X─────X──────■──────────X──────X─────■─────────────X────────X─────■───────────────────────X──────■────────────X─────────X────────────────X──■─────────X─────────────────────────────────────────────────────────────────\n",
       "                                                                                   │       │P(π/16)        │                 │            │P(π/256)              │                             │                             │                   │P(π/64)  │                                                                 \n",
       "q_4 -> 4 ──────────────────────────────────────────────────────────X─────■─────────X───X───■─────────X─────X─────■───────────X──────X─────■──────────────────────X──────■────────────X─────────X─────────────────────────────X──────■─────────X──■─────────X──■─────────X────────────────────────────────────────────────────\n",
       "                                                                   │     │P(π/8)       │             │           │P(π/128)          │                                   │P(π/32)     │                                              │P(π/32)  │               │P(π/32)  │                                                    \n",
       "q_5 -> 5 ──────────────────────────────────────────X─────■─────────X──X──■─────────X───X───■─────────X─────X─────■──────────────────X──────■────────────X───────────────■────────────X──────■────────────X──────────────────────────■─────────X──■─────────X──■─────────X──■─────────X───────────────────────────────────────\n",
       "                                                   │     │P(π/4)      │            │       │P(π/64)        │                               │P(π/16)     │                                   │P(π/16)     │                                       │P(π/16)  │               │P(π/16)  │                                       \n",
       "q_6 -> 6 ───────────────────────────X─────■────────X──X──■─────────X──X──■─────────X───X───■───────────────X──────■──────────X─────────────■────────────X─────■────────────X────────────────■────────────X──────■────────────X───────────────────■─────────X──■─────────X──■─────────X──■────────X───────────────────────────\n",
       "                            ┌───┐   │     │P(π/2)     │            │     │P(π/32)      │                          │P(π/8)    │                                │P(π/8)      │                                    │P(π/8)      │                                │P(π/8)   │               │P(π/8)  │                           \n",
       "q_7 -> 7 ───────────────X───┤ H ├───X──X──■────────X──X──■─────────X──X──■─────────────X───■─────────X────────────■──────────X───■────────────X───────────────■────────────X──────■────────────X────────────────■────────────X──────■─────────X───────────────■─────────X──■─────────X──■────────X──■────────X───────────────\n",
       "                        │   └───┘      │           │     │P(π/16)     │                    │P(π/4)   │                           │P(π/4)      │                                   │P(π/4)      │                                    │P(π/4)   │                            │P(π/4)   │              │P(π/4)  │          ┌───┐\n",
       "q_8 -> 8 ──────■────────X──■───────────X──■────────X──X──■────────────X──■─────────X───────■─────────X──■────────────X───────────■────────────X──────■───────────X────────────────■────────────X──────■────────────X────────────────■─────────X──■─────────X───────────────■─────────X──■────────X──■────────X──■───────┤ H ├\n",
       "         ┌───┐ │P(π/2)     │P(π/4)        │P(π/8)     │   ┌───┐          │P(π/2)   │ ┌───┐              │P(π/2)      │     ┌───┐                     │P(π/2)     │       ┌───┐                        │P(π/2)      │       ┌───┐                 │P(π/2)   │   ┌───┐                    │P(π/2)  │   ┌───┐      │P(π/2) └───┘\n",
       "q_9 -> 9 ┤ H ├─■───────────■──────────────■───────────X───┤ H ├──────────■─────────X─┤ H ├──────────────■────────────X─────┤ H ├─────────────────────■───────────X───────┤ H ├────────────────────────■────────────X───────┤ H ├─────────────────■─────────X───┤ H ├────────────────────■────────X───┤ H ├──────■────────────\n",
       "         └───┘                                            └───┘                      └───┘                                 └───┘                                         └───┘                                             └───┘                               └───┘                                 └───┘                   "
      ]
     },
     "execution_count": 69,
     "metadata": {},
     "output_type": "execute_result"
    }
   ],
   "source": [
    "# Your work goes here!\n",
    "MyPass = StochasticSwap(cm)\n",
    "# See the first cells in this notebook or\n",
    "#  https://github.com/Qiskit/qiskit/tree/main/qiskit/transpiler/passes/routing for potential routing passes\n",
    "pm_staged.routing = PassManager(MyPass)\n",
    "qc_routed = pm_staged.run(qc)\n",
    "print_qc_characteristics(qc_routed)\n",
    "qc_routed.draw(fold=-1)"
   ]
  },
  {
   "cell_type": "code",
   "execution_count": 67,
   "id": "e0530943-1e73-496f-ab91-ec34a98001d1",
   "metadata": {},
   "outputs": [
    {
     "name": "stdout",
     "output_type": "stream",
     "text": [
      "Submitting your answer. Please wait...\n",
      "Congratulations 🎉! Your answer is correct and has been submitted.\n"
     ]
    }
   ],
   "source": [
    "# grade your work!\n",
    "grade_lab1_ex3(pm_staged)"
   ]
  },
  {
   "cell_type": "markdown",
   "id": "6816fd52-9748-46c6-8b74-977b7b707b56",
   "metadata": {},
   "source": [
    "Note that the two-qubit quantum gates in the QFT quantum circuit only occur between direct neighbors, i.e. the quantum circuit can be executed on qubits that are connected as a line.\n",
    "#### Exercise 2b: Synthesize a Quantum Circuit Through Your Own Transpiler\n",
    "In order to establish hardware-compatibility to a quantum computer described by `backend`, the quantum circuit must be formulated by the basis gate set of `backend`.\n",
    "This can be accomplished by assigning an appropiate pass to a stage of `pm_staged`."
   ]
  },
  {
   "cell_type": "code",
   "execution_count": 87,
   "id": "173f161f-8901-4967-ba31-6d9da8e3f7b7",
   "metadata": {},
   "outputs": [
    {
     "name": "stdout",
     "output_type": "stream",
     "text": [
      "Quantum circuit characteristics\n",
      "  Depth: 153\n",
      "  Number of qubits: 10\n",
      "  Operations: {'cx': 261, 'rz': 155, 'sx': 10}\n",
      "  Number of multi-qubit Operations: 261\n"
     ]
    },
    {
     "data": {
      "text/html": [
       "<pre style=\"word-wrap: normal;white-space: pre;background: #fff0;line-height: 1.1;font-family: &quot;Courier New&quot;,Courier,monospace\">global phase: 1.5723\n",
       "                                                                                                                                                                                                                                                                                                                                                                                                                                                                                                                                                                                                                                                                                                                                                                                                ┌───┐         ┌───────────┐                                                                                     ┌───────────┐                                                                                                                                                                                                                                                                                                                                                                                                                                                                                                                                                                                                                                                                                                    \n",
       "q_0 -> 0 ────────────────────────────────────────────────────────────────────────────────────────────────────────────────────────────────────────────────────────────────────────────────────────────────────────────────────────────────────────────────────────────────────────────────────────────────────────────────────────────────────────────────────────────────────────────────────────────────────────────────────────────────────────────────────────────────────────────────────────────────────────────────────────────────────────────────────────────────────────────────────────────────────────────────────────────────────────────────────────────────────────────────────────────────────────────────────────────────────────────────────────────────────────────■──────────┤ X ├──────■──┤ Rz(π/256) ├────────────────────────────────────────────────■────────────────────────────■───────┤ Rz(π/512) ├─────────────────────────────────────────────────■─────────────────────────■────────────────────────────────────────────────────────────────────────────────────────────────────────────────────────────────────────────────────────────────────────────────────────────────────────────────────────────────────────────────────────────────────────────────────────────────────────────────────────────────────────────────────────────────────────────────────────────────────────────────────────────────────────────────────────────────────────────────────────────────────────────────────────────────────────────────────────────────────────────────────────────────────────────────────────\n",
       "                                                                                                                                                                                                                                                                                                                                                                                                                                                                                                                                                                                                                                                             ┌───┐               ┌───────────┐                                                                                     ┌─┴─┐        └─┬─┘    ┌─┴─┐└───────────┘                         ┌───┐                ┌─┴─┐     ┌────────────┐     ┌─┴─┐     ├───────────┤                      ┌───┐                    ┌─┴─┐    ┌────────────┐   ┌─┴─┐    ┌───────────┐                 ┌───┐                                                                                                                                                                                                                                                                                                                                                                                                                                                                                                                                                                               \n",
       "q_1 -> 1 ─────────────────────────────────────────────────────────────────────────────────────────────────────────────────────────────────────────────────────────────────────────────────────────────────────────────────────────────────────────────────────────────────────────────────────────────────────────────────────────────────────────────────────────────────────────────────────────────────────────────────────────────────────────────────────────────────────────────────────────────────────────────────────────────────────────────────────────────────────────────────────────────────────────────────────────────────────────■──────────┤ X ├─────────■─────┤ Rz(π/128) ├──────────────────────────────────────────────■──────────────────────────■───────────┤ X ├──────────■──────┤ X ├───────────────────────────────■──────┤ X ├─────■──────────┤ X ├─────┤ Rz(-π/256) ├─────┤ X ├─────┤ Rz(π/256) ├────────────────■─────┤ X ├─────────■──────────┤ X ├────┤ Rz(-π/512) ├───┤ X ├────┤ Rz(π/512) ├──────■──────────┤ X ├─────────■─────────────────────────────────────────────────────────────────────────────────────────────────────────────────────────────────────────────────────────────────────────────────────────────────────────────────────────────────────────────────────────────────────────────────────────────────────────────────────────────────────────────────────────────────────────────────────────────────────────────────────────────────────────────────────────────────────────────────────────────────────────────────────────────────────────────────────────────────────\n",
       "                                                                                                                                                                                                                                                                                                                                                                                                                                                                                                                                   ┌───┐         ┌──────────┐                                                                                   ┌─┴─┐        └─┬─┘       ┌─┴─┐   └───────────┘                        ┌───┐               ┌─┴─┐    ┌────────────┐    ┌─┴─┐     ┌───┴───┴───┐             └───┘    ┌───┐                    ┌─┴─┐    └─┬─┘   ┌─┴─┐        └───┘     └───┬───┬────┘┌────┴───┴────┐└───┬───┬───┘┌────────────┐┌─┴─┐   └─┬─┘       ┌─┴─┐        └───┘    └───┬───┬────┘   └───┘    └───────────┘    ┌─┴─┐        └─┬─┘       ┌─┴─┐                                                   ┌───┐    ┌────────────┐   ┌───┐    ┌───────────┐        ┌───┐                                                                                                                                                                                                                                                                                                                                                                                                                                                   \n",
       "q_2 -> 2 ───────────────────────────────────────────────────────────────────────────────────────────────────────────────────────────────────────────────────────────────────────────────────────────────────────────────────────────────────────────────────────────────────────────────────────────────────────────────────────────────────────────────────────────────────────────────────────────────────────────────────────────────────────────────────────────────────────────────────────────────────────────────■──────────┤ X ├──────■──┤ Rz(π/64) ├──────────────────────────────────────────────■─────────────────────────■──────────┤ X ├──────────■─────────┤ X ├─────────────────────────────────■──────┤ X ├─────■─────────┤ X ├────┤ Rz(-π/128) ├────┤ X ├─────┤ Rz(π/128) ├───────────────■──────┤ X ├─────────■──────────┤ X ├──────■─────┤ X ├──────────────────────┤ X ├─────┤ Rz(-π/1024) ├────┤ X ├────┤ Rz(π/1024) ├┤ X ├─────■─────────┤ X ├──────────■──────────┤ X ├──────────■───────────────────────┤ X ├──────────■─────────┤ X ├───────────────────────────────────────────────────┤ X ├────┤ Rz(-π/256) ├───┤ X ├────┤ Rz(π/256) ├──■─────┤ X ├─────────■─────────────────────────────────────────────────────────────────────────────────────────────────────────────────────────────────────────────────────────────────────────────────────────────────────────────────────────────────────────────────────────────────────────────────────────────────────────────────────────────────────────────────────────────────────────────────────────────────────────────────────────────────────────\n",
       "                                                                                                                                                                                                                                                                                                                                                                                                          ┌───┐         ┌──────────┐                                                                                  ┌─┴─┐        └─┬─┘    ┌─┴─┐└──────────┘                        ┌───┐               ┌─┴─┐    ┌───────────┐    ┌─┴─┐     ┌──┴───┴───┐                └───┘       ┌───┐                   ┌─┴─┐    └─┬─┘   ┌─┴─┐       └───┘    └───┬───┬────┘┌───┴───┴────┐└───┬───┬───┘┌───────────┐┌─┴─┐    └─┬─┘       ┌─┴─┐        └───┘    ┌───┐   └───┘    ┌────────────┐    └─┬─┘     └─────────────┘    └─┬─┘    └────────────┘└───┘               └───┘        ┌─┴─┐        └─┬─┘        ┌─┴─┐        ┌───┐    ┌───┴───┴────┐   ┌───┐   ┌───┴───┴───┐             ┌───┐            ┌───────────┐    └─┬─┘    └────────────┘   └─┬─┘    └───────────┘┌─┴─┐   └─┬─┘       ┌─┴─┐        ┌───┐    ┌────────────┐   ┌───┐    ┌───────────┐        ┌───┐                                                                                                                                                                                                                                                                                                                                                                  \n",
       "q_3 -> 3 ───────────────────────────────────────────────────────────────────────────────────────────────────────────────────────────────────────────────────────────────────────────────────────────────────────────────────────────────────────────────────────────────────────────────────────────────────────────────────────────────────────────────────────────────────────────────────────■─────────┤ X ├──────■──┤ Rz(π/32) ├─────────────────────────────────────────────■─────────────────────────■──────────┤ X ├──────────■──────┤ X ├─────────────────────────────■──────┤ X ├─────■─────────┤ X ├────┤ Rz(-π/64) ├────┤ X ├─────┤ Rz(π/64) ├──────────────────■─────────┤ X ├─────────■─────────┤ X ├──────■─────┤ X ├────────────────────┤ X ├─────┤ Rz(-π/512) ├────┤ X ├────┤ Rz(π/512) ├┤ X ├──────■─────────┤ X ├──────────■──────┤ X ├─────■──────┤ Rz(π/1024) ├──────■────────────────────────────■─────────────────────────────────────────────────────┤ X ├──────────■──────────┤ X ├────────┤ X ├────┤ Rz(-π/128) ├───┤ X ├───┤ Rz(π/128) ├──────■──────┤ X ├─────■──────┤ Rz(π/256) ├──────■─────────────────────────■───────────────────┤ X ├─────■─────────┤ X ├────────┤ X ├────┤ Rz(-π/128) ├───┤ X ├────┤ Rz(π/128) ├──■─────┤ X ├────────■─────────────────────────────────────────────────────────────────────────────────────────────────────────────────────────────────────────────────────────────────────────────────────────────────────────────────────────────────────────────────────────────────────────────────────────────────────────────────────────────────────────────────────────\n",
       "                                                                                                                                                                                                                                                                                                       ┌───┐         ┌──────────┐                                                             ┌─┴─┐       └─┬─┘    ┌─┴─┐└──────────┘                    ┌───┐                  ┌─┴─┐    ┌───────────┐    ┌─┴─┐     ┌──┴───┴───┐             └───┘   ┌───┐                   ┌─┴─┐    └─┬─┘   ┌─┴─┐       └───┘    └───┬───┬───┘┌───┴───┴────┐└──┬───┬───┘┌───────────┐   ┌─┴─┐       └─┬─┘       ┌─┴─┐       └───┘    ┌───┐   └───┘   ┌───────────┐    └─┬─┘     └────────────┘    └─┬─┘    └───────────┘└───┘                └───┘        ┌─┴─┐    └─┬─┘   ┌─┴─┐    └───┬───┬────┘┌───────────┐      ┌───┐      ┌──────────┐              ┌───┐           ┌───────────┐    └───┘                     └───┘        └─┬─┘    └────────────┘   └─┬─┘   └───────────┘    ┌─┴─┐    └─┬─┘   ┌─┴─┐    └───┬───┬───┘┌───────────┐    ┌───┐     ┌──────────┐             ├───┤           ┌───┴───┴───┐    └─┬─┘    └────────────┘   └─┬─┘    └───────────┘┌─┴─┐   └─┬─┘      ┌─┴─┐        ┌───┐    ┌───────────┐   ┌───┐    ┌──────────┐              ┌───┐                                                                                                                                                                                                                                                                              \n",
       "q_4 -> 4 ─────────────────────────────────────────────────────────────────────────────────────────────────────────────────────────────────────────────────────────────────────────────────────────────────────────────────────────────────────────────────────────────────────────────────────■────────┤ X ├──────■──┤ Rz(π/16) ├─────────────────────────■─────────────────────────■─────────┤ X ├─────────■──────┤ X ├─────────────────────────■──────┤ X ├────────■─────────┤ X ├────┤ Rz(-π/32) ├────┤ X ├─────┤ Rz(π/32) ├───────────────■─────┤ X ├─────────■─────────┤ X ├──────■─────┤ X ├────────────────────┤ X ├────┤ Rz(-π/256) ├───┤ X ├────┤ Rz(π/256) ├───┤ X ├─────────■─────────┤ X ├─────────■──────┤ X ├─────■─────┤ Rz(π/512) ├──────■───────────────────────────■─────────────────────────────────────────────────────┤ X ├──────■─────┤ X ├────────┤ X ├─────┤ Rz(-π/64) ├──────┤ X ├──────┤ Rz(π/64) ├──────■───────┤ X ├─────■─────┤ Rz(π/128) ├─────────────────────────────────────────────■─────────────────────────■──────────────────────┤ X ├──────■─────┤ X ├────────┤ X ├────┤ Rz(-π/64) ├────┤ X ├─────┤ Rz(π/64) ├──────■──────┤ X ├─────■─────┤ Rz(π/128) ├──────■─────────────────────────■───────────────────┤ X ├─────■────────┤ X ├────────┤ X ├────┤ Rz(-π/64) ├───┤ X ├────┤ Rz(π/64) ├─────■────────┤ X ├────────■─────────────────────────────────────────────────────────────────────────────────────────────────────────────────────────────────────────────────────────────────────────────────────────────────────────────────────────────────────────────────────────────────────\n",
       "                                                                                                                                                                                                                ┌───┐     ┌─────────┐                                                       ┌─┴─┐      └─┬─┘    ┌─┴─┐└──────────┘          ┌───┐        ┌─┴─┐    ┌───────────┐    ┌─┴─┐    ┌──┴───┴───┐            └───┘   ┌───┐               ┌─┴─┐    └─┬─┘      ┌─┴─┐       └───┘    └───┬───┬───┘┌───┴───┴────┐└──┬───┬───┘┌───────────┐┌─┴─┐   └─┬─┘       ┌─┴─┐       └───┘    ┌───┐   └───┘   ┌───────────┐    └─┬─┘    └────────────┘   └─┬─┘    └───────────┘   └───┘                   └───┘       ┌─┴─┐    └─┬─┘   ┌─┴─┐   └───┬───┬───┘┌───────────┐     ┌───┐      ┌──────────┐             ┌───┐             ┌──────────┐    └───┘            └───┘        └─┬─┘     └───────────┘      └─┬─┘      └──────────┘    ┌─┴─┐     └─┬─┘   ┌─┴─┐   └───┬───┬───┘┌───────────┐    ┌───┐     ┌──────────┐                 ┌───┐                 ┌──────────┐    └───┘            └───┘        └─┬─┘    └───────────┘    └─┬─┘     └──────────┘    ┌─┴─┐    └─┬─┘   ┌─┴─┐   └───┬───┬───┘┌───────────┐    ┌───┐     ┌──────────┐             ├───┤           ┌──┴───┴───┐    └─┬─┘    └───────────┘   └─┬─┘    └──────────┘   ┌─┴─┐      └─┬─┘      ┌─┴─┐       ┌───┐    ┌───────────┐   ┌───┐   ┌──────────┐     ┌───┐                                                                                                                                                                                                     \n",
       "q_5 -> 5 ────────────────────────────────────────────────────────────────────────────────────────────────────────────────────────────────────────────────────────────────────────────────────────────────■──────┤ X ├──■──┤ Rz(π/8) ├────────────────────■────────────────────────■─────────┤ X ├────────■──────┤ X ├───────────────────■──┤ X ├──■─────┤ X ├────┤ Rz(-π/16) ├────┤ X ├────┤ Rz(π/16) ├──────────────■─────┤ X ├─────────■─────┤ X ├──────■────────┤ X ├────────────────────┤ X ├────┤ Rz(-π/128) ├───┤ X ├────┤ Rz(π/128) ├┤ X ├─────■─────────┤ X ├─────────■──────┤ X ├─────■─────┤ Rz(π/256) ├──────■─────────────────────────■──────────────────────────────────────────────────────────┤ X ├──────■─────┤ X ├───────┤ X ├────┤ Rz(-π/32) ├─────┤ X ├──────┤ Rz(π/32) ├──────■──────┤ X ├──────■──────┤ Rz(π/64) ├────────────────────────────────────■────────────────────────────■────────────────────────┤ X ├───────■─────┤ X ├───────┤ X ├────┤ Rz(-π/32) ├────┤ X ├─────┤ Rz(π/32) ├──────■──────────┤ X ├──────────■──────┤ Rz(π/64) ├────────────────────────────────────■─────────────────────────■───────────────────────┤ X ├──────■─────┤ X ├───────┤ X ├────┤ Rz(-π/32) ├────┤ X ├─────┤ Rz(π/32) ├──────■──────┤ X ├─────■─────┤ Rz(π/64) ├──────■────────────────────────■─────────────────────┤ X ├────────■────────┤ X ├───────┤ X ├────┤ Rz(-π/32) ├───┤ X ├───┤ Rz(π/32) ├──■──┤ X ├─────■───────────────────────────────────────────────────────────────────────────────────────────────────────────────────────────────────────────────────────────────────────────────────────────────\n",
       "                                                                                                                                              ┌───┐     ┌─────────┐                                    ┌─┴─┐    └─┬─┘┌─┴─┐└─────────┘     ┌───┐        ┌─┴─┐    ┌──────────┐    ┌─┴─┐    ┌──┴───┴──┐            └───┘   ┌───┐         ┌─┴─┐└─┬─┘┌─┴─┐   └───┘    └───┬───┬───┘┌───┴───┴───┐└──┬───┬───┘┌──────────┐┌─┴─┐   └─┬─┘       ┌─┴─┐   └───┘    ┌───┐      └───┘   ┌───────────┐    └─┬─┘    └────────────┘   └─┬─┘    └───────────┘└───┘               └───┘       ┌─┴─┐    └─┬─┘   ┌─┴─┐   └───┬───┬───┘┌───────────┐    ┌───┐     ┌──────────┐                ┌───┐                ┌──────────┐   └───┘            └───┘       └─┬─┘    └───────────┘     └─┬─┘      └──────────┘    ┌─┴─┐    └─┬─┘    ┌─┴─┐    └──┬───┬───┘┌───────────┐┌───┐┌──────────┐                  ┌───┐                     ┌──────────┐    └───┘             └───┘       └─┬─┘    └───────────┘    └─┬─┘     └──────────┘    ┌─┴─┐        └─┬─┘        ┌─┴─┐    └──┬───┬───┘┌───────────┐┌───┐┌──────────┐                 ┌───┐                  ┌──────────┐    └───┘            └───┘       └─┬─┘    └───────────┘    └─┬─┘     └──────────┘    ┌─┴─┐    └─┬─┘   ┌─┴─┐   └──┬───┬───┘┌───────────┐    ┌───┐    ┌──────────┐               ├───┤              ┌──┴───┴───┐   └─┬─┘    └───────────┘   └─┬─┘   └──────────┘┌─┴─┐└─┬─┘   ┌─┴─┐       ┌───┐    ┌───────────┐   ┌───┐   ┌──────────┐     ┌───┐                                                                                                                               \n",
       "q_6 -> 6 ──────────────────────────────────────────────────────────────────────────────────────────────────────────────────────────────■──────┤ X ├──■──┤ Rz(π/4) ├────────────■─────────────────■─────┤ X ├──────■──┤ X ├─────────────■──┤ X ├──■─────┤ X ├────┤ Rz(-π/8) ├────┤ X ├────┤ Rz(π/8) ├──────────────■─────┤ X ├──────■──┤ X ├──■──┤ X ├────────────────┤ X ├────┤ Rz(-π/64) ├───┤ X ├────┤ Rz(π/64) ├┤ X ├─────■─────────┤ X ├─────■──────┤ X ├────────■─────┤ Rz(π/128) ├──────■─────────────────────────■───────────────────────────────────────────────────┤ X ├──────■─────┤ X ├───────┤ X ├────┤ Rz(-π/16) ├────┤ X ├─────┤ Rz(π/16) ├──────■─────────┤ X ├─────────■──────┤ Rz(π/32) ├──────────────────────────────────■──────────────────────────■────────────────────────┤ X ├──────■──────┤ X ├───────┤ X ├────┤ Rz(-π/16) ├┤ X ├┤ Rz(π/16) ├──────■───────────┤ X ├────────────■────────┤ Rz(π/32) ├────────────────────────────────────■─────────────────────────■───────────────────────┤ X ├──────────■──────────┤ X ├───────┤ X ├────┤ Rz(-π/16) ├┤ X ├┤ Rz(π/16) ├──────■──────────┤ X ├──────────■───────┤ Rz(π/32) ├───────────────────────────────────■─────────────────────────■───────────────────────┤ X ├──────■─────┤ X ├──────┤ X ├────┤ Rz(-π/16) ├────┤ X ├────┤ Rz(π/16) ├─────■─────────┤ X ├────────■─────┤ Rz(π/32) ├─────■────────────────────────■─────────────────┤ X ├──■─────┤ X ├───────┤ X ├────┤ Rz(-π/16) ├───┤ X ├───┤ Rz(π/16) ├──■──┤ X ├─────■─────────────────────────────────────────────────────────────────────────────────────────────────────────────────────────\n",
       "                                                                                      ┌───┐     ┌─────────┐   ┌────┐   ┌─────────┐   ┌─┴─┐    └─┬─┘┌─┴─┐└─────────┘┌───┐     ┌─┴─┐ ┌──────────┐┌─┴─┐┌──┴───┴──┐      ├───┤           ┌─┴─┐└─┬─┘┌─┴─┐   └───┘    └──┬───┬───┘┌───┴───┴───┐└──┬───┬──┘┌──────────┐┌─┴─┐   └─┬─┘    ┌─┴─┐└───┘┌───┐└───┘┌──────────┐    └─┬─┘    └───────────┘   └─┬─┘    └──────────┘└───┘               └───┘   ┌─┴─┐    └─┬─┘      ┌─┴─┐   └───┬───┬───┘ ┌──────────┐    ┌───┐     ┌─────────┐              ┌───┐            ┌──────────┐   └───┘            └───┘       └─┬─┘    └───────────┘    └─┬─┘     └──────────┘    ┌─┴─┐       └─┬─┘       ┌─┴─┐    └──┬───┬───┘┌──────────┐┌───┐┌─────────┐                 ┌───┐                    ┌──────────┐    └───┘             └───┘       └─┬─┘    └───────────┘└─┬─┘└──────────┘    ┌─┴─┐         └─┬─┘          ┌─┴─┐      └──┬───┬───┘ ┌──────────┐ ┌───┐┌─────────┐                 ┌───┐                  ┌──────────┐    └───┘                     └───┘       └─┬─┘    └───────────┘└─┬─┘└──────────┘    ┌─┴─┐        └─┬─┘        ┌─┴─┐     └──┬───┬───┘ ┌──────────┐┌───┐┌─────────┐                 ┌───┐                  ┌──────────┐    └───┘            └───┘      └─┬─┘    └───────────┘    └─┬─┘    └──────────┘   ┌─┴─┐       └─┬─┘      ┌─┴─┐   └──┬───┬───┘┌──────────┐    ┌───┐    ┌─────────┐            ├───┤     ┌──┴───┴───┐   └─┬─┘    └───────────┘   └─┬─┘   └──────────┘┌─┴─┐└─┬─┘   ┌─┴─┐   ┌───┐ ┌──────────┐   ┌───┐   ┌─────────┐     ┌───┐                                                                  \n",
       "q_7 -> 7 ──────────────────────────────────────────────────────────────────────────■──┤ X ├──■──┤ Rz(π/2) ├───┤ √X ├───┤ Rz(π/2) ├───┤ X ├──────■──┤ X ├─────■─────┤ X ├──■──┤ X ├─┤ Rz(-π/4) ├┤ X ├┤ Rz(π/4) ├───■──┤ X ├─────■─────┤ X ├──■──┤ X ├───────────────┤ X ├────┤ Rz(-π/32) ├───┤ X ├───┤ Rz(π/32) ├┤ X ├─────■──────┤ X ├──■──┤ X ├──■──┤ Rz(π/64) ├──────■────────────────────────■──────────────────────────────────────────────┤ X ├──────■────────┤ X ├───────┤ X ├─────┤ Rz(-π/8) ├────┤ X ├─────┤ Rz(π/8) ├───────■──────┤ X ├─────■──────┤ Rz(π/16) ├──────────────────────────────────■─────────────────────────■───────────────────────┤ X ├─────────■─────────┤ X ├───────┤ X ├────┤ Rz(-π/8) ├┤ X ├┤ Rz(π/8) ├──────■──────────┤ X ├───────────■────────┤ Rz(π/16) ├────────────────────────────────────■─────────────────────■──────────────────┤ X ├───────────■────────────┤ X ├─────────┤ X ├─────┤ Rz(-π/8) ├─┤ X ├┤ Rz(π/8) ├──────■──────────┤ X ├──────────■───────┤ Rz(π/16) ├────────────────────────────────────────────■─────────────────────■──────────────────┤ X ├──────────■──────────┤ X ├────────┤ X ├─────┤ Rz(-π/8) ├┤ X ├┤ Rz(π/8) ├──────■──────────┤ X ├──────────■───────┤ Rz(π/16) ├──────────────────────────────────■─────────────────────────■─────────────────────┤ X ├─────────■────────┤ X ├──────┤ X ├────┤ Rz(-π/8) ├────┤ X ├────┤ Rz(π/8) ├─────■──────┤ X ├──■──┤ Rz(π/16) ├─────■────────────────────────■─────────────────┤ X ├──■─────┤ X ├───┤ X ├─┤ Rz(-π/8) ├───┤ X ├───┤ Rz(π/8) ├──■──┤ X ├──■───────────────────────────────────────────────────────────────\n",
       "                                                ┌───┐┌──────────┐┌───┐┌─────────┐┌─┴─┐└─┬─┘┌─┴─┐└──┬───┬──┘┌──┴────┴──┐└──┬───┬──┘┌──┴───┴──┐      └───┘   ┌─┴─┐   └─┬─┘┌─┴─┐├───┤┌┴──────────┤├───┤├─────────┴┐┌─┴─┐└─┬─┘   ┌─┴─┐   └───┘┌───┐└───┘┌──────────┐   └─┬─┘    └───────────┘   └─┬─┘   └──────────┘└───┘            └───┘┌─┴─┐└─┬─┘┌─┴─┐└──┬───┬───┘ ┌──────────┐    ┌───┐    ┌─────────┐             ┌───┐            ┌─────────┐└───┘               └───┘       └─┬─┘     └──────────┘    └─┬─┘     └─────────┘     ┌─┴─┐    └─┬─┘   ┌─┴─┐    └──┬───┬───┘┌──────────┐┌───┐┌─────────┐                 ┌───┐                  ┌─────────┐     └───┘                   └───┘       └─┬─┘    └──────────┘└─┬─┘└─────────┘    ┌─┴─┐        └─┬─┘         ┌─┴─┐      └──┬───┬───┘ ┌──────────┐┌───┐ ┌─────────┐                 ┌───┐         ┌─────────┐     └───┘                        └───┘         └─┬─┘     └──────────┘ └─┬─┘└─────────┘    ┌─┴─┐        └─┬─┘        ┌─┴─┐     └──┬───┬───┘ ┌──────────┐    ┌───┐     ┌─────────┐                 ┌───┐         ┌─────────┐     └───┘                     └───┘        └─┬─┘     └──────────┘└─┬─┘└─────────┘    ┌─┴─┐        └─┬─┘        ┌─┴─┐     └──┬───┬───┘ ┌──────────┐┌───┐┌─────────┐                ┌───┐                 ┌─────────┐    └───┘                  └───┘      └─┬─┘    └──────────┘    └─┬─┘    └─────────┘   ┌─┴─┐    └─┬─┘┌─┴─┐└──┬───┬───┘┌──────────┐    ┌───┐    ┌─────────┐            ├───┤     ┌──┴───┴──┐└─┬─┘ └──────────┘   └─┬─┘   └─────────┘┌─┴─┐└─┬─┘┌─┴─┐┌───┐┌──────────┐┌───┐┌─────────┐┌─────────┐┌────┐┌─────────┐\n",
       "q_8 -> 8 ───────────────────────────────────────┤ X ├┤ Rz(-π/4) ├┤ X ├┤ Rz(π/4) ├┤ X ├──■──┤ X ├───┤ X ├───┤ Rz(-π/8) ├───┤ X ├───┤ Rz(π/8) ├──────────────┤ X ├─────■──┤ X ├┤ X ├┤ Rz(-π/16) ├┤ X ├┤ Rz(π/16) ├┤ X ├──■─────┤ X ├─────■──┤ X ├──■──┤ Rz(π/32) ├─────■────────────────────────■───────────────────────────────────────┤ X ├──■──┤ X ├───┤ X ├─────┤ Rz(-π/4) ├────┤ X ├────┤ Rz(π/4) ├──────■──────┤ X ├─────■──────┤ Rz(π/8) ├──────────────────────────────────■─────────────────────────■───────────────────────┤ X ├──────■─────┤ X ├───────┤ X ├────┤ Rz(-π/4) ├┤ X ├┤ Rz(π/4) ├──────■──────────┤ X ├──────────■───────┤ Rz(π/8) ├───────────────────────────────────────────■────────────────────■─────────────────┤ X ├──────────■───────────┤ X ├─────────┤ X ├─────┤ Rz(-π/4) ├┤ X ├─┤ Rz(π/4) ├──────■──────────┤ X ├──────■──┤ Rz(π/8) ├──────────────────────────────────────────────────■──────────────────────■─────────────────┤ X ├──────────■──────────┤ X ├────────┤ X ├─────┤ Rz(-π/4) ├────┤ X ├─────┤ Rz(π/4) ├──────■──────────┤ X ├──────■──┤ Rz(π/8) ├──────────────────────────────────────────────■─────────────────────■─────────────────┤ X ├──────────■──────────┤ X ├────────┤ X ├─────┤ Rz(-π/4) ├┤ X ├┤ Rz(π/4) ├─────■──────────┤ X ├──────────■──────┤ Rz(π/8) ├────────────────────────────────────────■────────────────────────■────────────────────┤ X ├──────■──┤ X ├───┤ X ├────┤ Rz(-π/4) ├────┤ X ├────┤ Rz(π/4) ├─────■──────┤ X ├──■──┤ Rz(π/8) ├──■────────────────────■────────────────┤ X ├──■──┤ X ├┤ X ├┤ Rz(-π/4) ├┤ X ├┤ Rz(π/4) ├┤ Rz(π/2) ├┤ √X ├┤ Rz(π/2) ├\n",
       "         ┌─────────┐┌────┐┌─────────┐┌─────────┐└─┬─┘└──────────┘└─┬─┘├─────────┤└───┘     └───┘   └─┬─┘   └──────────┘   └─┬─┘   ├─────────┴┐             └───┘        └───┘└─┬─┘└───────────┘└─┬─┘└──────────┘└───┘        └───┘   ┌─┴─┐└─┬─┘┌─┴─┐├─────────┬┘   ┌────┐    ┌─────────┐ ┌─────────┐                                  └───┘     └───┘   └─┬─┘     └──────────┘    └─┬─┘    └─────────┘    ┌─┴─┐    └─┬─┘   ┌─┴─┐    ├─────────┤┌────┐┌─────────┐┌─────────┐                                                        └───┘            └───┘       └─┬─┘    └──────────┘└─┬─┘└─────────┘    ┌─┴─┐        └─┬─┘        ┌─┴─┐     ├─────────┤     ┌────┐   ┌─────────┐ ┌─────────┐                                             └───┘                      └───┘         └─┬─┘     └──────────┘└─┬─┘ └─────────┘    ┌─┴─┐        └─┬─┘    ┌─┴─┐├─────────┤     ┌────┐     ┌─────────┐    ┌─────────┐                                                 └───┘                     └───┘        └─┬─┘     └──────────┘    └─┬─┘     └─────────┘    ┌─┴─┐        └─┬─┘    ┌─┴─┐├─────────┤     ┌────┐    ┌─────────┐  ┌─────────┐                                               └───┘                     └───┘        └─┬─┘     └──────────┘└─┬─┘└─────────┘   ┌─┴─┐        └─┬─┘        ┌─┴─┐    ├─────────┤    ┌────┐   ┌─────────┐┌─────────┐                                                   └───┘         └───┘   └─┬─┘    └──────────┘    └─┬─┘    └─────────┘   ┌─┴─┐    └─┬─┘┌─┴─┐├─────────┤┌────┐┌─────────┐ ┌─────────┐           └───┘     └───┘└─┬─┘└──────────┘└─┬─┘└─────────┘└─────────┘└────┘└─────────┘\n",
       "q_9 -> 9 ┤ Rz(π/2) ├┤ √X ├┤ Rz(π/2) ├┤ Rz(π/4) ├──■────────────────■──┤ Rz(π/8) ├────────────────────■──────────────────────■─────┤ Rz(π/16) ├─────────────────────────────────■─────────────────■───────────────────────────────────┤ X ├──■──┤ X ├┤ Rz(π/2) ├────┤ √X ├────┤ Rz(π/2) ├─┤ Rz(π/4) ├──────────────────────────────────────────────────────■─────────────────────────■─────────────────────┤ X ├──────■─────┤ X ├────┤ Rz(π/2) ├┤ √X ├┤ Rz(π/2) ├┤ Rz(π/4) ├───────────────────────────────────────────────────────────────────────────────────────■────────────────────■─────────────────┤ X ├──────────■──────────┤ X ├─────┤ Rz(π/2) ├─────┤ √X ├───┤ Rz(π/2) ├─┤ Rz(π/4) ├────────────────────────────────────────────────────────────────────────────────────────■─────────────────────■──────────────────┤ X ├──────────■──────┤ X ├┤ Rz(π/2) ├─────┤ √X ├─────┤ Rz(π/2) ├────┤ Rz(π/4) ├──────────────────────────────────────────────────────────────────────────────────────────■─────────────────────────■──────────────────────┤ X ├──────────■──────┤ X ├┤ Rz(π/2) ├─────┤ √X ├────┤ Rz(π/2) ├──┤ Rz(π/4) ├────────────────────────────────────────────────────────────────────────────────────────■─────────────────────■────────────────┤ X ├──────────■──────────┤ X ├────┤ Rz(π/2) ├────┤ √X ├───┤ Rz(π/2) ├┤ Rz(π/4) ├───────────────────────────────────────────────────────────────────────────■────────────────────────■────────────────────┤ X ├──────■──┤ X ├┤ Rz(π/2) ├┤ √X ├┤ Rz(π/2) ├─┤ Rz(π/4) ├────────────────────────────■────────────────■─────────────────────────────────────────\n",
       "         └─────────┘└────┘└─────────┘└─────────┘                      └─────────┘                                                 └──────────┘                                                                                       └───┘     └───┘└─────────┘    └────┘    └─────────┘ └─────────┘                                                                                                      └───┘            └───┘    └─────────┘└────┘└─────────┘└─────────┘                                                                                                                              └───┘                     └───┘     └─────────┘     └────┘   └─────────┘ └─────────┘                                                                                                                                 └───┘                 └───┘└─────────┘     └────┘     └─────────┘    └─────────┘                                                                                                                                           └───┘                 └───┘└─────────┘     └────┘    └─────────┘  └─────────┘                                                                                                                               └───┘                     └───┘    └─────────┘    └────┘   └─────────┘└─────────┘                                                                                                                         └───┘         └───┘└─────────┘└────┘└─────────┘ └─────────┘                                                                                       </pre>"
      ],
      "text/plain": [
       "global phase: 1.5723\n",
       "                                                                                                                                                                                                                                                                                                                                                                                                                                                                                                                                                                                                                                                                                                                                                                                                ┌───┐         ┌───────────┐                                                                                     ┌───────────┐                                                                                                                                                                                                                                                                                                                                                                                                                                                                                                                                                                                                                                                                                                    \n",
       "q_0 -> 0 ────────────────────────────────────────────────────────────────────────────────────────────────────────────────────────────────────────────────────────────────────────────────────────────────────────────────────────────────────────────────────────────────────────────────────────────────────────────────────────────────────────────────────────────────────────────────────────────────────────────────────────────────────────────────────────────────────────────────────────────────────────────────────────────────────────────────────────────────────────────────────────────────────────────────────────────────────────────────────────────────────────────────────────────────────────────────────────────────────────────────────────────────────────────■──────────┤ X ├──────■──┤ Rz(π/256) ├────────────────────────────────────────────────■────────────────────────────■───────┤ Rz(π/512) ├─────────────────────────────────────────────────■─────────────────────────■────────────────────────────────────────────────────────────────────────────────────────────────────────────────────────────────────────────────────────────────────────────────────────────────────────────────────────────────────────────────────────────────────────────────────────────────────────────────────────────────────────────────────────────────────────────────────────────────────────────────────────────────────────────────────────────────────────────────────────────────────────────────────────────────────────────────────────────────────────────────────────────────────────────────────────\n",
       "                                                                                                                                                                                                                                                                                                                                                                                                                                                                                                                                                                                                                                                             ┌───┐               ┌───────────┐                                                                                     ┌─┴─┐        └─┬─┘    ┌─┴─┐└───────────┘                         ┌───┐                ┌─┴─┐     ┌────────────┐     ┌─┴─┐     ├───────────┤                      ┌───┐                    ┌─┴─┐    ┌────────────┐   ┌─┴─┐    ┌───────────┐                 ┌───┐                                                                                                                                                                                                                                                                                                                                                                                                                                                                                                                                                                               \n",
       "q_1 -> 1 ─────────────────────────────────────────────────────────────────────────────────────────────────────────────────────────────────────────────────────────────────────────────────────────────────────────────────────────────────────────────────────────────────────────────────────────────────────────────────────────────────────────────────────────────────────────────────────────────────────────────────────────────────────────────────────────────────────────────────────────────────────────────────────────────────────────────────────────────────────────────────────────────────────────────────────────────────────────■──────────┤ X ├─────────■─────┤ Rz(π/128) ├──────────────────────────────────────────────■──────────────────────────■───────────┤ X ├──────────■──────┤ X ├───────────────────────────────■──────┤ X ├─────■──────────┤ X ├─────┤ Rz(-π/256) ├─────┤ X ├─────┤ Rz(π/256) ├────────────────■─────┤ X ├─────────■──────────┤ X ├────┤ Rz(-π/512) ├───┤ X ├────┤ Rz(π/512) ├──────■──────────┤ X ├─────────■─────────────────────────────────────────────────────────────────────────────────────────────────────────────────────────────────────────────────────────────────────────────────────────────────────────────────────────────────────────────────────────────────────────────────────────────────────────────────────────────────────────────────────────────────────────────────────────────────────────────────────────────────────────────────────────────────────────────────────────────────────────────────────────────────────────────────────────────────────\n",
       "                                                                                                                                                                                                                                                                                                                                                                                                                                                                                                                                   ┌───┐         ┌──────────┐                                                                                   ┌─┴─┐        └─┬─┘       ┌─┴─┐   └───────────┘                        ┌───┐               ┌─┴─┐    ┌────────────┐    ┌─┴─┐     ┌───┴───┴───┐             └───┘    ┌───┐                    ┌─┴─┐    └─┬─┘   ┌─┴─┐        └───┘     └───┬───┬────┘┌────┴───┴────┐└───┬───┬───┘┌────────────┐┌─┴─┐   └─┬─┘       ┌─┴─┐        └───┘    └───┬───┬────┘   └───┘    └───────────┘    ┌─┴─┐        └─┬─┘       ┌─┴─┐                                                   ┌───┐    ┌────────────┐   ┌───┐    ┌───────────┐        ┌───┐                                                                                                                                                                                                                                                                                                                                                                                                                                                   \n",
       "q_2 -> 2 ───────────────────────────────────────────────────────────────────────────────────────────────────────────────────────────────────────────────────────────────────────────────────────────────────────────────────────────────────────────────────────────────────────────────────────────────────────────────────────────────────────────────────────────────────────────────────────────────────────────────────────────────────────────────────────────────────────────────────────────────────────────────■──────────┤ X ├──────■──┤ Rz(π/64) ├──────────────────────────────────────────────■─────────────────────────■──────────┤ X ├──────────■─────────┤ X ├─────────────────────────────────■──────┤ X ├─────■─────────┤ X ├────┤ Rz(-π/128) ├────┤ X ├─────┤ Rz(π/128) ├───────────────■──────┤ X ├─────────■──────────┤ X ├──────■─────┤ X ├──────────────────────┤ X ├─────┤ Rz(-π/1024) ├────┤ X ├────┤ Rz(π/1024) ├┤ X ├─────■─────────┤ X ├──────────■──────────┤ X ├──────────■───────────────────────┤ X ├──────────■─────────┤ X ├───────────────────────────────────────────────────┤ X ├────┤ Rz(-π/256) ├───┤ X ├────┤ Rz(π/256) ├──■─────┤ X ├─────────■─────────────────────────────────────────────────────────────────────────────────────────────────────────────────────────────────────────────────────────────────────────────────────────────────────────────────────────────────────────────────────────────────────────────────────────────────────────────────────────────────────────────────────────────────────────────────────────────────────────────────────────────────────────\n",
       "                                                                                                                                                                                                                                                                                                                                                                                                          ┌───┐         ┌──────────┐                                                                                  ┌─┴─┐        └─┬─┘    ┌─┴─┐└──────────┘                        ┌───┐               ┌─┴─┐    ┌───────────┐    ┌─┴─┐     ┌──┴───┴───┐                └───┘       ┌───┐                   ┌─┴─┐    └─┬─┘   ┌─┴─┐       └───┘    └───┬───┬────┘┌───┴───┴────┐└───┬───┬───┘┌───────────┐┌─┴─┐    └─┬─┘       ┌─┴─┐        └───┘    ┌───┐   └───┘    ┌────────────┐    └─┬─┘     └─────────────┘    └─┬─┘    └────────────┘└───┘               └───┘        ┌─┴─┐        └─┬─┘        ┌─┴─┐        ┌───┐    ┌───┴───┴────┐   ┌───┐   ┌───┴───┴───┐             ┌───┐            ┌───────────┐    └─┬─┘    └────────────┘   └─┬─┘    └───────────┘┌─┴─┐   └─┬─┘       ┌─┴─┐        ┌───┐    ┌────────────┐   ┌───┐    ┌───────────┐        ┌───┐                                                                                                                                                                                                                                                                                                                                                                  \n",
       "q_3 -> 3 ───────────────────────────────────────────────────────────────────────────────────────────────────────────────────────────────────────────────────────────────────────────────────────────────────────────────────────────────────────────────────────────────────────────────────────────────────────────────────────────────────────────────────────────────────────────────────────■─────────┤ X ├──────■──┤ Rz(π/32) ├─────────────────────────────────────────────■─────────────────────────■──────────┤ X ├──────────■──────┤ X ├─────────────────────────────■──────┤ X ├─────■─────────┤ X ├────┤ Rz(-π/64) ├────┤ X ├─────┤ Rz(π/64) ├──────────────────■─────────┤ X ├─────────■─────────┤ X ├──────■─────┤ X ├────────────────────┤ X ├─────┤ Rz(-π/512) ├────┤ X ├────┤ Rz(π/512) ├┤ X ├──────■─────────┤ X ├──────────■──────┤ X ├─────■──────┤ Rz(π/1024) ├──────■────────────────────────────■─────────────────────────────────────────────────────┤ X ├──────────■──────────┤ X ├────────┤ X ├────┤ Rz(-π/128) ├───┤ X ├───┤ Rz(π/128) ├──────■──────┤ X ├─────■──────┤ Rz(π/256) ├──────■─────────────────────────■───────────────────┤ X ├─────■─────────┤ X ├────────┤ X ├────┤ Rz(-π/128) ├───┤ X ├────┤ Rz(π/128) ├──■─────┤ X ├────────■─────────────────────────────────────────────────────────────────────────────────────────────────────────────────────────────────────────────────────────────────────────────────────────────────────────────────────────────────────────────────────────────────────────────────────────────────────────────────────────────────────────────────────────\n",
       "                                                                                                                                                                                                                                                                                                       ┌───┐         ┌──────────┐                                                             ┌─┴─┐       └─┬─┘    ┌─┴─┐└──────────┘                    ┌───┐                  ┌─┴─┐    ┌───────────┐    ┌─┴─┐     ┌──┴───┴───┐             └───┘   ┌───┐                   ┌─┴─┐    └─┬─┘   ┌─┴─┐       └───┘    └───┬───┬───┘┌───┴───┴────┐└──┬───┬───┘┌───────────┐   ┌─┴─┐       └─┬─┘       ┌─┴─┐       └───┘    ┌───┐   └───┘   ┌───────────┐    └─┬─┘     └────────────┘    └─┬─┘    └───────────┘└───┘                └───┘        ┌─┴─┐    └─┬─┘   ┌─┴─┐    └───┬───┬────┘┌───────────┐      ┌───┐      ┌──────────┐              ┌───┐           ┌───────────┐    └───┘                     └───┘        └─┬─┘    └────────────┘   └─┬─┘   └───────────┘    ┌─┴─┐    └─┬─┘   ┌─┴─┐    └───┬───┬───┘┌───────────┐    ┌───┐     ┌──────────┐             ├───┤           ┌───┴───┴───┐    └─┬─┘    └────────────┘   └─┬─┘    └───────────┘┌─┴─┐   └─┬─┘      ┌─┴─┐        ┌───┐    ┌───────────┐   ┌───┐    ┌──────────┐              ┌───┐                                                                                                                                                                                                                                                                              \n",
       "q_4 -> 4 ─────────────────────────────────────────────────────────────────────────────────────────────────────────────────────────────────────────────────────────────────────────────────────────────────────────────────────────────────────────────────────────────────────────────────────■────────┤ X ├──────■──┤ Rz(π/16) ├─────────────────────────■─────────────────────────■─────────┤ X ├─────────■──────┤ X ├─────────────────────────■──────┤ X ├────────■─────────┤ X ├────┤ Rz(-π/32) ├────┤ X ├─────┤ Rz(π/32) ├───────────────■─────┤ X ├─────────■─────────┤ X ├──────■─────┤ X ├────────────────────┤ X ├────┤ Rz(-π/256) ├───┤ X ├────┤ Rz(π/256) ├───┤ X ├─────────■─────────┤ X ├─────────■──────┤ X ├─────■─────┤ Rz(π/512) ├──────■───────────────────────────■─────────────────────────────────────────────────────┤ X ├──────■─────┤ X ├────────┤ X ├─────┤ Rz(-π/64) ├──────┤ X ├──────┤ Rz(π/64) ├──────■───────┤ X ├─────■─────┤ Rz(π/128) ├─────────────────────────────────────────────■─────────────────────────■──────────────────────┤ X ├──────■─────┤ X ├────────┤ X ├────┤ Rz(-π/64) ├────┤ X ├─────┤ Rz(π/64) ├──────■──────┤ X ├─────■─────┤ Rz(π/128) ├──────■─────────────────────────■───────────────────┤ X ├─────■────────┤ X ├────────┤ X ├────┤ Rz(-π/64) ├───┤ X ├────┤ Rz(π/64) ├─────■────────┤ X ├────────■─────────────────────────────────────────────────────────────────────────────────────────────────────────────────────────────────────────────────────────────────────────────────────────────────────────────────────────────────────────────────────────────────────\n",
       "                                                                                                                                                                                                                ┌───┐     ┌─────────┐                                                       ┌─┴─┐      └─┬─┘    ┌─┴─┐└──────────┘          ┌───┐        ┌─┴─┐    ┌───────────┐    ┌─┴─┐    ┌──┴───┴───┐            └───┘   ┌───┐               ┌─┴─┐    └─┬─┘      ┌─┴─┐       └───┘    └───┬───┬───┘┌───┴───┴────┐└──┬───┬───┘┌───────────┐┌─┴─┐   └─┬─┘       ┌─┴─┐       └───┘    ┌───┐   └───┘   ┌───────────┐    └─┬─┘    └────────────┘   └─┬─┘    └───────────┘   └───┘                   └───┘       ┌─┴─┐    └─┬─┘   ┌─┴─┐   └───┬───┬───┘┌───────────┐     ┌───┐      ┌──────────┐             ┌───┐             ┌──────────┐    └───┘            └───┘        └─┬─┘     └───────────┘      └─┬─┘      └──────────┘    ┌─┴─┐     └─┬─┘   ┌─┴─┐   └───┬───┬───┘┌───────────┐    ┌───┐     ┌──────────┐                 ┌───┐                 ┌──────────┐    └───┘            └───┘        └─┬─┘    └───────────┘    └─┬─┘     └──────────┘    ┌─┴─┐    └─┬─┘   ┌─┴─┐   └───┬───┬───┘┌───────────┐    ┌───┐     ┌──────────┐             ├───┤           ┌──┴───┴───┐    └─┬─┘    └───────────┘   └─┬─┘    └──────────┘   ┌─┴─┐      └─┬─┘      ┌─┴─┐       ┌───┐    ┌───────────┐   ┌───┐   ┌──────────┐     ┌───┐                                                                                                                                                                                                     \n",
       "q_5 -> 5 ────────────────────────────────────────────────────────────────────────────────────────────────────────────────────────────────────────────────────────────────────────────────────────────────■──────┤ X ├──■──┤ Rz(π/8) ├────────────────────■────────────────────────■─────────┤ X ├────────■──────┤ X ├───────────────────■──┤ X ├──■─────┤ X ├────┤ Rz(-π/16) ├────┤ X ├────┤ Rz(π/16) ├──────────────■─────┤ X ├─────────■─────┤ X ├──────■────────┤ X ├────────────────────┤ X ├────┤ Rz(-π/128) ├───┤ X ├────┤ Rz(π/128) ├┤ X ├─────■─────────┤ X ├─────────■──────┤ X ├─────■─────┤ Rz(π/256) ├──────■─────────────────────────■──────────────────────────────────────────────────────────┤ X ├──────■─────┤ X ├───────┤ X ├────┤ Rz(-π/32) ├─────┤ X ├──────┤ Rz(π/32) ├──────■──────┤ X ├──────■──────┤ Rz(π/64) ├────────────────────────────────────■────────────────────────────■────────────────────────┤ X ├───────■─────┤ X ├───────┤ X ├────┤ Rz(-π/32) ├────┤ X ├─────┤ Rz(π/32) ├──────■──────────┤ X ├──────────■──────┤ Rz(π/64) ├────────────────────────────────────■─────────────────────────■───────────────────────┤ X ├──────■─────┤ X ├───────┤ X ├────┤ Rz(-π/32) ├────┤ X ├─────┤ Rz(π/32) ├──────■──────┤ X ├─────■─────┤ Rz(π/64) ├──────■────────────────────────■─────────────────────┤ X ├────────■────────┤ X ├───────┤ X ├────┤ Rz(-π/32) ├───┤ X ├───┤ Rz(π/32) ├──■──┤ X ├─────■───────────────────────────────────────────────────────────────────────────────────────────────────────────────────────────────────────────────────────────────────────────────────────────────\n",
       "                                                                                                                                              ┌───┐     ┌─────────┐                                    ┌─┴─┐    └─┬─┘┌─┴─┐└─────────┘     ┌───┐        ┌─┴─┐    ┌──────────┐    ┌─┴─┐    ┌──┴───┴──┐            └───┘   ┌───┐         ┌─┴─┐└─┬─┘┌─┴─┐   └───┘    └───┬───┬───┘┌───┴───┴───┐└──┬───┬───┘┌──────────┐┌─┴─┐   └─┬─┘       ┌─┴─┐   └───┘    ┌───┐      └───┘   ┌───────────┐    └─┬─┘    └────────────┘   └─┬─┘    └───────────┘└───┘               └───┘       ┌─┴─┐    └─┬─┘   ┌─┴─┐   └───┬───┬───┘┌───────────┐    ┌───┐     ┌──────────┐                ┌───┐                ┌──────────┐   └───┘            └───┘       └─┬─┘    └───────────┘     └─┬─┘      └──────────┘    ┌─┴─┐    └─┬─┘    ┌─┴─┐    └──┬───┬───┘┌───────────┐┌───┐┌──────────┐                  ┌───┐                     ┌──────────┐    └───┘             └───┘       └─┬─┘    └───────────┘    └─┬─┘     └──────────┘    ┌─┴─┐        └─┬─┘        ┌─┴─┐    └──┬───┬───┘┌───────────┐┌───┐┌──────────┐                 ┌───┐                  ┌──────────┐    └───┘            └───┘       └─┬─┘    └───────────┘    └─┬─┘     └──────────┘    ┌─┴─┐    └─┬─┘   ┌─┴─┐   └──┬───┬───┘┌───────────┐    ┌───┐    ┌──────────┐               ├───┤              ┌──┴───┴───┐   └─┬─┘    └───────────┘   └─┬─┘   └──────────┘┌─┴─┐└─┬─┘   ┌─┴─┐       ┌───┐    ┌───────────┐   ┌───┐   ┌──────────┐     ┌───┐                                                                                                                               \n",
       "q_6 -> 6 ──────────────────────────────────────────────────────────────────────────────────────────────────────────────────────────────■──────┤ X ├──■──┤ Rz(π/4) ├────────────■─────────────────■─────┤ X ├──────■──┤ X ├─────────────■──┤ X ├──■─────┤ X ├────┤ Rz(-π/8) ├────┤ X ├────┤ Rz(π/8) ├──────────────■─────┤ X ├──────■──┤ X ├──■──┤ X ├────────────────┤ X ├────┤ Rz(-π/64) ├───┤ X ├────┤ Rz(π/64) ├┤ X ├─────■─────────┤ X ├─────■──────┤ X ├────────■─────┤ Rz(π/128) ├──────■─────────────────────────■───────────────────────────────────────────────────┤ X ├──────■─────┤ X ├───────┤ X ├────┤ Rz(-π/16) ├────┤ X ├─────┤ Rz(π/16) ├──────■─────────┤ X ├─────────■──────┤ Rz(π/32) ├──────────────────────────────────■──────────────────────────■────────────────────────┤ X ├──────■──────┤ X ├───────┤ X ├────┤ Rz(-π/16) ├┤ X ├┤ Rz(π/16) ├──────■───────────┤ X ├────────────■────────┤ Rz(π/32) ├────────────────────────────────────■─────────────────────────■───────────────────────┤ X ├──────────■──────────┤ X ├───────┤ X ├────┤ Rz(-π/16) ├┤ X ├┤ Rz(π/16) ├──────■──────────┤ X ├──────────■───────┤ Rz(π/32) ├───────────────────────────────────■─────────────────────────■───────────────────────┤ X ├──────■─────┤ X ├──────┤ X ├────┤ Rz(-π/16) ├────┤ X ├────┤ Rz(π/16) ├─────■─────────┤ X ├────────■─────┤ Rz(π/32) ├─────■────────────────────────■─────────────────┤ X ├──■─────┤ X ├───────┤ X ├────┤ Rz(-π/16) ├───┤ X ├───┤ Rz(π/16) ├──■──┤ X ├─────■─────────────────────────────────────────────────────────────────────────────────────────────────────────────────────────\n",
       "                                                                                      ┌───┐     ┌─────────┐   ┌────┐   ┌─────────┐   ┌─┴─┐    └─┬─┘┌─┴─┐└─────────┘┌───┐     ┌─┴─┐ ┌──────────┐┌─┴─┐┌──┴───┴──┐      ├───┤           ┌─┴─┐└─┬─┘┌─┴─┐   └───┘    └──┬───┬───┘┌───┴───┴───┐└──┬───┬──┘┌──────────┐┌─┴─┐   └─┬─┘    ┌─┴─┐└───┘┌───┐└───┘┌──────────┐    └─┬─┘    └───────────┘   └─┬─┘    └──────────┘└───┘               └───┘   ┌─┴─┐    └─┬─┘      ┌─┴─┐   └───┬───┬───┘ ┌──────────┐    ┌───┐     ┌─────────┐              ┌───┐            ┌──────────┐   └───┘            └───┘       └─┬─┘    └───────────┘    └─┬─┘     └──────────┘    ┌─┴─┐       └─┬─┘       ┌─┴─┐    └──┬───┬───┘┌──────────┐┌───┐┌─────────┐                 ┌───┐                    ┌──────────┐    └───┘             └───┘       └─┬─┘    └───────────┘└─┬─┘└──────────┘    ┌─┴─┐         └─┬─┘          ┌─┴─┐      └──┬───┬───┘ ┌──────────┐ ┌───┐┌─────────┐                 ┌───┐                  ┌──────────┐    └───┘                     └───┘       └─┬─┘    └───────────┘└─┬─┘└──────────┘    ┌─┴─┐        └─┬─┘        ┌─┴─┐     └──┬───┬───┘ ┌──────────┐┌───┐┌─────────┐                 ┌───┐                  ┌──────────┐    └───┘            └───┘      └─┬─┘    └───────────┘    └─┬─┘    └──────────┘   ┌─┴─┐       └─┬─┘      ┌─┴─┐   └──┬───┬───┘┌──────────┐    ┌───┐    ┌─────────┐            ├───┤     ┌──┴───┴───┐   └─┬─┘    └───────────┘   └─┬─┘   └──────────┘┌─┴─┐└─┬─┘   ┌─┴─┐   ┌───┐ ┌──────────┐   ┌───┐   ┌─────────┐     ┌───┐                                                                  \n",
       "q_7 -> 7 ──────────────────────────────────────────────────────────────────────────■──┤ X ├──■──┤ Rz(π/2) ├───┤ √X ├───┤ Rz(π/2) ├───┤ X ├──────■──┤ X ├─────■─────┤ X ├──■──┤ X ├─┤ Rz(-π/4) ├┤ X ├┤ Rz(π/4) ├───■──┤ X ├─────■─────┤ X ├──■──┤ X ├───────────────┤ X ├────┤ Rz(-π/32) ├───┤ X ├───┤ Rz(π/32) ├┤ X ├─────■──────┤ X ├──■──┤ X ├──■──┤ Rz(π/64) ├──────■────────────────────────■──────────────────────────────────────────────┤ X ├──────■────────┤ X ├───────┤ X ├─────┤ Rz(-π/8) ├────┤ X ├─────┤ Rz(π/8) ├───────■──────┤ X ├─────■──────┤ Rz(π/16) ├──────────────────────────────────■─────────────────────────■───────────────────────┤ X ├─────────■─────────┤ X ├───────┤ X ├────┤ Rz(-π/8) ├┤ X ├┤ Rz(π/8) ├──────■──────────┤ X ├───────────■────────┤ Rz(π/16) ├────────────────────────────────────■─────────────────────■──────────────────┤ X ├───────────■────────────┤ X ├─────────┤ X ├─────┤ Rz(-π/8) ├─┤ X ├┤ Rz(π/8) ├──────■──────────┤ X ├──────────■───────┤ Rz(π/16) ├────────────────────────────────────────────■─────────────────────■──────────────────┤ X ├──────────■──────────┤ X ├────────┤ X ├─────┤ Rz(-π/8) ├┤ X ├┤ Rz(π/8) ├──────■──────────┤ X ├──────────■───────┤ Rz(π/16) ├──────────────────────────────────■─────────────────────────■─────────────────────┤ X ├─────────■────────┤ X ├──────┤ X ├────┤ Rz(-π/8) ├────┤ X ├────┤ Rz(π/8) ├─────■──────┤ X ├──■──┤ Rz(π/16) ├─────■────────────────────────■─────────────────┤ X ├──■─────┤ X ├───┤ X ├─┤ Rz(-π/8) ├───┤ X ├───┤ Rz(π/8) ├──■──┤ X ├──■───────────────────────────────────────────────────────────────\n",
       "                                                ┌───┐┌──────────┐┌───┐┌─────────┐┌─┴─┐└─┬─┘┌─┴─┐└──┬───┬──┘┌──┴────┴──┐└──┬───┬──┘┌──┴───┴──┐      └───┘   ┌─┴─┐   └─┬─┘┌─┴─┐├───┤┌┴──────────┤├───┤├─────────┴┐┌─┴─┐└─┬─┘   ┌─┴─┐   └───┘┌───┐└───┘┌──────────┐   └─┬─┘    └───────────┘   └─┬─┘   └──────────┘└───┘            └───┘┌─┴─┐└─┬─┘┌─┴─┐└──┬───┬───┘ ┌──────────┐    ┌───┐    ┌─────────┐             ┌───┐            ┌─────────┐└───┘               └───┘       └─┬─┘     └──────────┘    └─┬─┘     └─────────┘     ┌─┴─┐    └─┬─┘   ┌─┴─┐    └──┬───┬───┘┌──────────┐┌───┐┌─────────┐                 ┌───┐                  ┌─────────┐     └───┘                   └───┘       └─┬─┘    └──────────┘└─┬─┘└─────────┘    ┌─┴─┐        └─┬─┘         ┌─┴─┐      └──┬───┬───┘ ┌──────────┐┌───┐ ┌─────────┐                 ┌───┐         ┌─────────┐     └───┘                        └───┘         └─┬─┘     └──────────┘ └─┬─┘└─────────┘    ┌─┴─┐        └─┬─┘        ┌─┴─┐     └──┬───┬───┘ ┌──────────┐    ┌───┐     ┌─────────┐                 ┌───┐         ┌─────────┐     └───┘                     └───┘        └─┬─┘     └──────────┘└─┬─┘└─────────┘    ┌─┴─┐        └─┬─┘        ┌─┴─┐     └──┬───┬───┘ ┌──────────┐┌───┐┌─────────┐                ┌───┐                 ┌─────────┐    └───┘                  └───┘      └─┬─┘    └──────────┘    └─┬─┘    └─────────┘   ┌─┴─┐    └─┬─┘┌─┴─┐└──┬───┬───┘┌──────────┐    ┌───┐    ┌─────────┐            ├───┤     ┌──┴───┴──┐└─┬─┘ └──────────┘   └─┬─┘   └─────────┘┌─┴─┐└─┬─┘┌─┴─┐┌───┐┌──────────┐┌───┐┌─────────┐┌─────────┐┌────┐┌─────────┐\n",
       "q_8 -> 8 ───────────────────────────────────────┤ X ├┤ Rz(-π/4) ├┤ X ├┤ Rz(π/4) ├┤ X ├──■──┤ X ├───┤ X ├───┤ Rz(-π/8) ├───┤ X ├───┤ Rz(π/8) ├──────────────┤ X ├─────■──┤ X ├┤ X ├┤ Rz(-π/16) ├┤ X ├┤ Rz(π/16) ├┤ X ├──■─────┤ X ├─────■──┤ X ├──■──┤ Rz(π/32) ├─────■────────────────────────■───────────────────────────────────────┤ X ├──■──┤ X ├───┤ X ├─────┤ Rz(-π/4) ├────┤ X ├────┤ Rz(π/4) ├──────■──────┤ X ├─────■──────┤ Rz(π/8) ├──────────────────────────────────■─────────────────────────■───────────────────────┤ X ├──────■─────┤ X ├───────┤ X ├────┤ Rz(-π/4) ├┤ X ├┤ Rz(π/4) ├──────■──────────┤ X ├──────────■───────┤ Rz(π/8) ├───────────────────────────────────────────■────────────────────■─────────────────┤ X ├──────────■───────────┤ X ├─────────┤ X ├─────┤ Rz(-π/4) ├┤ X ├─┤ Rz(π/4) ├──────■──────────┤ X ├──────■──┤ Rz(π/8) ├──────────────────────────────────────────────────■──────────────────────■─────────────────┤ X ├──────────■──────────┤ X ├────────┤ X ├─────┤ Rz(-π/4) ├────┤ X ├─────┤ Rz(π/4) ├──────■──────────┤ X ├──────■──┤ Rz(π/8) ├──────────────────────────────────────────────■─────────────────────■─────────────────┤ X ├──────────■──────────┤ X ├────────┤ X ├─────┤ Rz(-π/4) ├┤ X ├┤ Rz(π/4) ├─────■──────────┤ X ├──────────■──────┤ Rz(π/8) ├────────────────────────────────────────■────────────────────────■────────────────────┤ X ├──────■──┤ X ├───┤ X ├────┤ Rz(-π/4) ├────┤ X ├────┤ Rz(π/4) ├─────■──────┤ X ├──■──┤ Rz(π/8) ├──■────────────────────■────────────────┤ X ├──■──┤ X ├┤ X ├┤ Rz(-π/4) ├┤ X ├┤ Rz(π/4) ├┤ Rz(π/2) ├┤ √X ├┤ Rz(π/2) ├\n",
       "         ┌─────────┐┌────┐┌─────────┐┌─────────┐└─┬─┘└──────────┘└─┬─┘├─────────┤└───┘     └───┘   └─┬─┘   └──────────┘   └─┬─┘   ├─────────┴┐             └───┘        └───┘└─┬─┘└───────────┘└─┬─┘└──────────┘└───┘        └───┘   ┌─┴─┐└─┬─┘┌─┴─┐├─────────┬┘   ┌────┐    ┌─────────┐ ┌─────────┐                                  └───┘     └───┘   └─┬─┘     └──────────┘    └─┬─┘    └─────────┘    ┌─┴─┐    └─┬─┘   ┌─┴─┐    ├─────────┤┌────┐┌─────────┐┌─────────┐                                                        └───┘            └───┘       └─┬─┘    └──────────┘└─┬─┘└─────────┘    ┌─┴─┐        └─┬─┘        ┌─┴─┐     ├─────────┤     ┌────┐   ┌─────────┐ ┌─────────┐                                             └───┘                      └───┘         └─┬─┘     └──────────┘└─┬─┘ └─────────┘    ┌─┴─┐        └─┬─┘    ┌─┴─┐├─────────┤     ┌────┐     ┌─────────┐    ┌─────────┐                                                 └───┘                     └───┘        └─┬─┘     └──────────┘    └─┬─┘     └─────────┘    ┌─┴─┐        └─┬─┘    ┌─┴─┐├─────────┤     ┌────┐    ┌─────────┐  ┌─────────┐                                               └───┘                     └───┘        └─┬─┘     └──────────┘└─┬─┘└─────────┘   ┌─┴─┐        └─┬─┘        ┌─┴─┐    ├─────────┤    ┌────┐   ┌─────────┐┌─────────┐                                                   └───┘         └───┘   └─┬─┘    └──────────┘    └─┬─┘    └─────────┘   ┌─┴─┐    └─┬─┘┌─┴─┐├─────────┤┌────┐┌─────────┐ ┌─────────┐           └───┘     └───┘└─┬─┘└──────────┘└─┬─┘└─────────┘└─────────┘└────┘└─────────┘\n",
       "q_9 -> 9 ┤ Rz(π/2) ├┤ √X ├┤ Rz(π/2) ├┤ Rz(π/4) ├──■────────────────■──┤ Rz(π/8) ├────────────────────■──────────────────────■─────┤ Rz(π/16) ├─────────────────────────────────■─────────────────■───────────────────────────────────┤ X ├──■──┤ X ├┤ Rz(π/2) ├────┤ √X ├────┤ Rz(π/2) ├─┤ Rz(π/4) ├──────────────────────────────────────────────────────■─────────────────────────■─────────────────────┤ X ├──────■─────┤ X ├────┤ Rz(π/2) ├┤ √X ├┤ Rz(π/2) ├┤ Rz(π/4) ├───────────────────────────────────────────────────────────────────────────────────────■────────────────────■─────────────────┤ X ├──────────■──────────┤ X ├─────┤ Rz(π/2) ├─────┤ √X ├───┤ Rz(π/2) ├─┤ Rz(π/4) ├────────────────────────────────────────────────────────────────────────────────────────■─────────────────────■──────────────────┤ X ├──────────■──────┤ X ├┤ Rz(π/2) ├─────┤ √X ├─────┤ Rz(π/2) ├────┤ Rz(π/4) ├──────────────────────────────────────────────────────────────────────────────────────────■─────────────────────────■──────────────────────┤ X ├──────────■──────┤ X ├┤ Rz(π/2) ├─────┤ √X ├────┤ Rz(π/2) ├──┤ Rz(π/4) ├────────────────────────────────────────────────────────────────────────────────────────■─────────────────────■────────────────┤ X ├──────────■──────────┤ X ├────┤ Rz(π/2) ├────┤ √X ├───┤ Rz(π/2) ├┤ Rz(π/4) ├───────────────────────────────────────────────────────────────────────────■────────────────────────■────────────────────┤ X ├──────■──┤ X ├┤ Rz(π/2) ├┤ √X ├┤ Rz(π/2) ├─┤ Rz(π/4) ├────────────────────────────■────────────────■─────────────────────────────────────────\n",
       "         └─────────┘└────┘└─────────┘└─────────┘                      └─────────┘                                                 └──────────┘                                                                                       └───┘     └───┘└─────────┘    └────┘    └─────────┘ └─────────┘                                                                                                      └───┘            └───┘    └─────────┘└────┘└─────────┘└─────────┘                                                                                                                              └───┘                     └───┘     └─────────┘     └────┘   └─────────┘ └─────────┘                                                                                                                                 └───┘                 └───┘└─────────┘     └────┘     └─────────┘    └─────────┘                                                                                                                                           └───┘                 └───┘└─────────┘     └────┘    └─────────┘  └─────────┘                                                                                                                               └───┘                     └───┘    └─────────┘    └────┘   └─────────┘└─────────┘                                                                                                                         └───┘         └───┘└─────────┘└────┘└─────────┘ └─────────┘                                                                                       "
      ]
     },
     "execution_count": 87,
     "metadata": {},
     "output_type": "execute_result"
    }
   ],
   "source": [
    "# Your work goes here!\n",
    "MyPass = BasisTranslator(equivalence_library=SessionEquivalenceLibrary, target_basis=backend.operation_names)\n",
    "# See the first cells in this notebook or\n",
    "#   https://github.com/Qiskit/qiskit/tree/main/qiskit/transpiler/passes/synthesis for potential translation passes\n",
    "pm_staged.translation = PassManager(MyPass)\n",
    "qc_routed_synth = pm_staged.run(qc)\n",
    "print_qc_characteristics(qc_routed_synth)\n",
    "qc_routed_synth.draw(fold=-1)"
   ]
  },
  {
   "cell_type": "code",
   "execution_count": 88,
   "id": "2a582431-bfdd-4e98-a4f0-e661706311a8",
   "metadata": {},
   "outputs": [
    {
     "name": "stdout",
     "output_type": "stream",
     "text": [
      "Submitting your answer. Please wait...\n",
      "Congratulations 🎉! Your answer is correct and has been submitted.\n"
     ]
    }
   ],
   "source": [
    "# grade your work!\n",
    "grade_lab1_ex4(pm_staged)"
   ]
  },
  {
   "cell_type": "markdown",
   "id": "f2202d92-c5d3-41bb-9dbb-6a3da88c0ca4",
   "metadata": {},
   "source": [
    "Now, the quantum circuit `qc_routed_synth` is compatible with the quantum computer described by `backend` and could be executed directly.\n",
    "However, compared to Qiskit's default transpiler, `qc_routed_synth` is much larger:"
   ]
  },
  {
   "cell_type": "code",
   "execution_count": 89,
   "id": "1dce833d-51b3-4c9b-9b26-e3a411ed2d88",
   "metadata": {},
   "outputs": [
    {
     "name": "stdout",
     "output_type": "stream",
     "text": [
      "Quantum circuit characteristics\n",
      "  Depth: 65\n",
      "  Number of qubits: 10\n",
      "  Operations: {'rz': 101, 'cx': 90, 'sx': 10}\n",
      "  Number of multi-qubit Operations: 90\n"
     ]
    }
   ],
   "source": [
    "qk_qc = generate_preset_pass_manager(2, backend=backend).run(qc)\n",
    "print_qc_characteristics(qk_qc)"
   ]
  },
  {
   "cell_type": "markdown",
   "id": "b88c513a-111b-443b-bf35-76ec98e17de5",
   "metadata": {},
   "source": [
    "#### Impact of Quantum Circuit Size on Incurred Errors During Execution\n",
    "\n",
    "On a real device, this difference in size can make the difference between a successful quantum circuit execution and an erroneous output.\n",
    "We can approximate the noise in real devices in Qiskit to check the difference between Qiskit's default transpiler and our transpiler as quantified by the Hellinger fidelity:"
   ]
  },
  {
   "cell_type": "code",
   "execution_count": 90,
   "id": "48fee561-88f1-4e46-8c21-449485eb53cf",
   "metadata": {},
   "outputs": [
    {
     "name": "stdout",
     "output_type": "stream",
     "text": [
      "Own transpiler fidelity 0.2989\n",
      "Qiskit transpiler fidelity 0.6651\n"
     ]
    }
   ],
   "source": [
    "def noisy_sim(qc, backend):\n",
    "    # We add measurement operations to the input quantum circuit and then run it on the specified backend\n",
    "    # A GenericBackendV2 automatically constructs a default model of the expected noise processes, \n",
    "    # so backend.run would return noisy simulation results    \n",
    "    return backend.run(qc.measure_all(inplace=False), shots=7*1024).result().get_counts()\n",
    "\n",
    "own_transpiler_sim = noisy_sim(qc_routed_synth, backend)\n",
    "qiskit_transpiler_sim = noisy_sim(qk_qc, backend)\n",
    "reference_sim =  noisy_sim(transpile(qc.decompose(), backend=backend), BasicSimulator())\n",
    "\n",
    "print(\"Own transpiler fidelity\", round(hellinger_fidelity(own_transpiler_sim, reference_sim), 4))\n",
    "print(\"Qiskit transpiler fidelity\", round(hellinger_fidelity(qiskit_transpiler_sim, reference_sim), 4))"
   ]
  },
  {
   "cell_type": "markdown",
   "id": "6c5848e7-572b-4dd6-97f5-11b8ef022e61",
   "metadata": {},
   "source": [
    "#### Exercise 2c: Exceed Qiskit's Default Transpilation on QFT Quantum Circuits \n",
    "\n",
    "Therefore, we try to reduce the QFT quantum circuit size after transpilation by at least 20% compared to Qiskit's default transpilation. Note that you can achieve this reduction in circuit size by only using a suitable selection of passes included in Qiskit. It is not necessary to create a new pass. Review the second half of the transpilation lecture given by Matthew Treinish to get an insight into the different transpiler stages. In particular, this exercise requires setting a routing method that works especially well on star-shaped quantum circuits in combination with an optimization stage that removes superfluous two-qubit gates in a two-qubit block. These two stages are sufficient to reduce the transpilation effort below the given 20% threshold."
   ]
  },
  {
   "cell_type": "markdown",
   "id": "0df76e19-f67e-441d-ad90-072d4020a14d",
   "metadata": {},
   "source": [
    "Hints:\n",
    "* First try to set a routing method that is especially well suited for star-shaped quantum circuits such as QFT. The routing method may appear to require a larger amount of two-qubit gates because of superfluous two-qubit gates. These should be removed by a subsequent optimization stage.\n",
    "* Note that for a block of two-qubit and single-qubit gates on a pair of qubits, at most three CX gates and (up to eight) single-qubit gates are necessary. If you notice that your quantum circuit has two-qubit blocks with more CX gates, apply passes such as `UnitarySynthesis` (and its prerequisites `ConsolidateBlocks`, `Collect2qBlocks`) to rectify this.\n",
    "* Reaching the 20% threshold is entirely possible by only setting the routing stage and optimization stage, other stages such as the layout stage are not required to be set to reach that threshold.\n",
    "* The definition of Qiskit's default passmanagers can be inspected [here](https://github.com/Qiskit/qiskit/blob/main/qiskit/transpiler/preset_passmanagers/level3.py), [here](https://github.com/Qiskit/qiskit/blob/main/qiskit/transpiler/preset_passmanagers/common.py) and/or [here](https://github.com/Qiskit/qiskit/blob/main/qiskit/transpiler/preset_passmanagers/builtin_plugins.py). You can also inspect the included passes in a given pass manager `pm` by calling `pm.draw()`.\n",
    "* You can either start with a default pass manager by calling `generate_preset_pass_manager` and modify the existing stages or define your own pass manager as shown below."
   ]
  },
  {
   "cell_type": "code",
   "execution_count": 116,
   "id": "c50d9fc6-f305-49bb-8434-2ac7c44a3cf7",
   "metadata": {},
   "outputs": [],
   "source": [
    "# Your work goes here!\n",
    "\n",
    "pm_opt = StagedPassManager()\n",
    "# Select pass managers and passes for these five stages as you see suitable, note: not every stage must contain a pass.\n",
    "# Passes are documented at https://docs.quantum.ibm.com/api/qiskit/transpiler_passes\n",
    "\n",
    "# Replace the n-qubit QFT operation with its decomposition in two-qubit gates\n",
    "pm_opt.init = generate_unroll_3q(None)\n",
    "# Initialize the layout stage with an empty pass manager\n",
    "pm_opt.layout = PassManager()\n",
    "# See the first cells in this notebook or\n",
    "#   https://github.com/Qiskit/qiskit/tree/main/qiskit/transpiler/passes/layout for potential layouting passes\n",
    "pm_opt.layout += TrivialLayout(cm)\n",
    "# See the first cells in this notebook or\n",
    "#   https://github.com/Qiskit/qiskit/tree/main/qiskit/transpiler/passes/routing for potential routing passes\n",
    "pm_opt.routing = PassManager(StarPreRouting())\n",
    "# See the first cells in this notebook or\n",
    "#   https://github.com/Qiskit/qiskit/tree/main/qiskit/transpiler/passes/synthesis for potential translation passes\n",
    "pm_opt.translation =  PassManager(BasisTranslator(equivalence_library=SessionEquivalenceLibrary, target_basis=backend.operation_names))\n",
    "# See the first cells in this notebook or\n",
    "#   https://github.com/Qiskit/qiskit/tree/main/qiskit/transpiler/passes/optimization for potential optimization passes\n",
    "pm_opt.optimization = PassManager(\n",
    "                                [\n",
    "                                    Collect2qBlocks(),\n",
    "                                    ConsolidateBlocks(basis_gates=backend.operation_names),\n",
    "                                    UnitarySynthesis(backend.operation_names)\n",
    "                                ])\n",
    "# pm_opt.append(CommutativeCancellation())\n",
    "\n",
    "# scheduling is not needed in this lab - we will not run the quantum circuit on a real device\n",
    "# pm_opt.scheduling = None\n",
    "\n",
    "# do not modify the next line\n",
    "pm_opt.layout += generate_embed_passmanager(cm)\n",
    "\n",
    "qc_opt = pm_opt.run(qc)"
   ]
  },
  {
   "cell_type": "code",
   "execution_count": 117,
   "id": "e190cfbe-8e13-4fe2-bd8d-b787f0193171",
   "metadata": {},
   "outputs": [
    {
     "name": "stdout",
     "output_type": "stream",
     "text": [
      "Submitting your answer. Please wait...\n",
      "Congratulations 🎉! Your answer is correct and has been submitted.\n"
     ]
    }
   ],
   "source": [
    "# grade your work!\n",
    "grade_lab1_ex5(pm_opt)"
   ]
  },
  {
   "cell_type": "code",
   "execution_count": 118,
   "id": "1481a878-f639-4d4f-bc34-adf7dad3f4f7",
   "metadata": {},
   "outputs": [
    {
     "name": "stdout",
     "output_type": "stream",
     "text": [
      "Quantum circuit characteristics\n",
      "  Depth: 180\n",
      "  Number of qubits: 10\n",
      "  Operations: {'rz': 399, 'sx': 182, 'cx': 133, 'x': 75}\n",
      "  Number of multi-qubit Operations: 133\n",
      "Reduction in two-qubit gates compared to qiskit -47.778%!\n"
     ]
    },
    {
     "data": {
      "text/html": [
       "<pre style=\"word-wrap: normal;white-space: pre;background: #fff0;line-height: 1.1;font-family: &quot;Courier New&quot;,Courier,monospace\">global phase: 0.001534\n",
       "          ┌──────────┐┌────┐                                                                                                                                                                                                                                                                                                                                                                                                                                                                                                                                                                                                                                                                                                                                                                                                                                                                                                                                                                                                                                                                                   ┌───┐     ┌──────────┐               ┌───┐    ┌────────────┐    ┌───┐      ┌─────────┐                                                                                                                                                                                                                                                                                                                                                                                                                                                                                                                                                                                                                                                                                                                                                                                                                                                                                                                                                                                                                                                                                                                                             \n",
       "q_0 -> 0 ─┤ Rz(-π/4) ├┤ √X ├───────────────────────────────────────────────────────────────────────────────────────────────────────────────────────────────────────────────────────────────────────────────────────────────────────────────────────────────────────────────────────────────────────────────────────────────────────────────────────────────────────────────────────────────────────────────────────────────────────────────────────────────────────────────────────────────────────────────────────────────────────────────────────────────────────────────────────────────────────────────────────────────────────────────────────────────────────────────────────────────────────────────────────────────────────────────────────────────────────────────────────────────────────────────────────────────────────────────────────────────────────────────────────────────────────────────────────────────────────────────────────────────────────────────────────────────────────────────────────────────────────────────────────────────────────────────────────────────────────────────────┤ X ├─────┤ Rz(-π/2) ├───────────────┤ X ├────┤ Rz(1.5677) ├────┤ X ├──────┤ Rz(π/4) ├─────────────────────────────────────────────────────────────────────────────────────────────────────────────────────────────────────────────────────────────────────────────────────────────────────────────────────────────────────────────────────────────────────────────────────────────────────────────────────────────────────────────────────────────────────────────────────────────────────────────────────────────────────────────────────────────────────────────────────────────────────────────────────────────────────────────────────────────────────────────────────────────────────────────────────────────────────────────────────────────────────────────────────────────────────────────────────────────────────────────────────────────────────────────────────────────────────────────────────────────────────────────────────────────────────────────────────────────────────────────────────────────────────────────────────────────────────────────────────────────────────────────────────────────────────────────────────────────────────────────────────────────────────────────────────────────────────────────\n",
       "         ┌┴──────────┤├────┤ ┌────────┐                                                                                                                                                                                                                                                                                                                                                                                                                                                                                                                                                                                                                                                                                                                                                                                                                                                                                                                 ┌───┐     ┌──────────┐               ┌───┐   ┌────────────┐    ┌───┐         ┌───┐     ┌─────────────┐  ┌──────────┐     ┌────┐      ┌──────────┐      └─┬─┘     └──┬────┬──┘┌─────────┐    └─┬─┘    └───┬────┬───┘    └─┬─┘     ┌┴─────────┴─┐  ┌────────┐      ┌────┐       ┌────────┐                                   ┌───┐     ┌──────────┐               ┌───┐   ┌────────────┐    ┌───┐       ┌────────┐       ┌───┐                                                                                                                                                                                                                                                                                                                                                                                                                                                                                                                                                                                                                                                                                                                                                                                                                                                                                                                                                              \n",
       "q_1 -> 1 ┤ Rz(-3π/4) ├┤ √X ├─┤ Rz(-π) ├─────────────────────────────────────────────────────────────────────────────────────────────────────────────────────────────────────────────────────────────────────────────────────────────────────────────────────────────────────────────────────────────────────────────────────────────────────────────────────────────────────────────────────────────────────────────────────────────────────────────────────────────────────────────────────────────────────────────────────────────────────────────────────────────────────────────────────────────────────────────────────────────────────────────────────────────────────────────────────────────────────────────────────────────────────────────────────────────────────────────────────────────────────────────────────────────────────────────────────────────────────────────────────────────────────────────────────────────────────────────────┤ X ├─────┤ Rz(-π/2) ├───────────────┤ X ├───┤ Rz(1.5647) ├────┤ X ├─────────┤ X ├─────┤ Rz(-2.3531) ├──┤ Rz(3π/4) ├─────┤ √X ├──────┤ Rz(-π/2) ├────────■──────────┤ √X ├───┤ Rz(-2π) ├──────■──────────┤ √X ├──────────■───────┤ Rz(2.3593) ├──┤ Rz(-π) ├──────┤ √X ├───────┤ Rz(-π) ├───────────────────────────────────┤ X ├─────┤ Rz(-π/2) ├───────────────┤ X ├───┤ Rz(1.5647) ├────┤ X ├───────┤ Rz(-π) ├───────┤ X ├──────────────────────────────────────────────────────────────────────────────────────────────────────────────────────────────────────────────────────────────────────────────────────────────────────────────────────────────────────────────────────────────────────────────────────────────────────────────────────────────────────────────────────────────────────────────────────────────────────────────────────────────────────────────────────────────────────────────────────────────────────────────────────────────────────────────────────────────────────────────────────────────────────────────────────────────────────────────────────────────────────────────────────────────────────────────────────────────────────────────────────────────────────────────────────────────────────────────────────────────────────────────────────────────────────────────────────────────────────────────────────────────────────────────────────────────\n",
       "         └─┬────────┬┘├────┤ ├────────┤                                                                                                                                                                                                                                                                                                                                                                                                                                                                                                                                                                                                                                                                                                                                                             ┌───┐   ┌──────────┐               ┌───┐    ┌────────────┐    ┌───┐         ┌───┐    ┌─────────────┐  ┌──────────┐       ┌────┐     ┌─────────┐     └─┬─┘     └──┬────┬──┘┌─────────┐    └─┬─┘   └───┬────┬───┘    └─┬─┘         ├───┤     ├─────────────┤  └┬────────┬┘     ├────┤      └┬────────┬┘                   ├───┬┘   ├─────────┴┐                ├───┬┘    ┌────────────┐└───┬───┬────┘  └─┬───┬──┘ ┌────┴────┴───┐   ├────────┤        ┌────┐     ┌─────────┐     └─┬─┘     └──┬────┬──┘┌─────────┐    └─┬─┘   └───┬────┬───┘    └─┬─┘       └─┬───┬──┘  ┌────┴───┴────┐   ┌────────┐      ┌────┐       ┌────────┐                    ┌───┐   ┌──────────┐               ┌───┐    ┌────────────┐    ┌───┐       ┌────────┐      ┌───┐                                                                                                                                                                                                                                                                                                                                                                                                                                                                                                                                                                                                                                                                                                                                                                                            \n",
       "q_2 -> 2 ──┤ Rz(-π) ├─┤ √X ├─┤ Rz(-π) ├─────────────────────────────────────────────────────────────────────────────────────────────────────────────────────────────────────────────────────────────────────────────────────────────────────────────────────────────────────────────────────────────────────────────────────────────────────────────────────────────────────────────────────────────────────────────────────────────────────────────────────────────────────────────────────────────────────────────────────────────────────────────────────────────────────────────────────────────────────────────────────────────────────────────────────────────────────────────────────────────────────────────────────────────────────────────────────────────────────────────────────────────┤ X ├───┤ Rz(-π/2) ├───────────────┤ X ├────┤ Rz(1.5585) ├────┤ X ├─────────┤ X ├────┤ Rz(-3.1355) ├──┤ Rz(3π/4) ├───────┤ √X ├─────┤ Rz(π/2) ├───────■──────────┤ √X ├───┤ Rz(-2π) ├──────■─────────┤ √X ├──────────■───────────┤ X ├─────┤ Rz(-2.3501) ├───┤ Rz(-π) ├──────┤ √X ├───────┤ Rz(-π) ├────────────────────┤ X ├────┤ Rz(-π/2) ├────────────────┤ X ├─────┤ Rz(1.5585) ├────┤ X ├─────────┤ X ├────┤ Rz(-3.1355) ├───┤ Rz(-π) ├────────┤ √X ├─────┤ Rz(π/2) ├───────■──────────┤ √X ├───┤ Rz(-2π) ├──────■─────────┤ √X ├──────────■───────────┤ X ├─────┤ Rz(-1.5647) ├───┤ Rz(-π) ├──────┤ √X ├───────┤ Rz(-π) ├────────────────────┤ X ├───┤ Rz(-π/2) ├───────────────┤ X ├────┤ Rz(1.5585) ├────┤ X ├───────┤ Rz(-π) ├──────┤ X ├────────────────────────────────────────────────────────────────────────────────────────────────────────────────────────────────────────────────────────────────────────────────────────────────────────────────────────────────────────────────────────────────────────────────────────────────────────────────────────────────────────────────────────────────────────────────────────────────────────────────────────────────────────────────────────────────────────────────────────────────────────────────────────────────────────────────────────────────────────────────────────────────────────────────────────────────────────────────────────────────────────────────────────────────────────────────────────────────────────────────────────────────────────────────────────────\n",
       "           ├────────┤ ├────┤ ├────────┤                                                                                                                                                                                                                                                                                                                                                                                                                                                                                                                                                                                                           ┌───┐    ┌──────────┐              ┌───┐    ┌────────────┐    ┌───┐        ┌───┐    ┌─────────────┐  ┌────────┐       ┌────┐      ┌─────────┐     └─┬─┘   └──┬────┬──┘┌─────────┐    └─┬─┘    └───┬────┬───┘    └─┬─┘         ├───┤    ├─────────────┤  └┬────────┬┘       ├────┤     └┬────────┤                  ├───┬┘   ├─────────┴┐               ├───┬┘    ┌────────────┐    ├───┤     └────┬───┬────┘┌──┴────────┴─┐  ┌─┴────┴─┐     └─┬────┬─┘    ┌─────────┐     └─┬─┘    └──┬────┬──┘┌─────────┐     └─┬─┘     └───┬────┬───┘    └─┬─┘         ├───┤    ├─────────────┤   ├────────┤        ├────┤     └┬────────┤                  ├───┬┘   ├─────────┴┐               ├───┬┘    ┌────────────┐    ├───┤     └────┬───┬────┘┌──┴────────┴─┐  ┌─┴────┴─┐     └─┬────┬─┘    ┌─────────┐     └─┬─┘   └──┬────┬──┘┌─────────┐    └─┬─┘    └───┬────┬───┘    └─┬─┘       └─┬───┬──┘ ┌────┴───┴────┐   ┌────────┐        ┌────┐      ┌────────┐                  ┌───┐    ┌──────────┐              ┌───┐    ┌────────────┐    ┌───┐      ┌────────┐      ┌───┐                                                                                                                                                                                                                                                                                                                                                                                                                                                                                                                                                                                                                            \n",
       "q_3 -> 3 ──┤ Rz(-π) ├─┤ √X ├─┤ Rz(-π) ├───────────────────────────────────────────────────────────────────────────────────────────────────────────────────────────────────────────────────────────────────────────────────────────────────────────────────────────────────────────────────────────────────────────────────────────────────────────────────────────────────────────────────────────────────────────────────────────────────────────────────────────────────────────────────────────────────────────────────────────────────────────────────────────────────────────────────────────────────────────────────────────────────────────┤ X ├────┤ Rz(-π/2) ├──────────────┤ X ├────┤ Rz(1.5463) ├────┤ X ├────────┤ X ├────┤ Rz(-3.1293) ├──┤ Rz(-π) ├───────┤ √X ├──────┤ Rz(π/2) ├───────■────────┤ √X ├───┤ Rz(-2π) ├──────■──────────┤ √X ├──────────■───────────┤ X ├────┤ Rz(-1.5585) ├───┤ Rz(-π) ├────────┤ √X ├──────┤ Rz(-π) ├──────────────────┤ X ├────┤ Rz(-π/2) ├───────────────┤ X ├─────┤ Rz(1.5463) ├────┤ X ├──────────┤ X ├─────┤ Rz(-3.1293) ├──┤ Rz(-π) ├───────┤ √X ├──────┤ Rz(π/2) ├───────■─────────┤ √X ├───┤ Rz(-2π) ├───────■───────────┤ √X ├──────────■───────────┤ X ├────┤ Rz(-1.5585) ├───┤ Rz(-π) ├────────┤ √X ├──────┤ Rz(-π) ├──────────────────┤ X ├────┤ Rz(-π/2) ├───────────────┤ X ├─────┤ Rz(1.5463) ├────┤ X ├──────────┤ X ├─────┤ Rz(-3.1293) ├──┤ Rz(-π) ├───────┤ √X ├──────┤ Rz(π/2) ├───────■────────┤ √X ├───┤ Rz(-2π) ├──────■──────────┤ √X ├──────────■───────────┤ X ├────┤ Rz(-1.5585) ├───┤ Rz(-π) ├────────┤ √X ├──────┤ Rz(-π) ├──────────────────┤ X ├────┤ Rz(-π/2) ├──────────────┤ X ├────┤ Rz(1.5463) ├────┤ X ├──────┤ Rz(-π) ├──────┤ X ├────────────────────────────────────────────────────────────────────────────────────────────────────────────────────────────────────────────────────────────────────────────────────────────────────────────────────────────────────────────────────────────────────────────────────────────────────────────────────────────────────────────────────────────────────────────────────────────────────────────────────────────────────────────────────────────────────────────────────────────────────────────────────────────────────────────────────────────────────────────────────────────────────────────────────────────\n",
       "         ┌─┴────────┴┐├────┤ ├────────┤                                                                                                                                                                                                                                                                                                                                                                                                                                                                   ┌───┐   ┌──────────┐               ┌───┐   ┌────────────┐    ┌───┐    ┌───┐┌─────────────┐    ┌────────┐      ┌────┐    ┌─────────┐     └─┬─┘    └──┬────┬──┘┌─────────┐   └─┬─┘    └───┬────┬───┘    └─┬─┘        ├───┤    ├─────────────┤┌─┴────────┴┐      ├────┤      └┬────────┤                ├───┬┘   ├─────────┴┐                ├───┬┘    ┌────────────┐    ├───┤    └────┬───┬────┘┌──┴────────┴─┐    ┌─┴────┴─┐    └─┬────┬─┘  ┌─────────┐     └─┬─┘    └──┬────┬──┘┌─────────┐    └─┬─┘     └───┬────┬───┘    └─┬─┘          ├───┤     ├─────────────┤┌─┴────────┴┐      ├────┤      └┬────────┤                 ├───┬┘   ├─────────┴┐                  ├───┬┘    ┌────────────┐    ├───┤    └────┬───┬────┘┌──┴────────┴─┐    ┌─┴────┴─┐    └─┬────┬─┘  ┌─────────┐     └─┬─┘    └──┬────┬──┘┌─────────┐    └─┬─┘     └───┬────┬───┘    └─┬─┘          ├───┤     ├─────────────┤┌─┴────────┴┐      ├────┤      └┬────────┤                ├───┬┘   ├─────────┴┐                ├───┬┘    ┌────────────┐    ├───┤    └────┬───┬────┘┌──┴────────┴─┐    ┌─┴────┴─┐    └─┬────┬─┘  ┌─────────┐     └─┬─┘    └──┬────┬──┘┌─────────┐   └─┬─┘    └───┬────┬───┘    └─┬─┘      └─┬───┬──┘ ┌────┴───┴────┐    ┌────┐                                                 ┌───┐   ┌──────────┐               ┌───┐   ┌────────────┐    ┌───┐     ┌─────────┐                                                                                                                                                                                                                                                                                                                                                                                                                                                                          \n",
       "q_4 -> 4 ┤ Rz(-3π/4) ├┤ √X ├─┤ Rz(-π) ├───────────────────────────────────────────────────────────────────────────────────────────────────────────────────────────────────────────────────────────────────────────────────────────────────────────────────────────────────────────────────────────────────────────────────────────────────────────────────────────────────────────────────────────────────────────────────────────────────────────────────────────────────────────────────────────────────┤ X ├───┤ Rz(-π/2) ├───────────────┤ X ├───┤ Rz(1.5217) ├────┤ X ├────┤ X ├┤ Rz(-2.3317) ├────┤ Rz(-π) ├──────┤ √X ├────┤ Rz(π/2) ├───────■─────────┤ √X ├───┤ Rz(-2π) ├─────■──────────┤ √X ├──────────■──────────┤ X ├────┤ Rz(-1.5463) ├┤ Rz(-3π/4) ├──────┤ √X ├───────┤ Rz(-π) ├────────────────┤ X ├────┤ Rz(-π/2) ├────────────────┤ X ├─────┤ Rz(1.5217) ├────┤ X ├─────────┤ X ├─────┤ Rz(-2.3317) ├────┤ Rz(-π) ├──────┤ √X ├────┤ Rz(π/2) ├───────■─────────┤ √X ├───┤ Rz(-2π) ├──────■───────────┤ √X ├──────────■────────────┤ X ├─────┤ Rz(-1.5463) ├┤ Rz(-3π/4) ├──────┤ √X ├───────┤ Rz(-π) ├─────────────────┤ X ├────┤ Rz(-π/2) ├──────────────────┤ X ├─────┤ Rz(1.5217) ├────┤ X ├─────────┤ X ├─────┤ Rz(-2.3317) ├────┤ Rz(-π) ├──────┤ √X ├────┤ Rz(π/2) ├───────■─────────┤ √X ├───┤ Rz(-2π) ├──────■───────────┤ √X ├──────────■────────────┤ X ├─────┤ Rz(-1.5463) ├┤ Rz(-3π/4) ├──────┤ √X ├───────┤ Rz(-π) ├────────────────┤ X ├────┤ Rz(-π/2) ├────────────────┤ X ├─────┤ Rz(1.5217) ├────┤ X ├─────────┤ X ├─────┤ Rz(-2.3317) ├────┤ Rz(-π) ├──────┤ √X ├────┤ Rz(π/2) ├───────■─────────┤ √X ├───┤ Rz(-2π) ├─────■──────────┤ √X ├──────────■──────────┤ X ├────┤ Rz(-1.5463) ├────┤ √X ├─────────────────────────────────────────────────┤ X ├───┤ Rz(-π/2) ├───────────────┤ X ├───┤ Rz(1.5217) ├────┤ X ├─────┤ Rz(π/2) ├──────────────────────────────────────────────────────────────────────────────────────────────────────────────────────────────────────────────────────────────────────────────────────────────────────────────────────────────────────────────────────────────────────────────────────────────────────────────────────────────────────────────────────────────────────────────────────────────────────────────────────────────────────────────────────────────────────────\n",
       "         └┬──────────┤├────┤ └────────┘                                                                                                                                                                                                                                                                                                                                ┌───┐   ┌─────────┐               ┌───┐   ┌────────────┐   ┌───┐    ┌───┐┌────────────┐  ┌──────────┐      ┌────┐    ┌─────────┐   └─┬─┘   └──┬────┬──┘┌─────────┐    └─┬─┘   └───┬────┬───┘    └─┬─┘    ├───┤├─────────────┤   ┌┴────────┴┐     ├────┤    └─────────┘                 ├───┬┘   ├─────────┤                ├───┬┘    ┌────────────┐   ├───┤    └────┬───┬────┘├───────────┴┐  ┌──┴────┴──┐    └─┬────┬─┘  ┌─────────┐   └─┬─┘    └──┬────┬──┘┌─────────┐     └─┬─┘     └───┬────┬───┘    └─┬─┘         ├───┤     ├─────────────┤   ┌┴────────┴┐     ├────┤    └─────────┘                 ├───┬┘   ├─────────┤                  ├───┬┘    ┌────────────┐     ├───┤     └────┬───┬────┘├───────────┴┐  ┌──┴────┴──┐    └─┬────┬─┘  ┌─────────┐    └─┬─┘    └──┬────┬──┘ ┌─────────┐      └─┬─┘     └───┬────┬───┘    └─┬─┘         ├───┤     ├─────────────┤   ┌┴────────┴┐     ├────┤    └─────────┘                 ├───┬┘   ├─────────┤                  ├───┬┘    ┌────────────┐     ├───┤     └────┬───┬────┘├───────────┴┐  ┌──┴────┴──┐    └─┬────┬─┘  ┌─────────┐   └─┬─┘    └──┬────┬──┘┌─────────┐     └─┬─┘     └───┬────┬───┘    └─┬─┘         ├───┤     ├─────────────┤   ┌┴────────┴┐     ├────┤    └─────────┘                 ├───┬┘   ├─────────┤                ├───┬┘    ┌────────────┐   ├───┤    └────┬───┬────┘┌───┴────┴───┐  ┌─────────┐       ┌────┐    ┌──────────┐   └─┬─┘   └──┬────┬──┘┌─────────┐    └─┬─┘   └───┬────┬───┘    └─┬─┘    ┌┴─────────┴─┐   ┌────────┐        ┌────┐     ┌────────┐                            ┌───┐   ┌──────────┐               ┌───┐   ┌────────────┐   ┌───┐    ┌────────┐     ┌───┐                                                                                                                                                                                                                                                                                                         \n",
       "q_5 -> 5 ─┤ Rz(-π/4) ├┤ √X ├───────────────────────────────────────────────────────────────────────────────────────────────────────────────────────────────────────────────────────────────────────────────────────────────────────────────────────────────────────────────────────────────────────────────────────────────────────────────────────────────────────────┤ X ├───┤ Rz(π/2) ├───────────────┤ X ├───┤ Rz(1.4726) ├───┤ X ├────┤ X ├┤ Rz(2.4053) ├──┤ Rz(3π/4) ├──────┤ √X ├────┤ Rz(π/2) ├─────■────────┤ √X ├───┤ Rz(-2π) ├──────■─────────┤ √X ├──────────■──────┤ X ├┤ Rz(-2.3071) ├───┤ Rz(-π/4) ├─────┤ √X ├────────────────────────────────┤ X ├────┤ Rz(π/2) ├────────────────┤ X ├─────┤ Rz(1.4726) ├───┤ X ├─────────┤ X ├─────┤ Rz(2.4053) ├──┤ Rz(3π/4) ├──────┤ √X ├────┤ Rz(π/2) ├─────■─────────┤ √X ├───┤ Rz(-2π) ├───────■───────────┤ √X ├──────────■───────────┤ X ├─────┤ Rz(-2.3071) ├───┤ Rz(-π/4) ├─────┤ √X ├────────────────────────────────┤ X ├────┤ Rz(π/2) ├──────────────────┤ X ├─────┤ Rz(1.4726) ├─────┤ X ├──────────┤ X ├─────┤ Rz(2.4053) ├──┤ Rz(3π/4) ├──────┤ √X ├────┤ Rz(π/2) ├──────■─────────┤ √X ├────┤ Rz(-2π) ├────────■───────────┤ √X ├──────────■───────────┤ X ├─────┤ Rz(-2.3071) ├───┤ Rz(-π/4) ├─────┤ √X ├────────────────────────────────┤ X ├────┤ Rz(π/2) ├──────────────────┤ X ├─────┤ Rz(1.4726) ├─────┤ X ├──────────┤ X ├─────┤ Rz(2.4053) ├──┤ Rz(3π/4) ├──────┤ √X ├────┤ Rz(π/2) ├─────■─────────┤ √X ├───┤ Rz(-2π) ├───────■───────────┤ √X ├──────────■───────────┤ X ├─────┤ Rz(-2.3071) ├───┤ Rz(-π/4) ├─────┤ √X ├────────────────────────────────┤ X ├────┤ Rz(π/2) ├────────────────┤ X ├─────┤ Rz(1.4726) ├───┤ X ├─────────┤ X ├─────┤ Rz(2.4053) ├──┤ Rz(π/2) ├───────┤ √X ├────┤ Rz(-π/2) ├─────■────────┤ √X ├───┤ Rz(-2π) ├──────■─────────┤ √X ├──────────■──────┤ Rz(1.6199) ├───┤ Rz(-π) ├────────┤ √X ├─────┤ Rz(-π) ├────────────────────────────┤ X ├───┤ Rz(-π/2) ├───────────────┤ X ├───┤ Rz(1.4726) ├───┤ X ├────┤ Rz(-π) ├─────┤ X ├─────────────────────────────────────────────────────────────────────────────────────────────────────────────────────────────────────────────────────────────────────────────────────────────────────────────────────────────────────────────────────────────────────────────────────────────────────────\n",
       "         ┌┴──────────┤├────┤ ┌────────┐                                                                                                                                                                                                     ┌───┐┌──────────┐           ┌───┐┌───────────┐┌───┐     ┌───┐       ┌────────────┐┌───────────┐    ┌────┐    ┌──────────┐  └─┬─┘   └──┬────┬─┘┌─────────┐    └─┬─┘   └───┬────┬───┘   └─┬─┘    ├───┤├────────────┤ ┌┴──────────┤      ├────┤    └┬────────┤              ├───┬┘   ├─────────┴┐               ├───┬┘    ┌───────────┐├───┤└────┬───┬────┘  ┌┴──────────┴┐┌───┴────┴──┐    ┌────┐    ┌──────────┐   └─┬─┘    └──┬────┬─┘┌─────────┐     └─┬─┘     └───┬────┬───┘   └─┬─┘         ├───┤     ├────────────┤ ┌┴──────────┤      ├────┤    └┬────────┤               ├───┬┘   ├─────────┴┐                  ├───┬┘    ┌───────────┐     ├───┤     └────┬───┬────┘  ┌┴──────────┴┐┌───┴────┴──┐    ┌────┐    ┌──────────┐   └─┬─┘    └──┬────┬─┘ ┌─────────┐      └─┬─┘     └───┬────┬───┘     └─┬─┘          ├───┤     ├────────────┤ ┌┴──────────┤      ├────┤    └┬────────┤                ├───┬┘    ├─────────┴┐                   ├───┬┘    ┌───────────┐     ├───┤     └────┬───┬────┘  ┌┴──────────┴┐┌───┴────┴──┐    ┌────┐    ┌──────────┐   └─┬─┘    └──┬────┬─┘ ┌─────────┐      └─┬─┘     └───┬────┬───┘     └─┬─┘          ├───┤     ├────────────┤ ┌┴──────────┤      ├────┤    └┬────────┤               ├───┬┘   ├─────────┴┐                  ├───┬┘    ┌───────────┐     ├───┤     └────┬───┬────┘  ┌┴──────────┴┐┌───┴────┴──┐    ┌────┐    ┌──────────┐   └─┬─┘    └──┬────┬─┘┌─────────┐     └─┬─┘     └───┬────┬───┘   └─┬─┘         ├───┤     ├────────────┤ ┌┴─────────┴┐      ├────┤    └┬────────┬┘              ├───┬┘   ├─────────┴┐               ├───┬┘    ┌───────────┐└───┬───┬────┘   └─┬───┬──┘    ┌───┴────┴───┐ ├────────┤     ┌────┐    ┌─────────┐  └─┬─┘   └──┬────┬──┘┌─────────┐    └─┬─┘   └───┬────┬───┘   └─┬─┘    └─┬───┬──┘┌────┴───┴────┐   ┌────────┐       ┌────┐    ┌────────┐           ┌───┐┌──────────┐           ┌───┐┌───────────┐┌───┐   ┌────────┐        ┌───┐                                                                                                                                                                    \n",
       "q_6 -> 6 ┤ Rz(-3π/4) ├┤ √X ├─┤ Rz(-π) ├─────────────────────────────────────────────────────────────────────────────────────────────────────────────────────────────────────────────────────────────────────────────────────────────────────┤ X ├┤ Rz(-π/2) ├───────────┤ X ├┤ Rz(7π/16) ├┤ X ├─────┤ X ├───────┤ Rz(-2.258) ├┤ Rz(-3π/4) ├────┤ √X ├────┤ Rz(-π/2) ├────■────────┤ √X ├──┤ Rz(-2π) ├──────■─────────┤ √X ├─────────■──────┤ X ├┤ Rz(2.4544) ├─┤ Rz(-3π/4) ├──────┤ √X ├─────┤ Rz(-π) ├──────────────┤ X ├────┤ Rz(-π/2) ├───────────────┤ X ├─────┤ Rz(7π/16) ├┤ X ├─────┤ X ├───────┤ Rz(-2.258) ├┤ Rz(-3π/4) ├────┤ √X ├────┤ Rz(-π/2) ├─────■─────────┤ √X ├──┤ Rz(-2π) ├───────■───────────┤ √X ├─────────■───────────┤ X ├─────┤ Rz(2.4544) ├─┤ Rz(-3π/4) ├──────┤ √X ├─────┤ Rz(-π) ├───────────────┤ X ├────┤ Rz(-π/2) ├──────────────────┤ X ├─────┤ Rz(7π/16) ├─────┤ X ├──────────┤ X ├───────┤ Rz(-2.258) ├┤ Rz(-3π/4) ├────┤ √X ├────┤ Rz(-π/2) ├─────■─────────┤ √X ├───┤ Rz(-2π) ├────────■───────────┤ √X ├───────────■────────────┤ X ├─────┤ Rz(2.4544) ├─┤ Rz(-3π/4) ├──────┤ √X ├─────┤ Rz(-π) ├────────────────┤ X ├─────┤ Rz(-π/2) ├───────────────────┤ X ├─────┤ Rz(7π/16) ├─────┤ X ├──────────┤ X ├───────┤ Rz(-2.258) ├┤ Rz(-3π/4) ├────┤ √X ├────┤ Rz(-π/2) ├─────■─────────┤ √X ├───┤ Rz(-2π) ├────────■───────────┤ √X ├───────────■────────────┤ X ├─────┤ Rz(2.4544) ├─┤ Rz(-3π/4) ├──────┤ √X ├─────┤ Rz(-π) ├───────────────┤ X ├────┤ Rz(-π/2) ├──────────────────┤ X ├─────┤ Rz(7π/16) ├─────┤ X ├──────────┤ X ├───────┤ Rz(-2.258) ├┤ Rz(-3π/4) ├────┤ √X ├────┤ Rz(-π/2) ├─────■─────────┤ √X ├──┤ Rz(-2π) ├───────■───────────┤ √X ├─────────■───────────┤ X ├─────┤ Rz(2.4544) ├─┤ Rz(-3π/4) ├──────┤ √X ├─────┤ Rz(-π) ├───────────────┤ X ├────┤ Rz(-π/2) ├───────────────┤ X ├─────┤ Rz(7π/16) ├────┤ X ├──────────┤ X ├───────┤ Rz(-2.258) ├─┤ Rz(-π) ├─────┤ √X ├────┤ Rz(π/2) ├────■────────┤ √X ├───┤ Rz(-2π) ├──────■─────────┤ √X ├─────────■────────┤ X ├───┤ Rz(-1.4726) ├───┤ Rz(-π) ├───────┤ √X ├────┤ Rz(-π) ├───────────┤ X ├┤ Rz(-π/2) ├───────────┤ X ├┤ Rz(7π/16) ├┤ X ├───┤ Rz(-π) ├────────┤ X ├────────────────────────────────────────────────────────────────────────────────────────────────────────────────────────────────────────────────────────────────────\n",
       "         └┬──────────┤├────┤ ├────────┤                                                                                   ┌───┐ ┌──────────┐                      ┌───┐┌──────────┐┌───┐┌───┐┌─────────────┐  ┌──────────┐ ┌────┐┌─────────┐└─┬─┘└──┬────┬──┘┌─────────┐└─┬─┘└───┬────┬──┘└─┬─┘     ├───┤      ┌┴────────────┤└┬──────────┤    ├────┤    └┬────────┬┘             ├───┬┘  ├─────────┴┐               ├───┬┘    ┌──────────┐├───┤└───┬───┬────┘┌┴───────────┴┐  ┌──┴────┴──┐  └─┬────┬─┘┌─────────┐   └─┬─┘    └──┬────┬──┘┌─────────┐    └─┬─┘     └───┬────┬──┘└─┬─┘     ├───┤      ┌┴────────────┤└┬──────────┤    ├────┤    └┬────────┬┘               ├───┬┘  ├─────────┴┐                  ├───┬┘    ┌──────────┐     ├───┤     └───┬───┬────┘┌┴───────────┴┐  ┌──┴────┴──┐  └─┬────┬─┘┌─────────┐    └─┬─┘    └──┬────┬──┘ ┌─────────┐      └─┬─┘     └───┬────┬──┘     └─┬─┘          ├───┤      ┌┴────────────┤└┬──────────┤    ├────┤    └┬────────┬┘               ├───┬┘   ├─────────┴┐                   ├───┬┘      ┌──────────┐      ├───┤     └───┬───┬────┘┌┴───────────┴┐  ┌──┴────┴──┐  └─┬────┬─┘ ┌─────────┐    └─┬─┘     └──┬────┬──┘  ┌─────────┐      └─┬─┘     └───┬────┬──┘     └─┬─┘          ├───┤      ┌┴────────────┤└┬──────────┤    ├────┤    └┬────────┬┘               ├───┬┘   ├─────────┴┐                   ├───┬┘      ┌──────────┐      ├───┤     └───┬───┬────┘┌┴───────────┴┐  ┌──┴────┴──┐  └─┬────┬─┘┌─────────┐    └─┬─┘    └──┬────┬──┘ ┌─────────┐      └─┬─┘     └───┬────┬──┘     └─┬─┘          ├───┤      ┌┴────────────┤└┬──────────┤    ├────┤    └┬────────┬┘               ├───┬┘  ├─────────┴┐                  ├───┬┘    ┌──────────┐     ├───┤     └───┬───┬────┘┌┴───────────┴┐  ┌──┴────┴──┐  └─┬────┬─┘ ┌─────────┐   └─┬─┘    └──┬────┬──┘┌─────────┐    └─┬─┘     └───┬────┬──┘    └─┬─┘          ├───┤      ┌┴────────────┤┌┴────────┴┐    ├────┤    └┬────────┤             ├───┬┘   ├─────────┴┐               ├───┬┘    ┌──────────┐  ├───┤   └────┬───┬────┘┌──┴────────┴─┐   ┌─┴────┴─┐  └─┬────┬─┘┌─────────┐└─┬─┘└──┬────┬──┘┌─────────┐└─┬─┘└───┬────┬──┘└─┬─┘   └─┬───┬──┘    ┌───┴───┴────┐┌───────────┐┌────┐ ┌────────┐┌───┐┌──────────┐           ┌───┐┌──────────┐┌───┐┌───┐┌───────────┐                                                             \n",
       "q_7 -> 7 ─┤ Rz(-π/2) ├┤ √X ├─┤ Rz(-π) ├───────────────────────────────────────────────────────────────────────────────────┤ X ├─┤ Rz(-π/2) ├──────────────────────┤ X ├┤ Rz(3π/8) ├┤ X ├┤ X ├┤ Rz(-15π/16) ├──┤ Rz(3π/4) ├─┤ √X ├┤ Rz(π/2) ├──■─────┤ √X ├───┤ Rz(-2π) ├──■──────┤ √X ├─────■───────┤ X ├──────┤ Rz(-11π/16) ├─┤ Rz(-π/2) ├────┤ √X ├─────┤ Rz(-π) ├──────────────┤ X ├───┤ Rz(-π/2) ├───────────────┤ X ├─────┤ Rz(3π/8) ├┤ X ├────┤ X ├─────┤ Rz(-15π/16) ├──┤ Rz(3π/4) ├────┤ √X ├──┤ Rz(π/2) ├─────■─────────┤ √X ├───┤ Rz(-2π) ├──────■───────────┤ √X ├─────■───────┤ X ├──────┤ Rz(-11π/16) ├─┤ Rz(-π/2) ├────┤ √X ├─────┤ Rz(-π) ├────────────────┤ X ├───┤ Rz(-π/2) ├──────────────────┤ X ├─────┤ Rz(3π/8) ├─────┤ X ├─────────┤ X ├─────┤ Rz(-15π/16) ├──┤ Rz(3π/4) ├────┤ √X ├──┤ Rz(π/2) ├──────■─────────┤ √X ├────┤ Rz(-2π) ├────────■───────────┤ √X ├──────────■────────────┤ X ├──────┤ Rz(-11π/16) ├─┤ Rz(-π/2) ├────┤ √X ├─────┤ Rz(-π) ├────────────────┤ X ├────┤ Rz(-π/2) ├───────────────────┤ X ├───────┤ Rz(3π/8) ├──────┤ X ├─────────┤ X ├─────┤ Rz(-15π/16) ├──┤ Rz(3π/4) ├────┤ √X ├───┤ Rz(π/2) ├──────■──────────┤ √X ├─────┤ Rz(-2π) ├────────■───────────┤ √X ├──────────■────────────┤ X ├──────┤ Rz(-11π/16) ├─┤ Rz(-π/2) ├────┤ √X ├─────┤ Rz(-π) ├────────────────┤ X ├────┤ Rz(-π/2) ├───────────────────┤ X ├───────┤ Rz(3π/8) ├──────┤ X ├─────────┤ X ├─────┤ Rz(-15π/16) ├──┤ Rz(3π/4) ├────┤ √X ├──┤ Rz(π/2) ├──────■─────────┤ √X ├────┤ Rz(-2π) ├────────■───────────┤ √X ├──────────■────────────┤ X ├──────┤ Rz(-11π/16) ├─┤ Rz(-π/2) ├────┤ √X ├─────┤ Rz(-π) ├────────────────┤ X ├───┤ Rz(-π/2) ├──────────────────┤ X ├─────┤ Rz(3π/8) ├─────┤ X ├─────────┤ X ├─────┤ Rz(-15π/16) ├──┤ Rz(3π/4) ├────┤ √X ├───┤ Rz(π/2) ├─────■─────────┤ √X ├───┤ Rz(-2π) ├──────■───────────┤ √X ├─────────■────────────┤ X ├──────┤ Rz(-11π/16) ├┤ Rz(-π/2) ├────┤ √X ├─────┤ Rz(-π) ├─────────────┤ X ├────┤ Rz(-π/2) ├───────────────┤ X ├─────┤ Rz(3π/8) ├──┤ X ├────────┤ X ├─────┤ Rz(-15π/16) ├───┤ Rz(-π) ├────┤ √X ├──┤ Rz(π/2) ├──■─────┤ √X ├───┤ Rz(-2π) ├──■──────┤ √X ├─────■───────┤ X ├───────┤ Rz(-7π/16) ├┤ Rz(-3π/4) ├┤ √X ├─┤ Rz(-π) ├┤ X ├┤ Rz(-π/2) ├───────────┤ X ├┤ Rz(3π/8) ├┤ X ├┤ X ├┤ Rz(-3π/4) ├─────────────────────────────────────────────────────────────\n",
       "          └──────────┘└────┘ └────────┘           ┌───┐┌──────────┐┌───┐┌─────────┐┌─────────┐┌────┐┌─────────┐┌─────────┐└─┬─┘┌┴──────────┴┐   ┌────┐  ┌────────┐└─┬─┘└──────────┘└─┬─┘└───┘└─────────────┘  └──────────┘ └────┘└─────────┘┌───┐┌──┴────┴──┐└─────────┘┌───┐ ┌──┴────┴─┐ ┌───┐┌────┴───┴─────┐└────┬────┬───┘ ├──────────┤┌───┴────┴───┐ └─┬────┬─┘ ┌────────┐   └─┬─┘   └──────────┘               └─┬─┘     └──────────┘└─┬─┘    └───┘     └─────────────┘  └──────────┘    └────┘  └─────────┘   ┌───┐    ┌──┴────┴──┐└─────────┘    ┌───┐      ┌──┴────┴─┐ ┌───┐┌────┴───┴─────┐└────┬────┬───┘ ├──────────┤┌───┴────┴───┐ └─┬────┬─┘  ┌────────┐    └─┬─┘   └──────────┘                  └─┬─┘     └──────────┘     └─┬─┘         └───┘     └─────────────┘  └──────────┘    └────┘  └─────────┘    ┌───┐    ┌──┴────┴──┐ └─────────┘      ┌───┐      ┌──┴────┴─┐      ┌───┐     ┌────┴───┴─────┐└────┬────┬───┘ ├──────────┤┌───┴────┴───┐ └─┬────┬─┘  ┌────────┐    └─┬─┘    └──────────┘                   └─┬─┘       └──────────┘      └─┬─┘         └───┘     └─────────────┘  └──────────┘    └────┘   └─────────┘    ┌───┐     ┌──┴────┴──┐  └─────────┘      ┌───┐      ┌──┴────┴─┐      ┌───┐     ┌────┴───┴─────┐└────┬────┬───┘ ├──────────┤┌───┴────┴───┐ └─┬────┬─┘  ┌────────┐    └─┬─┘    └──────────┘                   └─┬─┘       └──────────┘      └─┬─┘         └───┘     └─────────────┘  └──────────┘    └────┘  └─────────┘    ┌───┐    ┌──┴────┴──┐ └─────────┘      ┌───┐      ┌──┴────┴─┐      ┌───┐     ┌────┴───┴─────┐└────┬────┬───┘ ├──────────┤┌───┴────┴───┐ └─┬────┬─┘  ┌────────┐    └─┬─┘   └──────────┘                  └─┬─┘     └──────────┘     └─┬─┘         └───┘     └─────────────┘  └──────────┘    └────┘   └─────────┘   ┌───┐    ┌──┴────┴──┐└─────────┘    ┌───┐      ┌──┴────┴─┐     ┌───┐     ┌────┴───┴─────┐└────┬────┬───┘├──────────┤┌───┴────┴───┐ └─┬────┬─┘┌────────┐   └─┬─┘    └──────────┘               └─┬─┘     └──────────┘  └─┬─┘        └───┘     └─────────────┘   └────────┘    └────┘  └─────────┘┌───┐┌──┴────┴──┐└─────────┘┌───┐ ┌──┴────┴─┐ ┌───┐┌────┴───┴─────┐ └───┬────┬───┘└┬──────────┤└────┘ └────────┘└─┬─┘└──────────┘           └─┬─┘└──────────┘└─┬─┘└───┘└───────────┘                                                             \n",
       "q_8 -> 8 ─────────────────────────────────────────┤ X ├┤ Rz(-π/4) ├┤ X ├┤ Rz(π/4) ├┤ Rz(π/2) ├┤ √X ├┤ Rz(π/2) ├┤ Rz(π/4) ├──┼──┤ Rz(1.1595) ├───┤ √X ├──┤ Rz(-π) ├──┼────────────────┼──────────────────────────────────────────────────────┤ X ├┤ Rz(-π/2) ├───────────┤ X ├─┤ Rz(π/4) ├─┤ X ├┤ Rz(-0.37411) ├─────┤ √X ├─────┤ Rz(-π/4) ├┤ Rz(1.1595) ├───┤ √X ├───┤ Rz(-π) ├─────┼──────────────────────────────────┼─────────────────────┼───────────────────────────────────────────────────────────────────────┤ X ├────┤ Rz(-π/2) ├───────────────┤ X ├──────┤ Rz(π/4) ├─┤ X ├┤ Rz(-0.37411) ├─────┤ √X ├─────┤ Rz(-π/4) ├┤ Rz(1.1595) ├───┤ √X ├────┤ Rz(-π) ├──────┼─────────────────────────────────────┼──────────────────────────┼─────────────────────────────────────────────────────────────────────────────┤ X ├────┤ Rz(-π/2) ├──────────────────┤ X ├──────┤ Rz(π/4) ├──────┤ X ├─────┤ Rz(-0.37411) ├─────┤ √X ├─────┤ Rz(-π/4) ├┤ Rz(1.1595) ├───┤ √X ├────┤ Rz(-π) ├──────┼───────────────────────────────────────┼─────────────────────────────┼──────────────────────────────────────────────────────────────────────────────┤ X ├─────┤ Rz(-π/2) ├───────────────────┤ X ├──────┤ Rz(π/4) ├──────┤ X ├─────┤ Rz(-0.37411) ├─────┤ √X ├─────┤ Rz(-π/4) ├┤ Rz(1.1595) ├───┤ √X ├────┤ Rz(-π) ├──────┼───────────────────────────────────────┼─────────────────────────────┼─────────────────────────────────────────────────────────────────────────────┤ X ├────┤ Rz(-π/2) ├──────────────────┤ X ├──────┤ Rz(π/4) ├──────┤ X ├─────┤ Rz(-0.37411) ├─────┤ √X ├─────┤ Rz(-π/4) ├┤ Rz(1.1595) ├───┤ √X ├────┤ Rz(-π) ├──────┼─────────────────────────────────────┼──────────────────────────┼─────────────────────────────────────────────────────────────────────────────┤ X ├────┤ Rz(-π/2) ├───────────────┤ X ├──────┤ Rz(π/4) ├─────┤ X ├─────┤ Rz(-0.37411) ├─────┤ √X ├────┤ Rz(-π/4) ├┤ Rz(1.1595) ├───┤ √X ├──┤ Rz(-π) ├─────┼───────────────────────────────────┼───────────────────────┼───────────────────────────────────────────────────────────────────────┤ X ├┤ Rz(-π/2) ├───────────┤ X ├─┤ Rz(π/4) ├─┤ X ├┤ Rz(-0.37411) ├─────┤ √X ├─────┤ Rz(-π/4) ├───────────────────┼───────────────────────────┼────────────────┼──────────────────────■────────────────■─────────────────────────────────────────\n",
       "          ┌─────────┐ ┌────┐┌─────────┐┌─────────┐└─┬─┘└──────────┘└─┬─┘├─────────┤└┬────────┤├────┤├─────────┤└─────────┘  │  └───┬────┬───┘┌──┴────┴─┐└────────┘  │     ┌────┐     │  ┌───┐ ┌───────────┐ ┌─────────────┐┌────┐┌─────────┐└─┬─┘└──┬────┬──┘┌─────────┐└─┬─┘ └──┬────┬─┘ └─┬─┘└────┬───┬─────┘┌────┴────┴───┐ └┬────────┬┘└───┬────┬───┘┌──┴────┴─┐ └────────┘     │        ┌────┐   ┌─────────┐      │          ┌────┐     │      ┌───┐      ┌───────────┐ ┌─────────────┐   ┌────┐  ┌─────────┐   └─┬─┘    └──┬────┬──┘┌─────────┐    └─┬─┘      └──┬────┬─┘ └─┬─┘└────┬───┬─────┘┌────┴────┴───┐ └┬────────┬┘└───┬────┬───┘┌──┴────┴─┐  └────────┘      │        ┌────┐    ┌─────────┐        │          ┌────┐          │           ┌───┐      ┌───────────┐ ┌─────────────┐   ┌────┐  ┌─────────┐    └─┬─┘    └──┬────┬──┘ ┌─────────┐      └─┬─┘      └──┬────┬─┘      └─┬─┘     └────┬───┬─────┘┌────┴────┴───┐ └┬────────┬┘└───┬────┬───┘┌──┴────┴─┐  └────────┘      │         ┌────┐     ┌─────────┐        │            ┌────┐           │           ┌───┐      ┌───────────┐ ┌─────────────┐   ┌────┐   ┌─────────┐    └─┬─┘     └──┬────┬──┘  ┌─────────┐      └─┬─┘      └──┬────┬─┘      └─┬─┘     └────┬───┬─────┘┌────┴────┴───┐ └┬────────┬┘└───┬────┬───┘┌──┴────┴─┐  └────────┘      │         ┌────┐     ┌─────────┐        │            ┌────┐           │           ┌───┐      ┌───────────┐ ┌─────────────┐   ┌────┐  ┌─────────┐    └─┬─┘    └──┬────┬──┘ ┌─────────┐      └─┬─┘      └──┬────┬─┘      └─┬─┘     └────┬───┬─────┘┌────┴────┴───┐ └┬────────┬┘└───┬────┬───┘┌──┴────┴─┐  └────────┘      │        ┌────┐    ┌─────────┐        │          ┌────┐          │           ┌───┐      ┌───────────┐ ┌─────────────┐   ┌────┐   ┌─────────┐   └─┬─┘    └──┬────┬──┘┌─────────┐    └─┬─┘      └──┬────┬─┘     └─┬─┘     └────┬───┬─────┘┌────┴────┴───┐└┬────────┬┘└───┬────┬───┘┌──┴────┴─┐└────────┘     │         ┌────┐   ┌─────────┐      │          ┌────┐       │          ┌───┐      ┌───────────┐ ┌─────────────┐  ┌────┐  ┌─────────┐└─┬─┘└──┬────┬──┘┌─────────┐└─┬─┘ └──┬────┬─┘ └─┬─┘└────┬───┬─────┘┌────┴────┴───┐ ├──────────┤┌────┐┌─────────┐  │     ┌────┐   ┌─────────┐  │     ┌────┐     │  ┌───┐┌───────────┐┌─┴─┐┌──────────┐┌─┴─┐┌─────────┐┌─────────┐┌────┐┌─────────┐\n",
       "q_9 -> 9 ─┤ Rz(π/2) ├─┤ √X ├┤ Rz(π/2) ├┤ Rz(π/4) ├──■────────────────■──┤ Rz(π/8) ├─┤ Rz(-π) ├┤ √X ├┤ Rz(π/2) ├─────────────■──────┤ √X ├────┤ Rz(-2π) ├────────────■─────┤ √X ├─────■──┤ X ├─┤ Rz(-7π/8) ├─┤ Rz(-1.1595) ├┤ √X ├┤ Rz(π/2) ├──■─────┤ √X ├───┤ Rz(-2π) ├──■──────┤ √X ├─────■───────┤ X ├──────┤ Rz(0.80399) ├──┤ Rz(-π) ├─────┤ √X ├────┤ Rz(π/2) ├────────────────■────────┤ √X ├───┤ Rz(-2π) ├──────■──────────┤ √X ├─────■──────┤ X ├──────┤ Rz(-7π/8) ├─┤ Rz(-1.1595) ├───┤ √X ├──┤ Rz(π/2) ├─────■─────────┤ √X ├───┤ Rz(-2π) ├──────■───────────┤ √X ├─────■───────┤ X ├──────┤ Rz(0.80399) ├──┤ Rz(-π) ├─────┤ √X ├────┤ Rz(π/2) ├──────────────────■────────┤ √X ├────┤ Rz(-2π) ├────────■──────────┤ √X ├──────────■───────────┤ X ├──────┤ Rz(-7π/8) ├─┤ Rz(-1.1595) ├───┤ √X ├──┤ Rz(π/2) ├──────■─────────┤ √X ├────┤ Rz(-2π) ├────────■───────────┤ √X ├──────────■────────────┤ X ├──────┤ Rz(0.80399) ├──┤ Rz(-π) ├─────┤ √X ├────┤ Rz(π/2) ├──────────────────■─────────┤ √X ├─────┤ Rz(-2π) ├────────■────────────┤ √X ├───────────■───────────┤ X ├──────┤ Rz(-7π/8) ├─┤ Rz(-1.1595) ├───┤ √X ├───┤ Rz(π/2) ├──────■──────────┤ √X ├─────┤ Rz(-2π) ├────────■───────────┤ √X ├──────────■────────────┤ X ├──────┤ Rz(0.80399) ├──┤ Rz(-π) ├─────┤ √X ├────┤ Rz(π/2) ├──────────────────■─────────┤ √X ├─────┤ Rz(-2π) ├────────■────────────┤ √X ├───────────■───────────┤ X ├──────┤ Rz(-7π/8) ├─┤ Rz(-1.1595) ├───┤ √X ├──┤ Rz(π/2) ├──────■─────────┤ √X ├────┤ Rz(-2π) ├────────■───────────┤ √X ├──────────■────────────┤ X ├──────┤ Rz(0.80399) ├──┤ Rz(-π) ├─────┤ √X ├────┤ Rz(π/2) ├──────────────────■────────┤ √X ├────┤ Rz(-2π) ├────────■──────────┤ √X ├──────────■───────────┤ X ├──────┤ Rz(-7π/8) ├─┤ Rz(-1.1595) ├───┤ √X ├───┤ Rz(π/2) ├─────■─────────┤ √X ├───┤ Rz(-2π) ├──────■───────────┤ √X ├─────────■────────────┤ X ├──────┤ Rz(0.80399) ├─┤ Rz(-π) ├─────┤ √X ├────┤ Rz(π/2) ├───────────────■─────────┤ √X ├───┤ Rz(-2π) ├──────■──────────┤ √X ├───────■──────────┤ X ├──────┤ Rz(-7π/8) ├─┤ Rz(-1.1595) ├──┤ √X ├──┤ Rz(π/2) ├──■─────┤ √X ├───┤ Rz(-2π) ├──■──────┤ √X ├─────■───────┤ X ├──────┤ Rz(0.80399) ├─┤ Rz(3π/4) ├┤ √X ├┤ Rz(π/2) ├──■─────┤ √X ├───┤ Rz(-2π) ├──■─────┤ √X ├─────■──┤ X ├┤ Rz(-5π/8) ├┤ X ├┤ Rz(-π/4) ├┤ X ├┤ Rz(π/4) ├┤ Rz(π/2) ├┤ √X ├┤ Rz(π/2) ├\n",
       "          └─────────┘ └────┘└─────────┘└─────────┘                      └─────────┘ └────────┘└────┘└─────────┘                    └────┘    └─────────┘                  └────┘        └───┘ └───────────┘ └─────────────┘└────┘└─────────┘        └────┘   └─────────┘         └────┘             └───┘      └─────────────┘  └────────┘     └────┘    └─────────┘                         └────┘   └─────────┘                 └────┘            └───┘      └───────────┘ └─────────────┘   └────┘  └─────────┘               └────┘   └─────────┘                  └────┘             └───┘      └─────────────┘  └────────┘     └────┘    └─────────┘                           └────┘    └─────────┘                   └────┘                      └───┘      └───────────┘ └─────────────┘   └────┘  └─────────┘                └────┘    └─────────┘                    └────┘                       └───┘      └─────────────┘  └────────┘     └────┘    └─────────┘                            └────┘     └─────────┘                     └────┘                       └───┘      └───────────┘ └─────────────┘   └────┘   └─────────┘                 └────┘     └─────────┘                    └────┘                       └───┘      └─────────────┘  └────────┘     └────┘    └─────────┘                            └────┘     └─────────┘                     └────┘                       └───┘      └───────────┘ └─────────────┘   └────┘  └─────────┘                └────┘    └─────────┘                    └────┘                       └───┘      └─────────────┘  └────────┘     └────┘    └─────────┘                           └────┘    └─────────┘                   └────┘                      └───┘      └───────────┘ └─────────────┘   └────┘   └─────────┘               └────┘   └─────────┘                  └────┘                      └───┘      └─────────────┘ └────────┘     └────┘    └─────────┘                         └────┘   └─────────┘                 └────┘                  └───┘      └───────────┘ └─────────────┘  └────┘  └─────────┘        └────┘   └─────────┘         └────┘             └───┘      └─────────────┘ └──────────┘└────┘└─────────┘        └────┘   └─────────┘        └────┘        └───┘└───────────┘└───┘└──────────┘└───┘└─────────┘└─────────┘└────┘└─────────┘</pre>"
      ],
      "text/plain": [
       "global phase: 0.001534\n",
       "          ┌──────────┐┌────┐                                                                                                                                                                                                                                                                                                                                                                                                                                                                                                                                                                                                                                                                                                                                                                                                                                                                                                                                                                                                                                                                                   ┌───┐     ┌──────────┐               ┌───┐    ┌────────────┐    ┌───┐      ┌─────────┐                                                                                                                                                                                                                                                                                                                                                                                                                                                                                                                                                                                                                                                                                                                                                                                                                                                                                                                                                                                                                                                                                                                                             \n",
       "q_0 -> 0 ─┤ Rz(-π/4) ├┤ √X ├───────────────────────────────────────────────────────────────────────────────────────────────────────────────────────────────────────────────────────────────────────────────────────────────────────────────────────────────────────────────────────────────────────────────────────────────────────────────────────────────────────────────────────────────────────────────────────────────────────────────────────────────────────────────────────────────────────────────────────────────────────────────────────────────────────────────────────────────────────────────────────────────────────────────────────────────────────────────────────────────────────────────────────────────────────────────────────────────────────────────────────────────────────────────────────────────────────────────────────────────────────────────────────────────────────────────────────────────────────────────────────────────────────────────────────────────────────────────────────────────────────────────────────────────────────────────────────────────────────────────────┤ X ├─────┤ Rz(-π/2) ├───────────────┤ X ├────┤ Rz(1.5677) ├────┤ X ├──────┤ Rz(π/4) ├─────────────────────────────────────────────────────────────────────────────────────────────────────────────────────────────────────────────────────────────────────────────────────────────────────────────────────────────────────────────────────────────────────────────────────────────────────────────────────────────────────────────────────────────────────────────────────────────────────────────────────────────────────────────────────────────────────────────────────────────────────────────────────────────────────────────────────────────────────────────────────────────────────────────────────────────────────────────────────────────────────────────────────────────────────────────────────────────────────────────────────────────────────────────────────────────────────────────────────────────────────────────────────────────────────────────────────────────────────────────────────────────────────────────────────────────────────────────────────────────────────────────────────────────────────────────────────────────────────────────────────────────────────────────────────────────────────────────\n",
       "         ┌┴──────────┤├────┤ ┌────────┐                                                                                                                                                                                                                                                                                                                                                                                                                                                                                                                                                                                                                                                                                                                                                                                                                                                                                                                 ┌───┐     ┌──────────┐               ┌───┐   ┌────────────┐    ┌───┐         ┌───┐     ┌─────────────┐  ┌──────────┐     ┌────┐      ┌──────────┐      └─┬─┘     └──┬────┬──┘┌─────────┐    └─┬─┘    └───┬────┬───┘    └─┬─┘     ┌┴─────────┴─┐  ┌────────┐      ┌────┐       ┌────────┐                                   ┌───┐     ┌──────────┐               ┌───┐   ┌────────────┐    ┌───┐       ┌────────┐       ┌───┐                                                                                                                                                                                                                                                                                                                                                                                                                                                                                                                                                                                                                                                                                                                                                                                                                                                                                                                                                              \n",
       "q_1 -> 1 ┤ Rz(-3π/4) ├┤ √X ├─┤ Rz(-π) ├─────────────────────────────────────────────────────────────────────────────────────────────────────────────────────────────────────────────────────────────────────────────────────────────────────────────────────────────────────────────────────────────────────────────────────────────────────────────────────────────────────────────────────────────────────────────────────────────────────────────────────────────────────────────────────────────────────────────────────────────────────────────────────────────────────────────────────────────────────────────────────────────────────────────────────────────────────────────────────────────────────────────────────────────────────────────────────────────────────────────────────────────────────────────────────────────────────────────────────────────────────────────────────────────────────────────────────────────────────────────────┤ X ├─────┤ Rz(-π/2) ├───────────────┤ X ├───┤ Rz(1.5647) ├────┤ X ├─────────┤ X ├─────┤ Rz(-2.3531) ├──┤ Rz(3π/4) ├─────┤ √X ├──────┤ Rz(-π/2) ├────────■──────────┤ √X ├───┤ Rz(-2π) ├──────■──────────┤ √X ├──────────■───────┤ Rz(2.3593) ├──┤ Rz(-π) ├──────┤ √X ├───────┤ Rz(-π) ├───────────────────────────────────┤ X ├─────┤ Rz(-π/2) ├───────────────┤ X ├───┤ Rz(1.5647) ├────┤ X ├───────┤ Rz(-π) ├───────┤ X ├──────────────────────────────────────────────────────────────────────────────────────────────────────────────────────────────────────────────────────────────────────────────────────────────────────────────────────────────────────────────────────────────────────────────────────────────────────────────────────────────────────────────────────────────────────────────────────────────────────────────────────────────────────────────────────────────────────────────────────────────────────────────────────────────────────────────────────────────────────────────────────────────────────────────────────────────────────────────────────────────────────────────────────────────────────────────────────────────────────────────────────────────────────────────────────────────────────────────────────────────────────────────────────────────────────────────────────────────────────────────────────────────────────────────────────────────\n",
       "         └─┬────────┬┘├────┤ ├────────┤                                                                                                                                                                                                                                                                                                                                                                                                                                                                                                                                                                                                                                                                                                                                                             ┌───┐   ┌──────────┐               ┌───┐    ┌────────────┐    ┌───┐         ┌───┐    ┌─────────────┐  ┌──────────┐       ┌────┐     ┌─────────┐     └─┬─┘     └──┬────┬──┘┌─────────┐    └─┬─┘   └───┬────┬───┘    └─┬─┘         ├───┤     ├─────────────┤  └┬────────┬┘     ├────┤      └┬────────┬┘                   ├───┬┘   ├─────────┴┐                ├───┬┘    ┌────────────┐└───┬───┬────┘  └─┬───┬──┘ ┌────┴────┴───┐   ├────────┤        ┌────┐     ┌─────────┐     └─┬─┘     └──┬────┬──┘┌─────────┐    └─┬─┘   └───┬────┬───┘    └─┬─┘       └─┬───┬──┘  ┌────┴───┴────┐   ┌────────┐      ┌────┐       ┌────────┐                    ┌───┐   ┌──────────┐               ┌───┐    ┌────────────┐    ┌───┐       ┌────────┐      ┌───┐                                                                                                                                                                                                                                                                                                                                                                                                                                                                                                                                                                                                                                                                                                                                                                                            \n",
       "q_2 -> 2 ──┤ Rz(-π) ├─┤ √X ├─┤ Rz(-π) ├─────────────────────────────────────────────────────────────────────────────────────────────────────────────────────────────────────────────────────────────────────────────────────────────────────────────────────────────────────────────────────────────────────────────────────────────────────────────────────────────────────────────────────────────────────────────────────────────────────────────────────────────────────────────────────────────────────────────────────────────────────────────────────────────────────────────────────────────────────────────────────────────────────────────────────────────────────────────────────────────────────────────────────────────────────────────────────────────────────────────────────────────┤ X ├───┤ Rz(-π/2) ├───────────────┤ X ├────┤ Rz(1.5585) ├────┤ X ├─────────┤ X ├────┤ Rz(-3.1355) ├──┤ Rz(3π/4) ├───────┤ √X ├─────┤ Rz(π/2) ├───────■──────────┤ √X ├───┤ Rz(-2π) ├──────■─────────┤ √X ├──────────■───────────┤ X ├─────┤ Rz(-2.3501) ├───┤ Rz(-π) ├──────┤ √X ├───────┤ Rz(-π) ├────────────────────┤ X ├────┤ Rz(-π/2) ├────────────────┤ X ├─────┤ Rz(1.5585) ├────┤ X ├─────────┤ X ├────┤ Rz(-3.1355) ├───┤ Rz(-π) ├────────┤ √X ├─────┤ Rz(π/2) ├───────■──────────┤ √X ├───┤ Rz(-2π) ├──────■─────────┤ √X ├──────────■───────────┤ X ├─────┤ Rz(-1.5647) ├───┤ Rz(-π) ├──────┤ √X ├───────┤ Rz(-π) ├────────────────────┤ X ├───┤ Rz(-π/2) ├───────────────┤ X ├────┤ Rz(1.5585) ├────┤ X ├───────┤ Rz(-π) ├──────┤ X ├────────────────────────────────────────────────────────────────────────────────────────────────────────────────────────────────────────────────────────────────────────────────────────────────────────────────────────────────────────────────────────────────────────────────────────────────────────────────────────────────────────────────────────────────────────────────────────────────────────────────────────────────────────────────────────────────────────────────────────────────────────────────────────────────────────────────────────────────────────────────────────────────────────────────────────────────────────────────────────────────────────────────────────────────────────────────────────────────────────────────────────────────────────────────────────────\n",
       "           ├────────┤ ├────┤ ├────────┤                                                                                                                                                                                                                                                                                                                                                                                                                                                                                                                                                                                                           ┌───┐    ┌──────────┐              ┌───┐    ┌────────────┐    ┌───┐        ┌───┐    ┌─────────────┐  ┌────────┐       ┌────┐      ┌─────────┐     └─┬─┘   └──┬────┬──┘┌─────────┐    └─┬─┘    └───┬────┬───┘    └─┬─┘         ├───┤    ├─────────────┤  └┬────────┬┘       ├────┤     └┬────────┤                  ├───┬┘   ├─────────┴┐               ├───┬┘    ┌────────────┐    ├───┤     └────┬───┬────┘┌──┴────────┴─┐  ┌─┴────┴─┐     └─┬────┬─┘    ┌─────────┐     └─┬─┘    └──┬────┬──┘┌─────────┐     └─┬─┘     └───┬────┬───┘    └─┬─┘         ├───┤    ├─────────────┤   ├────────┤        ├────┤     └┬────────┤                  ├───┬┘   ├─────────┴┐               ├───┬┘    ┌────────────┐    ├───┤     └────┬───┬────┘┌──┴────────┴─┐  ┌─┴────┴─┐     └─┬────┬─┘    ┌─────────┐     └─┬─┘   └──┬────┬──┘┌─────────┐    └─┬─┘    └───┬────┬───┘    └─┬─┘       └─┬───┬──┘ ┌────┴───┴────┐   ┌────────┐        ┌────┐      ┌────────┐                  ┌───┐    ┌──────────┐              ┌───┐    ┌────────────┐    ┌───┐      ┌────────┐      ┌───┐                                                                                                                                                                                                                                                                                                                                                                                                                                                                                                                                                                                                                            \n",
       "q_3 -> 3 ──┤ Rz(-π) ├─┤ √X ├─┤ Rz(-π) ├───────────────────────────────────────────────────────────────────────────────────────────────────────────────────────────────────────────────────────────────────────────────────────────────────────────────────────────────────────────────────────────────────────────────────────────────────────────────────────────────────────────────────────────────────────────────────────────────────────────────────────────────────────────────────────────────────────────────────────────────────────────────────────────────────────────────────────────────────────────────────────────────────────────┤ X ├────┤ Rz(-π/2) ├──────────────┤ X ├────┤ Rz(1.5463) ├────┤ X ├────────┤ X ├────┤ Rz(-3.1293) ├──┤ Rz(-π) ├───────┤ √X ├──────┤ Rz(π/2) ├───────■────────┤ √X ├───┤ Rz(-2π) ├──────■──────────┤ √X ├──────────■───────────┤ X ├────┤ Rz(-1.5585) ├───┤ Rz(-π) ├────────┤ √X ├──────┤ Rz(-π) ├──────────────────┤ X ├────┤ Rz(-π/2) ├───────────────┤ X ├─────┤ Rz(1.5463) ├────┤ X ├──────────┤ X ├─────┤ Rz(-3.1293) ├──┤ Rz(-π) ├───────┤ √X ├──────┤ Rz(π/2) ├───────■─────────┤ √X ├───┤ Rz(-2π) ├───────■───────────┤ √X ├──────────■───────────┤ X ├────┤ Rz(-1.5585) ├───┤ Rz(-π) ├────────┤ √X ├──────┤ Rz(-π) ├──────────────────┤ X ├────┤ Rz(-π/2) ├───────────────┤ X ├─────┤ Rz(1.5463) ├────┤ X ├──────────┤ X ├─────┤ Rz(-3.1293) ├──┤ Rz(-π) ├───────┤ √X ├──────┤ Rz(π/2) ├───────■────────┤ √X ├───┤ Rz(-2π) ├──────■──────────┤ √X ├──────────■───────────┤ X ├────┤ Rz(-1.5585) ├───┤ Rz(-π) ├────────┤ √X ├──────┤ Rz(-π) ├──────────────────┤ X ├────┤ Rz(-π/2) ├──────────────┤ X ├────┤ Rz(1.5463) ├────┤ X ├──────┤ Rz(-π) ├──────┤ X ├────────────────────────────────────────────────────────────────────────────────────────────────────────────────────────────────────────────────────────────────────────────────────────────────────────────────────────────────────────────────────────────────────────────────────────────────────────────────────────────────────────────────────────────────────────────────────────────────────────────────────────────────────────────────────────────────────────────────────────────────────────────────────────────────────────────────────────────────────────────────────────────────────────────────────────────\n",
       "         ┌─┴────────┴┐├────┤ ├────────┤                                                                                                                                                                                                                                                                                                                                                                                                                                                                   ┌───┐   ┌──────────┐               ┌───┐   ┌────────────┐    ┌───┐    ┌───┐┌─────────────┐    ┌────────┐      ┌────┐    ┌─────────┐     └─┬─┘    └──┬────┬──┘┌─────────┐   └─┬─┘    └───┬────┬───┘    └─┬─┘        ├───┤    ├─────────────┤┌─┴────────┴┐      ├────┤      └┬────────┤                ├───┬┘   ├─────────┴┐                ├───┬┘    ┌────────────┐    ├───┤    └────┬───┬────┘┌──┴────────┴─┐    ┌─┴────┴─┐    └─┬────┬─┘  ┌─────────┐     └─┬─┘    └──┬────┬──┘┌─────────┐    └─┬─┘     └───┬────┬───┘    └─┬─┘          ├───┤     ├─────────────┤┌─┴────────┴┐      ├────┤      └┬────────┤                 ├───┬┘   ├─────────┴┐                  ├───┬┘    ┌────────────┐    ├───┤    └────┬───┬────┘┌──┴────────┴─┐    ┌─┴────┴─┐    └─┬────┬─┘  ┌─────────┐     └─┬─┘    └──┬────┬──┘┌─────────┐    └─┬─┘     └───┬────┬───┘    └─┬─┘          ├───┤     ├─────────────┤┌─┴────────┴┐      ├────┤      └┬────────┤                ├───┬┘   ├─────────┴┐                ├───┬┘    ┌────────────┐    ├───┤    └────┬───┬────┘┌──┴────────┴─┐    ┌─┴────┴─┐    └─┬────┬─┘  ┌─────────┐     └─┬─┘    └──┬────┬──┘┌─────────┐   └─┬─┘    └───┬────┬───┘    └─┬─┘      └─┬───┬──┘ ┌────┴───┴────┐    ┌────┐                                                 ┌───┐   ┌──────────┐               ┌───┐   ┌────────────┐    ┌───┐     ┌─────────┐                                                                                                                                                                                                                                                                                                                                                                                                                                                                          \n",
       "q_4 -> 4 ┤ Rz(-3π/4) ├┤ √X ├─┤ Rz(-π) ├───────────────────────────────────────────────────────────────────────────────────────────────────────────────────────────────────────────────────────────────────────────────────────────────────────────────────────────────────────────────────────────────────────────────────────────────────────────────────────────────────────────────────────────────────────────────────────────────────────────────────────────────────────────────────────────────────┤ X ├───┤ Rz(-π/2) ├───────────────┤ X ├───┤ Rz(1.5217) ├────┤ X ├────┤ X ├┤ Rz(-2.3317) ├────┤ Rz(-π) ├──────┤ √X ├────┤ Rz(π/2) ├───────■─────────┤ √X ├───┤ Rz(-2π) ├─────■──────────┤ √X ├──────────■──────────┤ X ├────┤ Rz(-1.5463) ├┤ Rz(-3π/4) ├──────┤ √X ├───────┤ Rz(-π) ├────────────────┤ X ├────┤ Rz(-π/2) ├────────────────┤ X ├─────┤ Rz(1.5217) ├────┤ X ├─────────┤ X ├─────┤ Rz(-2.3317) ├────┤ Rz(-π) ├──────┤ √X ├────┤ Rz(π/2) ├───────■─────────┤ √X ├───┤ Rz(-2π) ├──────■───────────┤ √X ├──────────■────────────┤ X ├─────┤ Rz(-1.5463) ├┤ Rz(-3π/4) ├──────┤ √X ├───────┤ Rz(-π) ├─────────────────┤ X ├────┤ Rz(-π/2) ├──────────────────┤ X ├─────┤ Rz(1.5217) ├────┤ X ├─────────┤ X ├─────┤ Rz(-2.3317) ├────┤ Rz(-π) ├──────┤ √X ├────┤ Rz(π/2) ├───────■─────────┤ √X ├───┤ Rz(-2π) ├──────■───────────┤ √X ├──────────■────────────┤ X ├─────┤ Rz(-1.5463) ├┤ Rz(-3π/4) ├──────┤ √X ├───────┤ Rz(-π) ├────────────────┤ X ├────┤ Rz(-π/2) ├────────────────┤ X ├─────┤ Rz(1.5217) ├────┤ X ├─────────┤ X ├─────┤ Rz(-2.3317) ├────┤ Rz(-π) ├──────┤ √X ├────┤ Rz(π/2) ├───────■─────────┤ √X ├───┤ Rz(-2π) ├─────■──────────┤ √X ├──────────■──────────┤ X ├────┤ Rz(-1.5463) ├────┤ √X ├─────────────────────────────────────────────────┤ X ├───┤ Rz(-π/2) ├───────────────┤ X ├───┤ Rz(1.5217) ├────┤ X ├─────┤ Rz(π/2) ├──────────────────────────────────────────────────────────────────────────────────────────────────────────────────────────────────────────────────────────────────────────────────────────────────────────────────────────────────────────────────────────────────────────────────────────────────────────────────────────────────────────────────────────────────────────────────────────────────────────────────────────────────────────────────────────────────────────\n",
       "         └┬──────────┤├────┤ └────────┘                                                                                                                                                                                                                                                                                                                                ┌───┐   ┌─────────┐               ┌───┐   ┌────────────┐   ┌───┐    ┌───┐┌────────────┐  ┌──────────┐      ┌────┐    ┌─────────┐   └─┬─┘   └──┬────┬──┘┌─────────┐    └─┬─┘   └───┬────┬───┘    └─┬─┘    ├───┤├─────────────┤   ┌┴────────┴┐     ├────┤    └─────────┘                 ├───┬┘   ├─────────┤                ├───┬┘    ┌────────────┐   ├───┤    └────┬───┬────┘├───────────┴┐  ┌──┴────┴──┐    └─┬────┬─┘  ┌─────────┐   └─┬─┘    └──┬────┬──┘┌─────────┐     └─┬─┘     └───┬────┬───┘    └─┬─┘         ├───┤     ├─────────────┤   ┌┴────────┴┐     ├────┤    └─────────┘                 ├───┬┘   ├─────────┤                  ├───┬┘    ┌────────────┐     ├───┤     └────┬───┬────┘├───────────┴┐  ┌──┴────┴──┐    └─┬────┬─┘  ┌─────────┐    └─┬─┘    └──┬────┬──┘ ┌─────────┐      └─┬─┘     └───┬────┬───┘    └─┬─┘         ├───┤     ├─────────────┤   ┌┴────────┴┐     ├────┤    └─────────┘                 ├───┬┘   ├─────────┤                  ├───┬┘    ┌────────────┐     ├───┤     └────┬───┬────┘├───────────┴┐  ┌──┴────┴──┐    └─┬────┬─┘  ┌─────────┐   └─┬─┘    └──┬────┬──┘┌─────────┐     └─┬─┘     └───┬────┬───┘    └─┬─┘         ├───┤     ├─────────────┤   ┌┴────────┴┐     ├────┤    └─────────┘                 ├───┬┘   ├─────────┤                ├───┬┘    ┌────────────┐   ├───┤    └────┬───┬────┘┌───┴────┴───┐  ┌─────────┐       ┌────┐    ┌──────────┐   └─┬─┘   └──┬────┬──┘┌─────────┐    └─┬─┘   └───┬────┬───┘    └─┬─┘    ┌┴─────────┴─┐   ┌────────┐        ┌────┐     ┌────────┐                            ┌───┐   ┌──────────┐               ┌───┐   ┌────────────┐   ┌───┐    ┌────────┐     ┌───┐                                                                                                                                                                                                                                                                                                         \n",
       "q_5 -> 5 ─┤ Rz(-π/4) ├┤ √X ├───────────────────────────────────────────────────────────────────────────────────────────────────────────────────────────────────────────────────────────────────────────────────────────────────────────────────────────────────────────────────────────────────────────────────────────────────────────────────────────────────────────┤ X ├───┤ Rz(π/2) ├───────────────┤ X ├───┤ Rz(1.4726) ├───┤ X ├────┤ X ├┤ Rz(2.4053) ├──┤ Rz(3π/4) ├──────┤ √X ├────┤ Rz(π/2) ├─────■────────┤ √X ├───┤ Rz(-2π) ├──────■─────────┤ √X ├──────────■──────┤ X ├┤ Rz(-2.3071) ├───┤ Rz(-π/4) ├─────┤ √X ├────────────────────────────────┤ X ├────┤ Rz(π/2) ├────────────────┤ X ├─────┤ Rz(1.4726) ├───┤ X ├─────────┤ X ├─────┤ Rz(2.4053) ├──┤ Rz(3π/4) ├──────┤ √X ├────┤ Rz(π/2) ├─────■─────────┤ √X ├───┤ Rz(-2π) ├───────■───────────┤ √X ├──────────■───────────┤ X ├─────┤ Rz(-2.3071) ├───┤ Rz(-π/4) ├─────┤ √X ├────────────────────────────────┤ X ├────┤ Rz(π/2) ├──────────────────┤ X ├─────┤ Rz(1.4726) ├─────┤ X ├──────────┤ X ├─────┤ Rz(2.4053) ├──┤ Rz(3π/4) ├──────┤ √X ├────┤ Rz(π/2) ├──────■─────────┤ √X ├────┤ Rz(-2π) ├────────■───────────┤ √X ├──────────■───────────┤ X ├─────┤ Rz(-2.3071) ├───┤ Rz(-π/4) ├─────┤ √X ├────────────────────────────────┤ X ├────┤ Rz(π/2) ├──────────────────┤ X ├─────┤ Rz(1.4726) ├─────┤ X ├──────────┤ X ├─────┤ Rz(2.4053) ├──┤ Rz(3π/4) ├──────┤ √X ├────┤ Rz(π/2) ├─────■─────────┤ √X ├───┤ Rz(-2π) ├───────■───────────┤ √X ├──────────■───────────┤ X ├─────┤ Rz(-2.3071) ├───┤ Rz(-π/4) ├─────┤ √X ├────────────────────────────────┤ X ├────┤ Rz(π/2) ├────────────────┤ X ├─────┤ Rz(1.4726) ├───┤ X ├─────────┤ X ├─────┤ Rz(2.4053) ├──┤ Rz(π/2) ├───────┤ √X ├────┤ Rz(-π/2) ├─────■────────┤ √X ├───┤ Rz(-2π) ├──────■─────────┤ √X ├──────────■──────┤ Rz(1.6199) ├───┤ Rz(-π) ├────────┤ √X ├─────┤ Rz(-π) ├────────────────────────────┤ X ├───┤ Rz(-π/2) ├───────────────┤ X ├───┤ Rz(1.4726) ├───┤ X ├────┤ Rz(-π) ├─────┤ X ├─────────────────────────────────────────────────────────────────────────────────────────────────────────────────────────────────────────────────────────────────────────────────────────────────────────────────────────────────────────────────────────────────────────────────────────────────────────\n",
       "         ┌┴──────────┤├────┤ ┌────────┐                                                                                                                                                                                                     ┌───┐┌──────────┐           ┌───┐┌───────────┐┌───┐     ┌───┐       ┌────────────┐┌───────────┐    ┌────┐    ┌──────────┐  └─┬─┘   └──┬────┬─┘┌─────────┐    └─┬─┘   └───┬────┬───┘   └─┬─┘    ├───┤├────────────┤ ┌┴──────────┤      ├────┤    └┬────────┤              ├───┬┘   ├─────────┴┐               ├───┬┘    ┌───────────┐├───┤└────┬───┬────┘  ┌┴──────────┴┐┌───┴────┴──┐    ┌────┐    ┌──────────┐   └─┬─┘    └──┬────┬─┘┌─────────┐     └─┬─┘     └───┬────┬───┘   └─┬─┘         ├───┤     ├────────────┤ ┌┴──────────┤      ├────┤    └┬────────┤               ├───┬┘   ├─────────┴┐                  ├───┬┘    ┌───────────┐     ├───┤     └────┬───┬────┘  ┌┴──────────┴┐┌───┴────┴──┐    ┌────┐    ┌──────────┐   └─┬─┘    └──┬────┬─┘ ┌─────────┐      └─┬─┘     └───┬────┬───┘     └─┬─┘          ├───┤     ├────────────┤ ┌┴──────────┤      ├────┤    └┬────────┤                ├───┬┘    ├─────────┴┐                   ├───┬┘    ┌───────────┐     ├───┤     └────┬───┬────┘  ┌┴──────────┴┐┌───┴────┴──┐    ┌────┐    ┌──────────┐   └─┬─┘    └──┬────┬─┘ ┌─────────┐      └─┬─┘     └───┬────┬───┘     └─┬─┘          ├───┤     ├────────────┤ ┌┴──────────┤      ├────┤    └┬────────┤               ├───┬┘   ├─────────┴┐                  ├───┬┘    ┌───────────┐     ├───┤     └────┬───┬────┘  ┌┴──────────┴┐┌───┴────┴──┐    ┌────┐    ┌──────────┐   └─┬─┘    └──┬────┬─┘┌─────────┐     └─┬─┘     └───┬────┬───┘   └─┬─┘         ├───┤     ├────────────┤ ┌┴─────────┴┐      ├────┤    └┬────────┬┘              ├───┬┘   ├─────────┴┐               ├───┬┘    ┌───────────┐└───┬───┬────┘   └─┬───┬──┘    ┌───┴────┴───┐ ├────────┤     ┌────┐    ┌─────────┐  └─┬─┘   └──┬────┬──┘┌─────────┐    └─┬─┘   └───┬────┬───┘   └─┬─┘    └─┬───┬──┘┌────┴───┴────┐   ┌────────┐       ┌────┐    ┌────────┐           ┌───┐┌──────────┐           ┌───┐┌───────────┐┌───┐   ┌────────┐        ┌───┐                                                                                                                                                                    \n",
       "q_6 -> 6 ┤ Rz(-3π/4) ├┤ √X ├─┤ Rz(-π) ├─────────────────────────────────────────────────────────────────────────────────────────────────────────────────────────────────────────────────────────────────────────────────────────────────────┤ X ├┤ Rz(-π/2) ├───────────┤ X ├┤ Rz(7π/16) ├┤ X ├─────┤ X ├───────┤ Rz(-2.258) ├┤ Rz(-3π/4) ├────┤ √X ├────┤ Rz(-π/2) ├────■────────┤ √X ├──┤ Rz(-2π) ├──────■─────────┤ √X ├─────────■──────┤ X ├┤ Rz(2.4544) ├─┤ Rz(-3π/4) ├──────┤ √X ├─────┤ Rz(-π) ├──────────────┤ X ├────┤ Rz(-π/2) ├───────────────┤ X ├─────┤ Rz(7π/16) ├┤ X ├─────┤ X ├───────┤ Rz(-2.258) ├┤ Rz(-3π/4) ├────┤ √X ├────┤ Rz(-π/2) ├─────■─────────┤ √X ├──┤ Rz(-2π) ├───────■───────────┤ √X ├─────────■───────────┤ X ├─────┤ Rz(2.4544) ├─┤ Rz(-3π/4) ├──────┤ √X ├─────┤ Rz(-π) ├───────────────┤ X ├────┤ Rz(-π/2) ├──────────────────┤ X ├─────┤ Rz(7π/16) ├─────┤ X ├──────────┤ X ├───────┤ Rz(-2.258) ├┤ Rz(-3π/4) ├────┤ √X ├────┤ Rz(-π/2) ├─────■─────────┤ √X ├───┤ Rz(-2π) ├────────■───────────┤ √X ├───────────■────────────┤ X ├─────┤ Rz(2.4544) ├─┤ Rz(-3π/4) ├──────┤ √X ├─────┤ Rz(-π) ├────────────────┤ X ├─────┤ Rz(-π/2) ├───────────────────┤ X ├─────┤ Rz(7π/16) ├─────┤ X ├──────────┤ X ├───────┤ Rz(-2.258) ├┤ Rz(-3π/4) ├────┤ √X ├────┤ Rz(-π/2) ├─────■─────────┤ √X ├───┤ Rz(-2π) ├────────■───────────┤ √X ├───────────■────────────┤ X ├─────┤ Rz(2.4544) ├─┤ Rz(-3π/4) ├──────┤ √X ├─────┤ Rz(-π) ├───────────────┤ X ├────┤ Rz(-π/2) ├──────────────────┤ X ├─────┤ Rz(7π/16) ├─────┤ X ├──────────┤ X ├───────┤ Rz(-2.258) ├┤ Rz(-3π/4) ├────┤ √X ├────┤ Rz(-π/2) ├─────■─────────┤ √X ├──┤ Rz(-2π) ├───────■───────────┤ √X ├─────────■───────────┤ X ├─────┤ Rz(2.4544) ├─┤ Rz(-3π/4) ├──────┤ √X ├─────┤ Rz(-π) ├───────────────┤ X ├────┤ Rz(-π/2) ├───────────────┤ X ├─────┤ Rz(7π/16) ├────┤ X ├──────────┤ X ├───────┤ Rz(-2.258) ├─┤ Rz(-π) ├─────┤ √X ├────┤ Rz(π/2) ├────■────────┤ √X ├───┤ Rz(-2π) ├──────■─────────┤ √X ├─────────■────────┤ X ├───┤ Rz(-1.4726) ├───┤ Rz(-π) ├───────┤ √X ├────┤ Rz(-π) ├───────────┤ X ├┤ Rz(-π/2) ├───────────┤ X ├┤ Rz(7π/16) ├┤ X ├───┤ Rz(-π) ├────────┤ X ├────────────────────────────────────────────────────────────────────────────────────────────────────────────────────────────────────────────────────────────────────\n",
       "         └┬──────────┤├────┤ ├────────┤                                                                                   ┌───┐ ┌──────────┐                      ┌───┐┌──────────┐┌───┐┌───┐┌─────────────┐  ┌──────────┐ ┌────┐┌─────────┐└─┬─┘└──┬────┬──┘┌─────────┐└─┬─┘└───┬────┬──┘└─┬─┘     ├───┤      ┌┴────────────┤└┬──────────┤    ├────┤    └┬────────┬┘             ├───┬┘  ├─────────┴┐               ├───┬┘    ┌──────────┐├───┤└───┬───┬────┘┌┴───────────┴┐  ┌──┴────┴──┐  └─┬────┬─┘┌─────────┐   └─┬─┘    └──┬────┬──┘┌─────────┐    └─┬─┘     └───┬────┬──┘└─┬─┘     ├───┤      ┌┴────────────┤└┬──────────┤    ├────┤    └┬────────┬┘               ├───┬┘  ├─────────┴┐                  ├───┬┘    ┌──────────┐     ├───┤     └───┬───┬────┘┌┴───────────┴┐  ┌──┴────┴──┐  └─┬────┬─┘┌─────────┐    └─┬─┘    └──┬────┬──┘ ┌─────────┐      └─┬─┘     └───┬────┬──┘     └─┬─┘          ├───┤      ┌┴────────────┤└┬──────────┤    ├────┤    └┬────────┬┘               ├───┬┘   ├─────────┴┐                   ├───┬┘      ┌──────────┐      ├───┤     └───┬───┬────┘┌┴───────────┴┐  ┌──┴────┴──┐  └─┬────┬─┘ ┌─────────┐    └─┬─┘     └──┬────┬──┘  ┌─────────┐      └─┬─┘     └───┬────┬──┘     └─┬─┘          ├───┤      ┌┴────────────┤└┬──────────┤    ├────┤    └┬────────┬┘               ├───┬┘   ├─────────┴┐                   ├───┬┘      ┌──────────┐      ├───┤     └───┬───┬────┘┌┴───────────┴┐  ┌──┴────┴──┐  └─┬────┬─┘┌─────────┐    └─┬─┘    └──┬────┬──┘ ┌─────────┐      └─┬─┘     └───┬────┬──┘     └─┬─┘          ├───┤      ┌┴────────────┤└┬──────────┤    ├────┤    └┬────────┬┘               ├───┬┘  ├─────────┴┐                  ├───┬┘    ┌──────────┐     ├───┤     └───┬───┬────┘┌┴───────────┴┐  ┌──┴────┴──┐  └─┬────┬─┘ ┌─────────┐   └─┬─┘    └──┬────┬──┘┌─────────┐    └─┬─┘     └───┬────┬──┘    └─┬─┘          ├───┤      ┌┴────────────┤┌┴────────┴┐    ├────┤    └┬────────┤             ├───┬┘   ├─────────┴┐               ├───┬┘    ┌──────────┐  ├───┤   └────┬───┬────┘┌──┴────────┴─┐   ┌─┴────┴─┐  └─┬────┬─┘┌─────────┐└─┬─┘└──┬────┬──┘┌─────────┐└─┬─┘└───┬────┬──┘└─┬─┘   └─┬───┬──┘    ┌───┴───┴────┐┌───────────┐┌────┐ ┌────────┐┌───┐┌──────────┐           ┌───┐┌──────────┐┌───┐┌───┐┌───────────┐                                                             \n",
       "q_7 -> 7 ─┤ Rz(-π/2) ├┤ √X ├─┤ Rz(-π) ├───────────────────────────────────────────────────────────────────────────────────┤ X ├─┤ Rz(-π/2) ├──────────────────────┤ X ├┤ Rz(3π/8) ├┤ X ├┤ X ├┤ Rz(-15π/16) ├──┤ Rz(3π/4) ├─┤ √X ├┤ Rz(π/2) ├──■─────┤ √X ├───┤ Rz(-2π) ├──■──────┤ √X ├─────■───────┤ X ├──────┤ Rz(-11π/16) ├─┤ Rz(-π/2) ├────┤ √X ├─────┤ Rz(-π) ├──────────────┤ X ├───┤ Rz(-π/2) ├───────────────┤ X ├─────┤ Rz(3π/8) ├┤ X ├────┤ X ├─────┤ Rz(-15π/16) ├──┤ Rz(3π/4) ├────┤ √X ├──┤ Rz(π/2) ├─────■─────────┤ √X ├───┤ Rz(-2π) ├──────■───────────┤ √X ├─────■───────┤ X ├──────┤ Rz(-11π/16) ├─┤ Rz(-π/2) ├────┤ √X ├─────┤ Rz(-π) ├────────────────┤ X ├───┤ Rz(-π/2) ├──────────────────┤ X ├─────┤ Rz(3π/8) ├─────┤ X ├─────────┤ X ├─────┤ Rz(-15π/16) ├──┤ Rz(3π/4) ├────┤ √X ├──┤ Rz(π/2) ├──────■─────────┤ √X ├────┤ Rz(-2π) ├────────■───────────┤ √X ├──────────■────────────┤ X ├──────┤ Rz(-11π/16) ├─┤ Rz(-π/2) ├────┤ √X ├─────┤ Rz(-π) ├────────────────┤ X ├────┤ Rz(-π/2) ├───────────────────┤ X ├───────┤ Rz(3π/8) ├──────┤ X ├─────────┤ X ├─────┤ Rz(-15π/16) ├──┤ Rz(3π/4) ├────┤ √X ├───┤ Rz(π/2) ├──────■──────────┤ √X ├─────┤ Rz(-2π) ├────────■───────────┤ √X ├──────────■────────────┤ X ├──────┤ Rz(-11π/16) ├─┤ Rz(-π/2) ├────┤ √X ├─────┤ Rz(-π) ├────────────────┤ X ├────┤ Rz(-π/2) ├───────────────────┤ X ├───────┤ Rz(3π/8) ├──────┤ X ├─────────┤ X ├─────┤ Rz(-15π/16) ├──┤ Rz(3π/4) ├────┤ √X ├──┤ Rz(π/2) ├──────■─────────┤ √X ├────┤ Rz(-2π) ├────────■───────────┤ √X ├──────────■────────────┤ X ├──────┤ Rz(-11π/16) ├─┤ Rz(-π/2) ├────┤ √X ├─────┤ Rz(-π) ├────────────────┤ X ├───┤ Rz(-π/2) ├──────────────────┤ X ├─────┤ Rz(3π/8) ├─────┤ X ├─────────┤ X ├─────┤ Rz(-15π/16) ├──┤ Rz(3π/4) ├────┤ √X ├───┤ Rz(π/2) ├─────■─────────┤ √X ├───┤ Rz(-2π) ├──────■───────────┤ √X ├─────────■────────────┤ X ├──────┤ Rz(-11π/16) ├┤ Rz(-π/2) ├────┤ √X ├─────┤ Rz(-π) ├─────────────┤ X ├────┤ Rz(-π/2) ├───────────────┤ X ├─────┤ Rz(3π/8) ├──┤ X ├────────┤ X ├─────┤ Rz(-15π/16) ├───┤ Rz(-π) ├────┤ √X ├──┤ Rz(π/2) ├──■─────┤ √X ├───┤ Rz(-2π) ├──■──────┤ √X ├─────■───────┤ X ├───────┤ Rz(-7π/16) ├┤ Rz(-3π/4) ├┤ √X ├─┤ Rz(-π) ├┤ X ├┤ Rz(-π/2) ├───────────┤ X ├┤ Rz(3π/8) ├┤ X ├┤ X ├┤ Rz(-3π/4) ├─────────────────────────────────────────────────────────────\n",
       "          └──────────┘└────┘ └────────┘           ┌───┐┌──────────┐┌───┐┌─────────┐┌─────────┐┌────┐┌─────────┐┌─────────┐└─┬─┘┌┴──────────┴┐   ┌────┐  ┌────────┐└─┬─┘└──────────┘└─┬─┘└───┘└─────────────┘  └──────────┘ └────┘└─────────┘┌───┐┌──┴────┴──┐└─────────┘┌───┐ ┌──┴────┴─┐ ┌───┐┌────┴───┴─────┐└────┬────┬───┘ ├──────────┤┌───┴────┴───┐ └─┬────┬─┘ ┌────────┐   └─┬─┘   └──────────┘               └─┬─┘     └──────────┘└─┬─┘    └───┘     └─────────────┘  └──────────┘    └────┘  └─────────┘   ┌───┐    ┌──┴────┴──┐└─────────┘    ┌───┐      ┌──┴────┴─┐ ┌───┐┌────┴───┴─────┐└────┬────┬───┘ ├──────────┤┌───┴────┴───┐ └─┬────┬─┘  ┌────────┐    └─┬─┘   └──────────┘                  └─┬─┘     └──────────┘     └─┬─┘         └───┘     └─────────────┘  └──────────┘    └────┘  └─────────┘    ┌───┐    ┌──┴────┴──┐ └─────────┘      ┌───┐      ┌──┴────┴─┐      ┌───┐     ┌────┴───┴─────┐└────┬────┬───┘ ├──────────┤┌───┴────┴───┐ └─┬────┬─┘  ┌────────┐    └─┬─┘    └──────────┘                   └─┬─┘       └──────────┘      └─┬─┘         └───┘     └─────────────┘  └──────────┘    └────┘   └─────────┘    ┌───┐     ┌──┴────┴──┐  └─────────┘      ┌───┐      ┌──┴────┴─┐      ┌───┐     ┌────┴───┴─────┐└────┬────┬───┘ ├──────────┤┌───┴────┴───┐ └─┬────┬─┘  ┌────────┐    └─┬─┘    └──────────┘                   └─┬─┘       └──────────┘      └─┬─┘         └───┘     └─────────────┘  └──────────┘    └────┘  └─────────┘    ┌───┐    ┌──┴────┴──┐ └─────────┘      ┌───┐      ┌──┴────┴─┐      ┌───┐     ┌────┴───┴─────┐└────┬────┬───┘ ├──────────┤┌───┴────┴───┐ └─┬────┬─┘  ┌────────┐    └─┬─┘   └──────────┘                  └─┬─┘     └──────────┘     └─┬─┘         └───┘     └─────────────┘  └──────────┘    └────┘   └─────────┘   ┌───┐    ┌──┴────┴──┐└─────────┘    ┌───┐      ┌──┴────┴─┐     ┌───┐     ┌────┴───┴─────┐└────┬────┬───┘├──────────┤┌───┴────┴───┐ └─┬────┬─┘┌────────┐   └─┬─┘    └──────────┘               └─┬─┘     └──────────┘  └─┬─┘        └───┘     └─────────────┘   └────────┘    └────┘  └─────────┘┌───┐┌──┴────┴──┐└─────────┘┌───┐ ┌──┴────┴─┐ ┌───┐┌────┴───┴─────┐ └───┬────┬───┘└┬──────────┤└────┘ └────────┘└─┬─┘└──────────┘           └─┬─┘└──────────┘└─┬─┘└───┘└───────────┘                                                             \n",
       "q_8 -> 8 ─────────────────────────────────────────┤ X ├┤ Rz(-π/4) ├┤ X ├┤ Rz(π/4) ├┤ Rz(π/2) ├┤ √X ├┤ Rz(π/2) ├┤ Rz(π/4) ├──┼──┤ Rz(1.1595) ├───┤ √X ├──┤ Rz(-π) ├──┼────────────────┼──────────────────────────────────────────────────────┤ X ├┤ Rz(-π/2) ├───────────┤ X ├─┤ Rz(π/4) ├─┤ X ├┤ Rz(-0.37411) ├─────┤ √X ├─────┤ Rz(-π/4) ├┤ Rz(1.1595) ├───┤ √X ├───┤ Rz(-π) ├─────┼──────────────────────────────────┼─────────────────────┼───────────────────────────────────────────────────────────────────────┤ X ├────┤ Rz(-π/2) ├───────────────┤ X ├──────┤ Rz(π/4) ├─┤ X ├┤ Rz(-0.37411) ├─────┤ √X ├─────┤ Rz(-π/4) ├┤ Rz(1.1595) ├───┤ √X ├────┤ Rz(-π) ├──────┼─────────────────────────────────────┼──────────────────────────┼─────────────────────────────────────────────────────────────────────────────┤ X ├────┤ Rz(-π/2) ├──────────────────┤ X ├──────┤ Rz(π/4) ├──────┤ X ├─────┤ Rz(-0.37411) ├─────┤ √X ├─────┤ Rz(-π/4) ├┤ Rz(1.1595) ├───┤ √X ├────┤ Rz(-π) ├──────┼───────────────────────────────────────┼─────────────────────────────┼──────────────────────────────────────────────────────────────────────────────┤ X ├─────┤ Rz(-π/2) ├───────────────────┤ X ├──────┤ Rz(π/4) ├──────┤ X ├─────┤ Rz(-0.37411) ├─────┤ √X ├─────┤ Rz(-π/4) ├┤ Rz(1.1595) ├───┤ √X ├────┤ Rz(-π) ├──────┼───────────────────────────────────────┼─────────────────────────────┼─────────────────────────────────────────────────────────────────────────────┤ X ├────┤ Rz(-π/2) ├──────────────────┤ X ├──────┤ Rz(π/4) ├──────┤ X ├─────┤ Rz(-0.37411) ├─────┤ √X ├─────┤ Rz(-π/4) ├┤ Rz(1.1595) ├───┤ √X ├────┤ Rz(-π) ├──────┼─────────────────────────────────────┼──────────────────────────┼─────────────────────────────────────────────────────────────────────────────┤ X ├────┤ Rz(-π/2) ├───────────────┤ X ├──────┤ Rz(π/4) ├─────┤ X ├─────┤ Rz(-0.37411) ├─────┤ √X ├────┤ Rz(-π/4) ├┤ Rz(1.1595) ├───┤ √X ├──┤ Rz(-π) ├─────┼───────────────────────────────────┼───────────────────────┼───────────────────────────────────────────────────────────────────────┤ X ├┤ Rz(-π/2) ├───────────┤ X ├─┤ Rz(π/4) ├─┤ X ├┤ Rz(-0.37411) ├─────┤ √X ├─────┤ Rz(-π/4) ├───────────────────┼───────────────────────────┼────────────────┼──────────────────────■────────────────■─────────────────────────────────────────\n",
       "          ┌─────────┐ ┌────┐┌─────────┐┌─────────┐└─┬─┘└──────────┘└─┬─┘├─────────┤└┬────────┤├────┤├─────────┤└─────────┘  │  └───┬────┬───┘┌──┴────┴─┐└────────┘  │     ┌────┐     │  ┌───┐ ┌───────────┐ ┌─────────────┐┌────┐┌─────────┐└─┬─┘└──┬────┬──┘┌─────────┐└─┬─┘ └──┬────┬─┘ └─┬─┘└────┬───┬─────┘┌────┴────┴───┐ └┬────────┬┘└───┬────┬───┘┌──┴────┴─┐ └────────┘     │        ┌────┐   ┌─────────┐      │          ┌────┐     │      ┌───┐      ┌───────────┐ ┌─────────────┐   ┌────┐  ┌─────────┐   └─┬─┘    └──┬────┬──┘┌─────────┐    └─┬─┘      └──┬────┬─┘ └─┬─┘└────┬───┬─────┘┌────┴────┴───┐ └┬────────┬┘└───┬────┬───┘┌──┴────┴─┐  └────────┘      │        ┌────┐    ┌─────────┐        │          ┌────┐          │           ┌───┐      ┌───────────┐ ┌─────────────┐   ┌────┐  ┌─────────┐    └─┬─┘    └──┬────┬──┘ ┌─────────┐      └─┬─┘      └──┬────┬─┘      └─┬─┘     └────┬───┬─────┘┌────┴────┴───┐ └┬────────┬┘└───┬────┬───┘┌──┴────┴─┐  └────────┘      │         ┌────┐     ┌─────────┐        │            ┌────┐           │           ┌───┐      ┌───────────┐ ┌─────────────┐   ┌────┐   ┌─────────┐    └─┬─┘     └──┬────┬──┘  ┌─────────┐      └─┬─┘      └──┬────┬─┘      └─┬─┘     └────┬───┬─────┘┌────┴────┴───┐ └┬────────┬┘└───┬────┬───┘┌──┴────┴─┐  └────────┘      │         ┌────┐     ┌─────────┐        │            ┌────┐           │           ┌───┐      ┌───────────┐ ┌─────────────┐   ┌────┐  ┌─────────┐    └─┬─┘    └──┬────┬──┘ ┌─────────┐      └─┬─┘      └──┬────┬─┘      └─┬─┘     └────┬───┬─────┘┌────┴────┴───┐ └┬────────┬┘└───┬────┬───┘┌──┴────┴─┐  └────────┘      │        ┌────┐    ┌─────────┐        │          ┌────┐          │           ┌───┐      ┌───────────┐ ┌─────────────┐   ┌────┐   ┌─────────┐   └─┬─┘    └──┬────┬──┘┌─────────┐    └─┬─┘      └──┬────┬─┘     └─┬─┘     └────┬───┬─────┘┌────┴────┴───┐└┬────────┬┘└───┬────┬───┘┌──┴────┴─┐└────────┘     │         ┌────┐   ┌─────────┐      │          ┌────┐       │          ┌───┐      ┌───────────┐ ┌─────────────┐  ┌────┐  ┌─────────┐└─┬─┘└──┬────┬──┘┌─────────┐└─┬─┘ └──┬────┬─┘ └─┬─┘└────┬───┬─────┘┌────┴────┴───┐ ├──────────┤┌────┐┌─────────┐  │     ┌────┐   ┌─────────┐  │     ┌────┐     │  ┌───┐┌───────────┐┌─┴─┐┌──────────┐┌─┴─┐┌─────────┐┌─────────┐┌────┐┌─────────┐\n",
       "q_9 -> 9 ─┤ Rz(π/2) ├─┤ √X ├┤ Rz(π/2) ├┤ Rz(π/4) ├──■────────────────■──┤ Rz(π/8) ├─┤ Rz(-π) ├┤ √X ├┤ Rz(π/2) ├─────────────■──────┤ √X ├────┤ Rz(-2π) ├────────────■─────┤ √X ├─────■──┤ X ├─┤ Rz(-7π/8) ├─┤ Rz(-1.1595) ├┤ √X ├┤ Rz(π/2) ├──■─────┤ √X ├───┤ Rz(-2π) ├──■──────┤ √X ├─────■───────┤ X ├──────┤ Rz(0.80399) ├──┤ Rz(-π) ├─────┤ √X ├────┤ Rz(π/2) ├────────────────■────────┤ √X ├───┤ Rz(-2π) ├──────■──────────┤ √X ├─────■──────┤ X ├──────┤ Rz(-7π/8) ├─┤ Rz(-1.1595) ├───┤ √X ├──┤ Rz(π/2) ├─────■─────────┤ √X ├───┤ Rz(-2π) ├──────■───────────┤ √X ├─────■───────┤ X ├──────┤ Rz(0.80399) ├──┤ Rz(-π) ├─────┤ √X ├────┤ Rz(π/2) ├──────────────────■────────┤ √X ├────┤ Rz(-2π) ├────────■──────────┤ √X ├──────────■───────────┤ X ├──────┤ Rz(-7π/8) ├─┤ Rz(-1.1595) ├───┤ √X ├──┤ Rz(π/2) ├──────■─────────┤ √X ├────┤ Rz(-2π) ├────────■───────────┤ √X ├──────────■────────────┤ X ├──────┤ Rz(0.80399) ├──┤ Rz(-π) ├─────┤ √X ├────┤ Rz(π/2) ├──────────────────■─────────┤ √X ├─────┤ Rz(-2π) ├────────■────────────┤ √X ├───────────■───────────┤ X ├──────┤ Rz(-7π/8) ├─┤ Rz(-1.1595) ├───┤ √X ├───┤ Rz(π/2) ├──────■──────────┤ √X ├─────┤ Rz(-2π) ├────────■───────────┤ √X ├──────────■────────────┤ X ├──────┤ Rz(0.80399) ├──┤ Rz(-π) ├─────┤ √X ├────┤ Rz(π/2) ├──────────────────■─────────┤ √X ├─────┤ Rz(-2π) ├────────■────────────┤ √X ├───────────■───────────┤ X ├──────┤ Rz(-7π/8) ├─┤ Rz(-1.1595) ├───┤ √X ├──┤ Rz(π/2) ├──────■─────────┤ √X ├────┤ Rz(-2π) ├────────■───────────┤ √X ├──────────■────────────┤ X ├──────┤ Rz(0.80399) ├──┤ Rz(-π) ├─────┤ √X ├────┤ Rz(π/2) ├──────────────────■────────┤ √X ├────┤ Rz(-2π) ├────────■──────────┤ √X ├──────────■───────────┤ X ├──────┤ Rz(-7π/8) ├─┤ Rz(-1.1595) ├───┤ √X ├───┤ Rz(π/2) ├─────■─────────┤ √X ├───┤ Rz(-2π) ├──────■───────────┤ √X ├─────────■────────────┤ X ├──────┤ Rz(0.80399) ├─┤ Rz(-π) ├─────┤ √X ├────┤ Rz(π/2) ├───────────────■─────────┤ √X ├───┤ Rz(-2π) ├──────■──────────┤ √X ├───────■──────────┤ X ├──────┤ Rz(-7π/8) ├─┤ Rz(-1.1595) ├──┤ √X ├──┤ Rz(π/2) ├──■─────┤ √X ├───┤ Rz(-2π) ├──■──────┤ √X ├─────■───────┤ X ├──────┤ Rz(0.80399) ├─┤ Rz(3π/4) ├┤ √X ├┤ Rz(π/2) ├──■─────┤ √X ├───┤ Rz(-2π) ├──■─────┤ √X ├─────■──┤ X ├┤ Rz(-5π/8) ├┤ X ├┤ Rz(-π/4) ├┤ X ├┤ Rz(π/4) ├┤ Rz(π/2) ├┤ √X ├┤ Rz(π/2) ├\n",
       "          └─────────┘ └────┘└─────────┘└─────────┘                      └─────────┘ └────────┘└────┘└─────────┘                    └────┘    └─────────┘                  └────┘        └───┘ └───────────┘ └─────────────┘└────┘└─────────┘        └────┘   └─────────┘         └────┘             └───┘      └─────────────┘  └────────┘     └────┘    └─────────┘                         └────┘   └─────────┘                 └────┘            └───┘      └───────────┘ └─────────────┘   └────┘  └─────────┘               └────┘   └─────────┘                  └────┘             └───┘      └─────────────┘  └────────┘     └────┘    └─────────┘                           └────┘    └─────────┘                   └────┘                      └───┘      └───────────┘ └─────────────┘   └────┘  └─────────┘                └────┘    └─────────┘                    └────┘                       └───┘      └─────────────┘  └────────┘     └────┘    └─────────┘                            └────┘     └─────────┘                     └────┘                       └───┘      └───────────┘ └─────────────┘   └────┘   └─────────┘                 └────┘     └─────────┘                    └────┘                       └───┘      └─────────────┘  └────────┘     └────┘    └─────────┘                            └────┘     └─────────┘                     └────┘                       └───┘      └───────────┘ └─────────────┘   └────┘  └─────────┘                └────┘    └─────────┘                    └────┘                       └───┘      └─────────────┘  └────────┘     └────┘    └─────────┘                           └────┘    └─────────┘                   └────┘                      └───┘      └───────────┘ └─────────────┘   └────┘   └─────────┘               └────┘   └─────────┘                  └────┘                      └───┘      └─────────────┘ └────────┘     └────┘    └─────────┘                         └────┘   └─────────┘                 └────┘                  └───┘      └───────────┘ └─────────────┘  └────┘  └─────────┘        └────┘   └─────────┘         └────┘             └───┘      └─────────────┘ └──────────┘└────┘└─────────┘        └────┘   └─────────┘        └────┘        └───┘└───────────┘└───┘└──────────┘└───┘└─────────┘└─────────┘└────┘└─────────┘"
      ]
     },
     "execution_count": 118,
     "metadata": {},
     "output_type": "execute_result"
    }
   ],
   "source": [
    "print_qc_characteristics(qc_opt)\n",
    "reduction_ratio = round(100-100*(get_qc_characteristics(qc_opt)['num_multi_qubit_ops']/get_qc_characteristics(qk_qc)['num_multi_qubit_ops']), 3)\n",
    "print(\"Reduction in two-qubit gates compared to qiskit {}%!\".format(reduction_ratio))\n",
    "qc_opt.draw(fold=-1)"
   ]
  },
  {
   "cell_type": "code",
   "execution_count": 119,
   "id": "9e104d11-5fa7-46c3-ab60-280cd4583df7",
   "metadata": {},
   "outputs": [
    {
     "name": "stdout",
     "output_type": "stream",
     "text": [
      "Own transpiler fidelity 0.2989\n",
      "Qiskit transpiler fidelity 0.6651\n",
      "Own optimized transpiler fidelity 0.9163\n"
     ]
    }
   ],
   "source": [
    "opt_transpiler_sim = noisy_sim(qc_opt, backend)\n",
    "\n",
    "print(\"Own transpiler fidelity\", round(hellinger_fidelity(own_transpiler_sim, reference_sim), 4))\n",
    "print(\"Qiskit transpiler fidelity\", round(hellinger_fidelity(qiskit_transpiler_sim, reference_sim), 4))\n",
    "print(\"Own optimized transpiler fidelity\", round(hellinger_fidelity(opt_transpiler_sim, reference_sim), 4))"
   ]
  },
  {
   "cell_type": "markdown",
   "id": "09f81b7f-2968-4a49-bc9a-d1000b8ee900",
   "metadata": {},
   "source": [
    "As you can see the reduction in quantum circuit size achieved by your pass manager had a significant impact on the expected fidelity of the quantum circuit execution!"
   ]
  },
  {
   "cell_type": "markdown",
   "id": "4a5e314f-558d-4201-a380-73f88bdaec08",
   "metadata": {},
   "source": [
    "#### Optional: Scaling-up Transpilation\n",
    "\n",
    "When scaled up to one of the new 133-qubit Heron quantum computers, the reduction in two-qubit quantum gates may even be higher.\n",
    "Adapt the developed `pm_opt` pass manager for a 133-qubit Heron quantum computer and run it on a 100-qubit QFT quantum circuit.\n",
    "Check out the [IBM Quantum roadmap](https://www.ibm.com/roadmaps/quantum/) to see how much earlier the quantum circuit generated by your pass manager is expected to be executable compared to the quantum circuit yielded by Qiskit's default transpilation!"
   ]
  },
  {
   "cell_type": "code",
   "execution_count": null,
   "id": "1a6270ef-9e3e-4f1e-9fe9-f10fe7b6e8fd",
   "metadata": {},
   "outputs": [],
   "source": [
    "# Your work here! (optional!)"
   ]
  },
  {
   "cell_type": "code",
   "execution_count": 120,
   "id": "61d75c49-9ad5-4493-95b5-a99f353bedc0",
   "metadata": {},
   "outputs": [
    {
     "ename": "AttributeError",
     "evalue": "'NoneType' object has no attribute 'run'",
     "output_type": "error",
     "traceback": [
      "\u001b[0;31m---------------------------------------------------------------------------\u001b[0m",
      "\u001b[0;31mAttributeError\u001b[0m                            Traceback (most recent call last)",
      "Cell \u001b[0;32mIn[120], line 8\u001b[0m\n\u001b[1;32m      5\u001b[0m target_backend \u001b[38;5;241m=\u001b[39m \u001b[38;5;28;01mNone\u001b[39;00m\n\u001b[1;32m      7\u001b[0m pm_student \u001b[38;5;241m=\u001b[39m \u001b[38;5;28;01mNone\u001b[39;00m\n\u001b[0;32m----> 8\u001b[0m qc_student \u001b[38;5;241m=\u001b[39m \u001b[43mpm_student\u001b[49m\u001b[38;5;241;43m.\u001b[39;49m\u001b[43mrun\u001b[49m(qc)\n\u001b[1;32m      9\u001b[0m qc_qiskit \u001b[38;5;241m=\u001b[39m generate_preset_pass_manager(\u001b[38;5;241m2\u001b[39m, backend\u001b[38;5;241m=\u001b[39mtarget_backend)\u001b[38;5;241m.\u001b[39mrun(qc)\n\u001b[1;32m     10\u001b[0m reduction_ratio \u001b[38;5;241m=\u001b[39m \u001b[38;5;28mround\u001b[39m(\u001b[38;5;241m100\u001b[39m\u001b[38;5;241m-\u001b[39m\u001b[38;5;241m100\u001b[39m\u001b[38;5;241m*\u001b[39m(get_qc_characteristics(qc_student)[\u001b[38;5;124m'\u001b[39m\u001b[38;5;124mnum_multi_qubit_ops\u001b[39m\u001b[38;5;124m'\u001b[39m]\u001b[38;5;241m/\u001b[39mget_qc_characteristics(qc_qiskit)[\u001b[38;5;124m'\u001b[39m\u001b[38;5;124mnum_multi_qubit_ops\u001b[39m\u001b[38;5;124m'\u001b[39m]), \u001b[38;5;241m3\u001b[39m)\n",
      "\u001b[0;31mAttributeError\u001b[0m: 'NoneType' object has no attribute 'run'"
     ]
    }
   ],
   "source": [
    "# grade your work!\n",
    "num_qubits = 100\n",
    "qc = QFT(num_qubits, do_swaps=False)\n",
    "# Define a backend whose basis gate set and coupling map corresponds to a 133-qubit Heron quantum computer\n",
    "target_backend = None\n",
    "\n",
    "pm_student = None\n",
    "qc_student = pm_student.run(qc)\n",
    "qc_qiskit = generate_preset_pass_manager(2, backend=target_backend).run(qc)\n",
    "reduction_ratio = round(100-100*(get_qc_characteristics(qc_student)['num_multi_qubit_ops']/get_qc_characteristics(qc_qiskit)['num_multi_qubit_ops']), 3)\n",
    "\n",
    "print(\"Reduction in two-qubit gates compared to qiskit {}%!\".format(reduction_ratio))\n",
    "print(\"N-qubit gates generated by Qiskit's default pass manager:\", get_qc_characteristics(qc_qiskit)['num_multi_qubit_ops'])\n",
    "print(\"N-qubit gates generated by your pass manager\", get_qc_characteristics(qc_student)['num_multi_qubit_ops'])"
   ]
  },
  {
   "cell_type": "markdown",
   "id": "d445ec08-da99-4ca5-a22d-98e9586834ae",
   "metadata": {},
   "source": [
    "### Part 3: Develop Transpiler Passes\n",
    "In this exercise we will extend the transpilation capabilities of qiskit by developing our own transpiler passes!\n",
    "When a transpiler pass is part of Qiskit, other users can include them in their custom transpiler to yield hardware-compliant quantum circuits with reduced size as in the previous exercise.\n",
    "Transpiler passes are roughly divided into analysis passes that determine a property or quantity of a given quantum circuit and transformation passes that transform (or modify) a given quantum circuit.\n",
    "\n",
    "In general, transpiler passes perform computations on a graph data structure called the `DAGCircuit` and store information in a `property_set`.\n",
    "Transformation passes return a `DAGCircuit` while analysis passes only store the determined information in a `property_set` without returning a `DAGCircuit`.\n",
    "\n",
    "The documentation on `DAGCircuit` is available on:\n",
    "* https://docs.quantum.ibm.com/api/qiskit/qiskit.dagcircuit.DAGCircuit\n",
    "* https://www.rustworkx.org/tutorial/dags.html\n",
    "* https://github.com/Qiskit/qiskit-tutorials/blob/master/tutorials/circuits_advanced/04_transpiler_passes_and_passmanager.ipynb\n",
    "  \n",
    "For the remaining exercises, we will specifically need the methods in `DAGCircuit` that allow to iterate over the content of the `DAGCircuit` and methods that allow to substitute parts of the `DAGCircuit`.\n",
    "For documentation on the `property_set`, see https://docs.quantum.ibm.com/api/qiskit/qiskit.passmanager.PropertySet and for documentation on creating custom transpiler passes, see https://docs.quantum.ibm.com/transpile/custom-transpiler-pass.\n"
   ]
  },
  {
   "cell_type": "markdown",
   "id": "6676ae6c-7267-4139-b37b-abbf0fed4f76",
   "metadata": {},
   "source": [
    "#### Exercise 3a: Develop an Analysis Pass\n",
    "\n",
    "Let's start with a analysis pass that determines the number of two-qubit gates and single-qubit gates on each qubit and stores this in the `property_set` using the keys `\"one_q_op\"` and `\"two_q_op\"` respectively. For each of these keys, one dictionary should be added at `property_set[\"one_q_op\"]` and `property_set[\"two_q_op\"]` where a dictionary contains each qubit as a key and the respective gate count of the qubit as a value, i.e. the type of both dictionaries should be `Dict[Qubit, int]`.\n"
   ]
  },
  {
   "cell_type": "code",
   "execution_count": 169,
   "id": "2cc2f5a9-9e7b-4379-ad81-6ca024dab8ff",
   "metadata": {},
   "outputs": [],
   "source": [
    "class GatesPerQubit(AnalysisPass):\n",
    "    def __init__(self):\n",
    "        super().__init__()\n",
    "\n",
    "    def run(self, dag):\n",
    "        one_q_op = {}\n",
    "        two_q_op = {}\n",
    "\n",
    "        for node in dag.op_nodes():\n",
    "            if len(node.qargs) == 1:\n",
    "                qubit = node.qargs[0]\n",
    "                if qubit not in one_q_op:\n",
    "                    one_q_op[qubit] = 0 \n",
    "                one_q_op[qubit] += 1\n",
    "            elif len(node.qargs) == 2:\n",
    "                for qubit in node.qargs:\n",
    "                    if qubit not in two_q_op:\n",
    "                        two_q_op[qubit] = 0\n",
    "                    two_q_op[qubit] += 1\n",
    "\n",
    "        self.property_set['one_q_op'] = one_q_op\n",
    "        self.property_set['two_q_op'] = two_q_op\n"
   ]
  },
  {
   "cell_type": "code",
   "execution_count": 170,
   "id": "58af59e0-eb4a-4108-87cb-5fc8709dce49",
   "metadata": {},
   "outputs": [
    {
     "name": "stdout",
     "output_type": "stream",
     "text": [
      "Submitting your answer. Please wait...\n",
      "Congratulations 🎉! Your answer is correct and has been submitted.\n"
     ]
    }
   ],
   "source": [
    "# grade your work!\n",
    "grade_lab1_ex6(GatesPerQubit)"
   ]
  },
  {
   "cell_type": "markdown",
   "id": "589d38e4-d36e-47d2-97e0-f621efe451aa",
   "metadata": {},
   "source": [
    "We can now apply your new analysis pass to a transpiled QFT circuit and print the number of two-qubit and single-qubit gates on each qubit."
   ]
  },
  {
   "cell_type": "code",
   "execution_count": 171,
   "id": "f6f87218-2e1b-47cb-9dc1-be352222b1fb",
   "metadata": {},
   "outputs": [
    {
     "name": "stdout",
     "output_type": "stream",
     "text": [
      "single-qubit gates on qubit {Qubit(QuantumRegister(10, 'q'), 5): 3, Qubit(QuantumRegister(10, 'q'), 7): 4, Qubit(QuantumRegister(10, 'q'), 9): 6, Qubit(QuantumRegister(10, 'q'), 6): 8}\n",
      "two-qubit gates on qubit {Qubit(QuantumRegister(10, 'q'), 5): 6, Qubit(QuantumRegister(10, 'q'), 7): 6, Qubit(QuantumRegister(10, 'q'), 9): 6, Qubit(QuantumRegister(10, 'q'), 6): 6}\n"
     ]
    },
    {
     "data": {
      "text/html": [
       "<pre style=\"word-wrap: normal;white-space: pre;background: #fff0;line-height: 1.1;font-family: &quot;Courier New&quot;,Courier,monospace\">global phase: 0\n",
       "         ┌─────────┐┌────┐┌────────────┐                                                                                                                                                                                                                      \n",
       "q_3 -> 5 ┤ Rz(π/2) ├┤ √X ├┤ Rz(15π/16) ├──■────────────────■────────────────■────────────────────────────■───────■───────────────────────■────────────────────────────────────────────────────────────────────────────────────────────────────────────────────\n",
       "         └─────────┘└────┘└────────────┘  │                │                │                            │     ┌─┴─┐   ┌───────────┐   ┌─┴─┐    ┌──────────┐   ┌───┐    ┌──────────┐   ┌───┐    ┌─────────┐┌───┐┌──────────┐┌───┐┌──────────┐┌────┐┌─────────┐\n",
       "q_0 -> 6 ─────────────────────────────────┼────────────────┼────────────────┼────────────────────────────┼─────┤ X ├───┤ Rz(-π/16) ├───┤ X ├────┤ Rz(π/16) ├───┤ X ├────┤ Rz(-π/8) ├───┤ X ├────┤ Rz(π/8) ├┤ X ├┤ Rz(-π/4) ├┤ X ├┤ Rz(3π/4) ├┤ √X ├┤ Rz(π/2) ├\n",
       "                                        ┌─┴─┐┌──────────┐┌─┴─┐┌──────────┐  │     ┌────┐   ┌──────────┐  │     └───┘   └───────────┘   └───┘    └──────────┘   └─┬─┘    └──────────┘   └─┬─┘    └─────────┘└─┬─┘└──────────┘└─┬─┘└──────────┘└────┘└─────────┘\n",
       "q_2 -> 7 ───────────────────────────────┤ X ├┤ Rz(-π/4) ├┤ X ├┤ Rz(3π/4) ├──┼─────┤ √X ├───┤ Rz(7π/8) ├──┼───────────────────■───────────────────────■───────────■───────────────────────■───────────────────┼────────────────┼───────────────────────────────\n",
       "                                        └───┘└──────────┘└───┘└──────────┘┌─┴─┐┌──┴────┴──┐└──────────┘┌─┴─┐┌─────────┐    ┌─┴─┐    ┌──────────┐   ┌─┴─┐    ┌──────────┐   ┌────┐   ┌──────────┐             │                │                               \n",
       "q_1 -> 9 ─────────────────────────────────────────────────────────────────┤ X ├┤ Rz(-π/8) ├────────────┤ X ├┤ Rz(π/8) ├────┤ X ├────┤ Rz(-π/4) ├───┤ X ├────┤ Rz(3π/4) ├───┤ √X ├───┤ Rz(3π/4) ├─────────────■────────────────■───────────────────────────────\n",
       "                                                                          └───┘└──────────┘            └───┘└─────────┘    └───┘    └──────────┘   └───┘    └──────────┘   └────┘   └──────────┘                                                              </pre>"
      ],
      "text/plain": [
       "global phase: 0\n",
       "         ┌─────────┐┌────┐┌────────────┐                                                                                                                                                                                                                      \n",
       "q_3 -> 5 ┤ Rz(π/2) ├┤ √X ├┤ Rz(15π/16) ├──■────────────────■────────────────■────────────────────────────■───────■───────────────────────■────────────────────────────────────────────────────────────────────────────────────────────────────────────────────\n",
       "         └─────────┘└────┘└────────────┘  │                │                │                            │     ┌─┴─┐   ┌───────────┐   ┌─┴─┐    ┌──────────┐   ┌───┐    ┌──────────┐   ┌───┐    ┌─────────┐┌───┐┌──────────┐┌───┐┌──────────┐┌────┐┌─────────┐\n",
       "q_0 -> 6 ─────────────────────────────────┼────────────────┼────────────────┼────────────────────────────┼─────┤ X ├───┤ Rz(-π/16) ├───┤ X ├────┤ Rz(π/16) ├───┤ X ├────┤ Rz(-π/8) ├───┤ X ├────┤ Rz(π/8) ├┤ X ├┤ Rz(-π/4) ├┤ X ├┤ Rz(3π/4) ├┤ √X ├┤ Rz(π/2) ├\n",
       "                                        ┌─┴─┐┌──────────┐┌─┴─┐┌──────────┐  │     ┌────┐   ┌──────────┐  │     └───┘   └───────────┘   └───┘    └──────────┘   └─┬─┘    └──────────┘   └─┬─┘    └─────────┘└─┬─┘└──────────┘└─┬─┘└──────────┘└────┘└─────────┘\n",
       "q_2 -> 7 ───────────────────────────────┤ X ├┤ Rz(-π/4) ├┤ X ├┤ Rz(3π/4) ├──┼─────┤ √X ├───┤ Rz(7π/8) ├──┼───────────────────■───────────────────────■───────────■───────────────────────■───────────────────┼────────────────┼───────────────────────────────\n",
       "                                        └───┘└──────────┘└───┘└──────────┘┌─┴─┐┌──┴────┴──┐└──────────┘┌─┴─┐┌─────────┐    ┌─┴─┐    ┌──────────┐   ┌─┴─┐    ┌──────────┐   ┌────┐   ┌──────────┐             │                │                               \n",
       "q_1 -> 9 ─────────────────────────────────────────────────────────────────┤ X ├┤ Rz(-π/8) ├────────────┤ X ├┤ Rz(π/8) ├────┤ X ├────┤ Rz(-π/4) ├───┤ X ├────┤ Rz(3π/4) ├───┤ √X ├───┤ Rz(3π/4) ├─────────────■────────────────■───────────────────────────────\n",
       "                                                                          └───┘└──────────┘            └───┘└─────────┘    └───┘    └──────────┘   └───┘    └──────────┘   └────┘   └──────────┘                                                              "
      ]
     },
     "execution_count": 171,
     "metadata": {},
     "output_type": "execute_result"
    }
   ],
   "source": [
    "qc = QFT(4, do_swaps=False)\n",
    "qc = generate_preset_pass_manager(2, backend=backend).run(qc)\n",
    "gpq = GatesPerQubit()\n",
    "gpq(qc)\n",
    "print(\"single-qubit gates on qubit\", gpq.property_set[\"one_q_op\"])\n",
    "print(\"two-qubit gates on qubit\", gpq.property_set[\"two_q_op\"])\n",
    "qc.draw(fold=-1, idle_wires=False)"
   ]
  },
  {
   "cell_type": "markdown",
   "id": "b9566c9d-e5f5-4268-8fdd-52df0f16dcdd",
   "metadata": {},
   "source": [
    "Next, we not only want to gather information about a quantum circuit but also transform it in a way that makes it hardware-compliant with an IBM quantum computer.\n",
    "#### Exercise 3b: Develop a Transformation Pass\n",
    "We will develop a `TransformationPass` in this exercise to define a quantum circuit transformation and run it on a certain input circuit that includes 'Peres' quantum gates.\n",
    "Peres quantum gates can not be executed directly on an IBM quantum computer and are not included in Qiskit by default.\n",
    "Instead, they must be replaced in the input quantum circuit by gates from the basis gate set of the target quantum computer, i.e. `backend.operation_names=['cx', 'id', 'rz', 'sx', 'x', 'reset', 'delay', 'measure']`.\n",
    "\n",
    "The 'Peres' quantum gate (_PG_) is defined on three qubits as"
   ]
  },
  {
   "cell_type": "markdown",
   "id": "8842c64b-9b0c-4a91-9d27-3444bcff2753",
   "metadata": {},
   "source": [
    "$PG = \\left({\\begin{array}{cc}1 & 0 & 0 & 0 & 0 & 0 & 0 & 0\\\\0 & 1 & 0 & 0 & 0 & 0 & 0 & 0\\\\0 & 0 & 1 & 0 & 0 & 0 & 0 & 0\\\\0 & 0 & 0 & 1 & 0 & 0 & 0 & 0\\\\0 & 0 & 0 & 0 & 0 & 0 & 0 & 1\\\\0 & 0 & 0 & 0 & 0 & 0 & 1 & 0\\\\0 & 0 & 0 & 0 & 1 & 0 & 0 & 0\\\\0 & 0 & 0 & 0 & 0 & 1 & 0 & 0\\\\\\end{array}}\\right)$\n"
   ]
  },
  {
   "cell_type": "markdown",
   "id": "6ff62b3e-4f4e-4b20-bbea-fb8d77726378",
   "metadata": {},
   "source": [
    "and within Qiskit as a `Gate` object as"
   ]
  },
  {
   "cell_type": "code",
   "execution_count": 172,
   "id": "df0e4143-8623-45b2-9b51-a21cbe3119db",
   "metadata": {},
   "outputs": [],
   "source": [
    "pg = Gate('Peres', 3, params=[], label='PG')"
   ]
  },
  {
   "cell_type": "markdown",
   "id": "4284fb37-7709-4851-98a6-c6a2cd57bb1c",
   "metadata": {},
   "source": [
    "with the following visualization."
   ]
  },
  {
   "cell_type": "code",
   "execution_count": 173,
   "id": "0a7d024d-362b-4c49-b84b-2037e91017df",
   "metadata": {},
   "outputs": [
    {
     "data": {
      "text/html": [
       "<pre style=\"word-wrap: normal;white-space: pre;background: #fff0;line-height: 1.1;font-family: &quot;Courier New&quot;,Courier,monospace\">     ┌─────┐\n",
       "q_0: ┤0    ├\n",
       "     │     │\n",
       "q_1: ┤1 PG ├\n",
       "     │     │\n",
       "q_2: ┤2    ├\n",
       "     └─────┘</pre>"
      ],
      "text/plain": [
       "     ┌─────┐\n",
       "q_0: ┤0    ├\n",
       "     │     │\n",
       "q_1: ┤1 PG ├\n",
       "     │     │\n",
       "q_2: ┤2    ├\n",
       "     └─────┘"
      ]
     },
     "execution_count": 173,
     "metadata": {},
     "output_type": "execute_result"
    }
   ],
   "source": [
    "qc_pg = QuantumCircuit(3)\n",
    "qc_pg.append(pg, [0, 1, 2])\n",
    "qc_pg.draw()"
   ]
  },
  {
   "cell_type": "markdown",
   "id": "9801f950-2436-47ae-a8d9-10712329719f",
   "metadata": {},
   "source": [
    "The input quantum circuit `qc_in` for this exercise is defined by:"
   ]
  },
  {
   "cell_type": "code",
   "execution_count": 174,
   "id": "62502af8-4c59-4662-b788-3ca73d1c81d7",
   "metadata": {},
   "outputs": [
    {
     "data": {
      "text/html": [
       "<pre style=\"word-wrap: normal;white-space: pre;background: #fff0;line-height: 1.1;font-family: &quot;Courier New&quot;,Courier,monospace\">     ┌──────┐          ┌───┐                                 ┌─────┐          ┌───┐               ┌───────┐\n",
       "q_0: ┤0     ├──■───────┤ X ├───────■─────────────────────────┤0    ├──■───────┤ X ├───────■───────┤0      ├\n",
       "     │      │  │       └─┬─┘┌───┐  │                  ┌─────┐│     │  │       └─┬─┘┌───┐  │       │       │\n",
       "q_1: ┤1     ├──┼────■────┼──┤ X ├──┼──────■───────────┤0    ├┤1    ├──┼────■────┼──┤ X ├──┼────■──┤1      ├\n",
       "     │      │  │    │    │  └─┬─┘  │      │    ┌─────┐│     ││     │  │    │    │  └─┬─┘  │    │  │       │\n",
       "q_2: ┤2 QFT ├──┼────┼────┼────┼────┼──────┼────┤0    ├┤1    ├┤  PG ├──┼────┼────┼────┼────┼────┼──┤2 IQFT ├\n",
       "     │      │  │  ┌─┴─┐  │    │    │    ┌─┴─┐  │     ││  PG ││     │  │  ┌─┴─┐  │    │    │  ┌─┴─┐│       │\n",
       "q_3: ┤3     ├──┼──┤ X ├──┼────■────┼────┤ X ├──┤1 PG ├┤     ├┤     ├──┼──┤ X ├──┼────■────┼──┤ X ├┤3      ├\n",
       "     │      │┌─┴─┐└───┘  │       ┌─┴─┐┌─┴───┴─┐│     ││     ││     │┌─┴─┐└───┘  │       ┌─┴─┐└───┘│       │\n",
       "q_4: ┤4     ├┤ X ├───────■───────┤ X ├┤ Rz(π) ├┤2    ├┤2    ├┤2    ├┤ X ├───────■───────┤ X ├─────┤4      ├\n",
       "     └──────┘└───┘               └───┘└───────┘└─────┘└─────┘└─────┘└───┘               └───┘     └───────┘</pre>"
      ],
      "text/plain": [
       "     ┌──────┐          ┌───┐                                 ┌─────┐          ┌───┐               ┌───────┐\n",
       "q_0: ┤0     ├──■───────┤ X ├───────■─────────────────────────┤0    ├──■───────┤ X ├───────■───────┤0      ├\n",
       "     │      │  │       └─┬─┘┌───┐  │                  ┌─────┐│     │  │       └─┬─┘┌───┐  │       │       │\n",
       "q_1: ┤1     ├──┼────■────┼──┤ X ├──┼──────■───────────┤0    ├┤1    ├──┼────■────┼──┤ X ├──┼────■──┤1      ├\n",
       "     │      │  │    │    │  └─┬─┘  │      │    ┌─────┐│     ││     │  │    │    │  └─┬─┘  │    │  │       │\n",
       "q_2: ┤2 QFT ├──┼────┼────┼────┼────┼──────┼────┤0    ├┤1    ├┤  PG ├──┼────┼────┼────┼────┼────┼──┤2 IQFT ├\n",
       "     │      │  │  ┌─┴─┐  │    │    │    ┌─┴─┐  │     ││  PG ││     │  │  ┌─┴─┐  │    │    │  ┌─┴─┐│       │\n",
       "q_3: ┤3     ├──┼──┤ X ├──┼────■────┼────┤ X ├──┤1 PG ├┤     ├┤     ├──┼──┤ X ├──┼────■────┼──┤ X ├┤3      ├\n",
       "     │      │┌─┴─┐└───┘  │       ┌─┴─┐┌─┴───┴─┐│     ││     ││     │┌─┴─┐└───┘  │       ┌─┴─┐└───┘│       │\n",
       "q_4: ┤4     ├┤ X ├───────■───────┤ X ├┤ Rz(π) ├┤2    ├┤2    ├┤2    ├┤ X ├───────■───────┤ X ├─────┤4      ├\n",
       "     └──────┘└───┘               └───┘└───────┘└─────┘└─────┘└─────┘└───┘               └───┘     └───────┘"
      ]
     },
     "execution_count": 174,
     "metadata": {},
     "output_type": "execute_result"
    }
   ],
   "source": [
    "def get_qc_in(nq):\n",
    "    # QFT circuit, feel free to use a previously defined pass manager for the QFT circuit \n",
    "    qc_qft = QFT(nq, do_swaps=False)\n",
    "    # part of the circuit including the Peres gate\n",
    "    qc_inner = QuantumCircuit(nq)\n",
    "    for i in range(1, nq-1):\n",
    "        qc_inner.append(pg, [nq-i-2, nq-i-1, nq-1])\n",
    "    \n",
    "    qc_in = QuantumCircuit(nq)\n",
    "    # add QFT circuit to qc_in\n",
    "    qc_in.compose(qc_qft, range(nq), inplace=True)\n",
    "\n",
    "    # perform swap gates\n",
    "    for i in range(nq // 2):       \n",
    "        qc_in.cx(i, nq - i - 1)\n",
    "        qc_in.cx( nq - i - 1, i)\n",
    "        qc_in.cx(i, nq - i - 1)\n",
    "        \n",
    "    qc_in.rz(pi, nq-1)\n",
    "    # add circuit with peres gates\n",
    "    qc_in.compose(qc_inner, range(nq), inplace=True)\n",
    "    \n",
    "    # perform swap gates\n",
    "    for i in range(nq // 2):\n",
    "        qc_in.cx(i, nq - i - 1)\n",
    "        qc_in.cx( nq - i - 1, i)\n",
    "        qc_in.cx(i, nq - i - 1)\n",
    "    # add inverse QFT circuit\n",
    "    qc_in.compose(qc_qft.inverse(), range(nq), inplace=True)\n",
    "    return qc_in\n",
    "\n",
    "nq = 5\n",
    "qc_in = get_qc_in(nq)\n",
    "qc_in.draw(fold=-1)"
   ]
  },
  {
   "cell_type": "markdown",
   "id": "719df5f0-5676-4a78-8078-1953ad5f25d5",
   "metadata": {},
   "source": [
    "where *PG* is the Peres gate, *QFT* is the quantum Fourier tranformation circuit introduced in this lab and *IQFT* is its inverse (accessible via `qc.inverse()`)."
   ]
  },
  {
   "cell_type": "markdown",
   "id": "58741558-373f-482b-a05c-b34dc57d082b",
   "metadata": {},
   "source": [
    "In the previous exercises, we investigated how to make the QFT circuit compliant to the basis gate set of a target quantum computer. In this exercise, we will develop a transformation pass for the remaining gates of `qc_in`. Use the decomposition in method `get_peres_decomposition` to develop the `TransformationPass`."
   ]
  },
  {
   "cell_type": "code",
   "execution_count": 190,
   "id": "f28e7f7c-ae8a-4077-a9b4-001a16bf639e",
   "metadata": {},
   "outputs": [],
   "source": [
    "class PeresGateTranslation(TransformationPass):\n",
    "    def get_peres_decomposition(self):\n",
    "        qcsx = QuantumCircuit(2)\n",
    "        qcsx.rz(pi / 4, 0)\n",
    "        qcsx.rz(pi / 2, 1)\n",
    "        qcsx.sx(1)\n",
    "        qcsx.rz(pi / 2, 1)\n",
    "        qcsx.cx(0, 1)\n",
    "        qcsx.rz(-pi / 4, 1)\n",
    "        qcsx.cx(0, 1)\n",
    "        qcsx.rz(3 * pi / 4, 1)\n",
    "        qcsx.sx(1)\n",
    "        qcsx.rz(pi / 2, 1)\n",
    "\n",
    "        qcsx_inv = QuantumCircuit(2)\n",
    "        qcsx_inv.rz(pi / 4, 1)\n",
    "        qcsx_inv.cx(0, 1)\n",
    "        qcsx_inv.rz(-pi / 4, 1)\n",
    "        qcsx_inv.cx(0, 1)\n",
    "        qcsx_inv.rz(pi / 2, 0)\n",
    "        qcsx_inv.rz(pi / 2, 1)\n",
    "        qcsx_inv.cx(0, 1)\n",
    "        qcsx_inv.rz(pi / 2, 1)            \n",
    "        qcsx_inv.sx(1)\n",
    "        qcsx_inv.rz(-3 * pi / 4, 1)\n",
    "        qcsx_inv.sx(1)\n",
    "        qcsx_inv.cx(0, 1)\n",
    "        qcsx_inv.sx(1)\n",
    "        qcsx_inv.rz(-3 * pi / 4, 1)\n",
    "        qcsx_inv.sx(1)\n",
    "        qcsx_inv.rz(-3 * pi / 4, 1)\n",
    "        qcsx_inv.cx(0, 1)\n",
    "        qcsx_inv.rz(-pi / 4, 1)\n",
    "        qcsx_inv.cx(0, 1)\n",
    "        qcsx_inv.rz(pi / 4, 0)\n",
    "    \n",
    "        qc_dec = QuantumCircuit(3)\n",
    "        qc_dec.cx(0, 1)\n",
    "        qc_dec.cx(1, 0)\n",
    "        qc_dec.cx(0, 1)\n",
    "        qc_dec.compose(qcsx, [1, 2], inplace=True)\n",
    "        qc_dec.cx(0, 1)\n",
    "        qc_dec.cx(1, 0)\n",
    "        qc_dec.cx(0, 1)\n",
    "        qc_dec.compose(qcsx, [1, 2], inplace=True)\n",
    "        qc_dec.cx(0, 1)\n",
    "        qc_dec.compose(qcsx_inv, [1, 2], inplace=True)\n",
    "        qc_dec.cx(0, 1)\n",
    "        qc_dec.cx(0, 1)\n",
    "        return qc_dec\n",
    "    \n",
    "\n",
    "    def run(self, dag):\n",
    "        for node in dag.op_nodes():\n",
    "            if node.name == 'Peres':\n",
    "                peres_decomp = self.get_peres_decomposition()\n",
    "                dag.substitute_node_with_dag(node, circuit_to_dag(peres_decomp)) \n",
    "\n",
    "        return dag\n",
    "        \n",
    "    # Your work here - make sure you implement every abstract method defined by https://docs.quantum.ibm.com/api/qiskit/qiskit.transpiler.TransformationPass!"
   ]
  },
  {
   "cell_type": "code",
   "execution_count": 191,
   "id": "df9b269e-389f-4370-b215-b9d86ac05dc3",
   "metadata": {},
   "outputs": [
    {
     "name": "stdout",
     "output_type": "stream",
     "text": [
      "Submitting your answer. Please wait...\n",
      "Congratulations 🎉! Your answer is correct and has been submitted.\n"
     ]
    }
   ],
   "source": [
    "# grade your work!\n",
    "grade_lab1_ex7(PeresGateTranslation, pg)"
   ]
  },
  {
   "cell_type": "markdown",
   "id": "6744dc30-1918-43c8-8947-61d7f2be6d2b",
   "metadata": {},
   "source": [
    "Congratulations! You finished Lab 1 of the IBM's Qiskit Global Summer School 2024! 🎉 🎉 🎉"
   ]
  },
  {
   "attachments": {},
   "cell_type": "markdown",
   "id": "ba9c24cc-9b98-45ea-9d15-36837587055b",
   "metadata": {},
   "source": [
    "#### Optional: Quantum Circuit Optimization\n",
    "As a last optional exercise, reduce the overhead of transpiling `qc_in` (the quantum circuit from exercise 3b) for the target quantum computer defined in the last optional exercise with any of the approaches you have been made familiar with during this exercise!"
   ]
  },
  {
   "cell_type": "code",
   "execution_count": null,
   "id": "a0cbcca8-5314-44d1-966b-27c8613c7b46",
   "metadata": {},
   "outputs": [],
   "source": [
    "# Your code here! (Optional!)"
   ]
  },
  {
   "cell_type": "markdown",
   "id": "a967c083-8120-4fe4-91a5-c82c843b6099",
   "metadata": {},
   "source": [
    "Made with ❤ by Sebastian Brandhofer and the Qiskit Developers."
   ]
  },
  {
   "cell_type": "code",
   "execution_count": 2,
   "id": "9b9e5176-86a7-4a1e-ad7f-ac46e020ce23",
   "metadata": {},
   "outputs": [
    {
     "data": {
      "text/html": [
       "<div style='width: 100%; background-color:#d5d9e0;padding-left: 10px; padding-bottom: 10px; padding-right: 10px; padding-top: 5px'><p>&copy; Copyright IBM 2017, 2024.</p><p>This code is licensed under the Apache License, Version 2.0. You may<br>obtain a copy of this license in the LICENSE.txt file in the root directory<br> of this source tree or at http://www.apache.org/licenses/LICENSE-2.0.<p>Any modifications or derivative works of this code must retain this<br>copyright notice, and modified files need to carry a notice indicating<br>that they have been altered from the originals.</p></div>"
      ],
      "text/plain": [
       "<IPython.core.display.HTML object>"
      ]
     },
     "metadata": {},
     "output_type": "display_data"
    }
   ],
   "source": [
    "import datetime\n",
    "from IPython.display import HTML, display\n",
    "\n",
    "\n",
    "def qiskit_copyright(line=\"\", cell=None):\n",
    "    \"\"\"IBM copyright\"\"\"\n",
    "    now = datetime.datetime.now()\n",
    "\n",
    "    html = \"<div style='width: 100%; background-color:#d5d9e0;\"\n",
    "    html += \"padding-left: 10px; padding-bottom: 10px; padding-right: 10px; padding-top: 5px'>\"\n",
    "    html += \"<p>&copy; Copyright IBM 2017, %s.</p>\" % now.year\n",
    "    html += \"<p>This code is licensed under the Apache License, Version 2.0. You may<br>\"\n",
    "    html += \"obtain a copy of this license in the LICENSE.txt file in the root directory<br> \"\n",
    "    html += \"of this source tree or at http://www.apache.org/licenses/LICENSE-2.0.\"\n",
    "\n",
    "    html += \"<p>Any modifications or derivative works of this code must retain this<br>\"\n",
    "    html += \"copyright notice, and modified files need to carry a notice indicating<br>\"\n",
    "    html += \"that they have been altered from the originals.</p>\"\n",
    "    html += \"</div>\"\n",
    "    return display(HTML(html))\n",
    "\n",
    "\n",
    "qiskit_copyright()"
   ]
  }
 ],
 "metadata": {
  "kernelspec": {
   "display_name": "Python 3 (ipykernel)",
   "language": "python",
   "name": "python3"
  },
  "language_info": {
   "codemirror_mode": {
    "name": "ipython",
    "version": 3
   },
   "file_extension": ".py",
   "mimetype": "text/x-python",
   "name": "python",
   "nbconvert_exporter": "python",
   "pygments_lexer": "ipython3",
   "version": "3.10.14"
  }
 },
 "nbformat": 4,
 "nbformat_minor": 5
}
